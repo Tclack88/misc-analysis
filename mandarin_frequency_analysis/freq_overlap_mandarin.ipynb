{
  "nbformat": 4,
  "nbformat_minor": 0,
  "metadata": {
    "colab": {
      "name": "freq_overlap_mandarin.ipynb",
      "provenance": [],
      "authorship_tag": "ABX9TyN55ziCshabuQWI46agF2uZ",
      "include_colab_link": true
    },
    "kernelspec": {
      "name": "python3",
      "display_name": "Python 3"
    },
    "language_info": {
      "name": "python"
    }
  },
  "cells": [
    {
      "cell_type": "markdown",
      "metadata": {
        "id": "view-in-github",
        "colab_type": "text"
      },
      "source": [
        "<a href=\"https://colab.research.google.com/github/Tclack88/misc-analysis/blob/main/mandarin_frequency_analysis/freq_overlap_mandarin.ipynb\" target=\"_parent\"><img src=\"https://colab.research.google.com/assets/colab-badge.svg\" alt=\"Open In Colab\"/></a>"
      ]
    },
    {
      "cell_type": "code",
      "metadata": {
        "id": "QqkPyqCOAcjG"
      },
      "source": [
        "# sources:  refold: https://drive.google.com/drive/folders/1HyLEQlqm3IJ3tREVAw3n97kMtDCQCb_D?usp=sharing\n",
        "#           heisig: https://docs.google.com/spreadsheets/d/1azf6QcVXt_UMXJJPo06TXNLDli4BL7hbUfPO83cF7HA/htmlview\n",
        "#           frequency: https://lingua.mtsu.edu/chinese-computing/statistics/  # not used. Wiki is used instead\n",
        "refold_data = \"https://raw.githubusercontent.com/Tclack88/misc-analysis/main/mandarin_frequency_analysis/refold_1k.txt\"\n",
        "heisig_data1 = \"https://raw.githubusercontent.com/Tclack88/misc-analysis/main/mandarin_frequency_analysis/heisig1.csv\"\n",
        "heisig_data2 = \"https://raw.githubusercontent.com/Tclack88/misc-analysis/main/mandarin_frequency_analysis/heisig2.csv\"\n",
        "frequency_data = \"https://raw.githubusercontent.com/Tclack88/misc-analysis/main/mandarin_frequency_analysis/charfreq_modern.csv\""
      ],
      "execution_count": 1,
      "outputs": []
    },
    {
      "cell_type": "code",
      "metadata": {
        "id": "EWG9YygPAyIM"
      },
      "source": [
        "import pandas as pd"
      ],
      "execution_count": 2,
      "outputs": []
    },
    {
      "cell_type": "markdown",
      "metadata": {
        "id": "osxKdYGKZVe7"
      },
      "source": [
        "# Frequency lists (words and chars)"
      ]
    },
    {
      "cell_type": "markdown",
      "metadata": {
        "id": "eGV68AFEYMDn"
      },
      "source": [
        "## refold (words)\n",
        "first 1000 HSK"
      ]
    },
    {
      "cell_type": "code",
      "metadata": {
        "colab": {
          "base_uri": "https://localhost:8080/"
        },
        "id": "53fCmMYFAz-_",
        "outputId": "df3bbde9-7bc3-4b24-d293-4d5c48fe6a79"
      },
      "source": [
        "refold_words = pd.read_csv(refold_data, delimiter='\\t', header=None)[1]\n",
        "refold_words.head()"
      ],
      "execution_count": 3,
      "outputs": [
        {
          "output_type": "execute_result",
          "data": {
            "text/plain": [
              "0    的\n",
              "1    我\n",
              "2    你\n",
              "3    是\n",
              "4    了\n",
              "Name: 1, dtype: object"
            ]
          },
          "metadata": {},
          "execution_count": 3
        }
      ]
    },
    {
      "cell_type": "markdown",
      "metadata": {
        "id": "jOLAfDHoYQEd"
      },
      "source": [
        "## heisig (characters, not words)\n",
        "(~3000 chars)\n"
      ]
    },
    {
      "cell_type": "code",
      "metadata": {
        "colab": {
          "base_uri": "https://localhost:8080/"
        },
        "id": "TMp4ODjFA3Jl",
        "outputId": "6951cba7-2115-4d70-87dc-e47b015a1785"
      },
      "source": [
        "heisig_words1 = pd.read_csv(heisig_data1, delimiter='\\t')['Hanzi']\n",
        "print(heisig_words1.head())\n",
        "print(len(heisig_words1),'\\n\\n')\n",
        "heisig_words2 = pd.read_csv(heisig_data2, delimiter=',')['Hanzi']\n",
        "print(heisig_words2.head())\n",
        "print(len(heisig_words2),'\\n\\n')\n",
        "heisig_words = pd.concat([heisig_words1,heisig_words2]).reset_index()['Hanzi']\n",
        "heisig_words.head()\n",
        "print(len(heisig_words))"
      ],
      "execution_count": 5,
      "outputs": [
        {
          "output_type": "stream",
          "name": "stdout",
          "text": [
            "0    一\n",
            "1    二\n",
            "2    三\n",
            "3    四\n",
            "4    五\n",
            "Name: Hanzi, dtype: object\n",
            "1500 \n",
            "\n",
            "\n",
            "0    厉\n",
            "1    状\n",
            "2    逃\n",
            "3    逊\n",
            "4    略\n",
            "Name: Hanzi, dtype: object\n",
            "1545 \n",
            "\n",
            "\n",
            "3045\n"
          ]
        }
      ]
    },
    {
      "cell_type": "markdown",
      "metadata": {
        "id": "nk2sXxCVYa7C"
      },
      "source": [
        "## character frequency (char. not words)\n",
        "(10,000 chars)\n",
        "\n"
      ]
    },
    {
      "cell_type": "code",
      "metadata": {
        "colab": {
          "base_uri": "https://localhost:8080/"
        },
        "id": "_Zo9l1M1D2Af",
        "outputId": "6d03dc59-7fad-4469-b22c-d4e012758594"
      },
      "source": [
        "char_freq = pd.read_csv(frequency_data, delimiter='\\t', header=5)['汉字']\n",
        "char_freq.head()"
      ],
      "execution_count": 6,
      "outputs": [
        {
          "output_type": "execute_result",
          "data": {
            "text/plain": [
              "0    的\n",
              "1    一\n",
              "2    是\n",
              "3    不\n",
              "4    了\n",
              "Name: 汉字, dtype: object"
            ]
          },
          "metadata": {},
          "execution_count": 6
        }
      ]
    },
    {
      "cell_type": "markdown",
      "metadata": {
        "id": "iVDfjmy8Y5JY"
      },
      "source": [
        "## Wiki (word frequency)\n",
        "2 sets of ~1000,so ~2000 (but more can be added)"
      ]
    },
    {
      "cell_type": "code",
      "metadata": {
        "colab": {
          "base_uri": "https://localhost:8080/"
        },
        "id": "Zlh4hXstFNZS",
        "outputId": "7c7b894c-5e82-458f-8591-d4d105ceb6c0"
      },
      "source": [
        "wiki_freq1_dat = \"https://en.wiktionary.org/wiki/Appendix:Mandarin_Frequency_lists/1-1000\"\n",
        "wiki_freq1 = pd.read_html(wiki_freq1_dat)[0].iloc[:,:2].dropna()['Simplified']#[['Traditional','Simiplified','Pinyin']]\n",
        "wiki_freq1.head()"
      ],
      "execution_count": 7,
      "outputs": [
        {
          "output_type": "execute_result",
          "data": {
            "text/plain": [
              "0    一\n",
              "2    在\n",
              "4    有\n",
              "5    个\n",
              "7    我\n",
              "Name: Simplified, dtype: object"
            ]
          },
          "metadata": {},
          "execution_count": 7
        }
      ]
    },
    {
      "cell_type": "code",
      "metadata": {
        "colab": {
          "base_uri": "https://localhost:8080/"
        },
        "id": "6biF8jxmHiPT",
        "outputId": "8a752502-8c18-421d-fe70-0a63fed08e78"
      },
      "source": [
        "wiki_freq2_dat = \"https://en.wiktionary.org/wiki/Appendix:Mandarin_Frequency_lists/1001-2000\"\n",
        "wiki_freq2 = pd.read_html(wiki_freq2_dat)[0].iloc[:,:2].dropna()['Simplified']#[['Traditional','Simiplified','Pinyin']]\n",
        "wiki_freq2.head()"
      ],
      "execution_count": 8,
      "outputs": [
        {
          "output_type": "execute_result",
          "data": {
            "text/plain": [
              "0    回家\n",
              "1    独立\n",
              "2    英国\n",
              "3    投资\n",
              "4    理论\n",
              "Name: Simplified, dtype: object"
            ]
          },
          "metadata": {},
          "execution_count": 8
        }
      ]
    },
    {
      "cell_type": "code",
      "metadata": {
        "colab": {
          "base_uri": "https://localhost:8080/"
        },
        "id": "bfd-1lKBLxwl",
        "outputId": "e32da56e-9244-4912-997f-05d8620c481f"
      },
      "source": [
        "word_frequency = pd.concat([wiki_freq1,wiki_freq2]).reset_index()['Simplified']\n",
        "word_frequency.head()"
      ],
      "execution_count": 9,
      "outputs": [
        {
          "output_type": "execute_result",
          "data": {
            "text/plain": [
              "0    一\n",
              "1    在\n",
              "2    有\n",
              "3    个\n",
              "4    我\n",
              "Name: Simplified, dtype: object"
            ]
          },
          "metadata": {},
          "execution_count": 9
        }
      ]
    },
    {
      "cell_type": "markdown",
      "metadata": {
        "id": "rOKQa4q1ZL51"
      },
      "source": [
        "#Percent overlap"
      ]
    },
    {
      "cell_type": "code",
      "metadata": {
        "colab": {
          "base_uri": "https://localhost:8080/"
        },
        "id": "Mz6Wms7dMaaM",
        "outputId": "05b49bbb-6394-4901-c565-1e4ee1e11552"
      },
      "source": [
        "def basic_percent(source_list, master_list):\n",
        "  total = 0\n",
        "  occurence = 0\n",
        "  for i,source in enumerate(source_list):\n",
        "    # if i % 100 == 0:\n",
        "    #   print(source)\n",
        "    total += 1\n",
        "    if source in master_list:\n",
        "      occurence +=1\n",
        "  print('percent similar:', occurence/total * 100)\n",
        "  print(total)\n",
        "  print(occurence)\n",
        "\n",
        "basic_percent(list(refold_words)[:1000], list(word_frequency)[:1000])"
      ],
      "execution_count": 10,
      "outputs": [
        {
          "output_type": "stream",
          "name": "stdout",
          "text": [
            "percent similar: 45.5\n",
            "1000\n",
            "455\n"
          ]
        }
      ]
    },
    {
      "cell_type": "code",
      "metadata": {
        "id": "iywtezOIQs58",
        "colab": {
          "base_uri": "https://localhost:8080/"
        },
        "outputId": "debf5fba-0264-4aa5-e8bc-82246e4bc6a8"
      },
      "source": [
        "basic_percent(list(heisig_words1)[:], list(char_freq)[:1500])"
      ],
      "execution_count": 16,
      "outputs": [
        {
          "output_type": "stream",
          "name": "stdout",
          "text": [
            "percent similar: 80.46666666666667\n",
            "1500\n",
            "1207\n"
          ]
        }
      ]
    },
    {
      "cell_type": "code",
      "source": [
        "basic_percent((list(heisig_words1)+list(heisig_words2))[:], list(char_freq)[:3045])"
      ],
      "metadata": {
        "id": "I87ImPjLqhX_",
        "outputId": "9213ec39-2d94-4e7c-d17b-7ffb0626a9cb",
        "colab": {
          "base_uri": "https://localhost:8080/"
        }
      },
      "execution_count": 17,
      "outputs": [
        {
          "output_type": "stream",
          "name": "stdout",
          "text": [
            "percent similar: 94.90968801313629\n",
            "3045\n",
            "2890\n"
          ]
        }
      ]
    },
    {
      "cell_type": "markdown",
      "metadata": {
        "id": "8sU1e0CfbMdX"
      },
      "source": [
        "- Heisig1 80.47% similarity to char frequency (equal size 1500:15000)\n",
        "- Heisig 1 + 2 94.91% similar to char frequency list (equal size 3045:3045)"
      ]
    },
    {
      "cell_type": "markdown",
      "metadata": {
        "id": "wqN-4_dG3vi5"
      },
      "source": [
        "## char freq of word lists"
      ]
    },
    {
      "cell_type": "code",
      "metadata": {
        "id": "n10K4Dw0Ca3F"
      },
      "source": [
        "def words2chars(list_in):\n",
        "  words = list(''.join(list_in))\n",
        "  chars = pd.Series(list(set(words)))\n",
        "  return chars\n",
        "\n",
        "refold_chars = words2chars(refold_words)\n",
        "wiki_chars = words2chars(word_frequency)"
      ],
      "execution_count": null,
      "outputs": []
    },
    {
      "cell_type": "code",
      "metadata": {
        "id": "PuCaL4S_8diH",
        "outputId": "db07f26a-c45f-4821-ff4b-b365f3ac4b75",
        "colab": {
          "base_uri": "https://localhost:8080/"
        }
      },
      "source": [
        "char_freq"
      ],
      "execution_count": null,
      "outputs": [
        {
          "output_type": "execute_result",
          "data": {
            "text/plain": [
              "0       的\n",
              "1       一\n",
              "2       是\n",
              "3       不\n",
              "4       了\n",
              "       ..\n",
              "9928    鱀\n",
              "9929    鱄\n",
              "9930    鱓\n",
              "9931    鲖\n",
              "9932    鴒\n",
              "Name: 汉字, Length: 9933, dtype: object"
            ]
          },
          "metadata": {},
          "execution_count": 41
        }
      ]
    },
    {
      "cell_type": "code",
      "metadata": {
        "id": "RbOd17zI4Vvg",
        "outputId": "2a3b4c88-23cf-4a4b-eaac-b12b8a7f88f3",
        "colab": {
          "base_uri": "https://localhost:8080/"
        }
      },
      "source": [
        "basic_percent(list(refold_chars)[:1000], list(char_freq)[:1000])"
      ],
      "execution_count": null,
      "outputs": [
        {
          "output_type": "stream",
          "name": "stdout",
          "text": [
            "percent similar: 75.08269018743108\n",
            "907\n",
            "681\n"
          ]
        }
      ]
    }
  ]
}