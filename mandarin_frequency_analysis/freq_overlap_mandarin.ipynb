{
  "nbformat": 4,
  "nbformat_minor": 0,
  "metadata": {
    "colab": {
      "name": "freq_overlap_mandarin.ipynb",
      "provenance": [],
      "authorship_tag": "ABX9TyO64wkpLXBpElM/SZulKgfk",
      "include_colab_link": true
    },
    "kernelspec": {
      "name": "python3",
      "display_name": "Python 3"
    },
    "language_info": {
      "name": "python"
    }
  },
  "cells": [
    {
      "cell_type": "markdown",
      "metadata": {
        "id": "view-in-github",
        "colab_type": "text"
      },
      "source": [
        "<a href=\"https://colab.research.google.com/github/Tclack88/misc-analysis/blob/main/mandarin_frequency_analysis/freq_overlap_mandarin.ipynb\" target=\"_parent\"><img src=\"https://colab.research.google.com/assets/colab-badge.svg\" alt=\"Open In Colab\"/></a>"
      ]
    },
    {
      "cell_type": "code",
      "metadata": {
        "id": "QqkPyqCOAcjG"
      },
      "source": [
        "# sources:  refold: https://drive.google.com/drive/folders/1HyLEQlqm3IJ3tREVAw3n97kMtDCQCb_D?usp=sharing\n",
        "#           heisig: https://docs.google.com/spreadsheets/d/1azf6QcVXt_UMXJJPo06TXNLDli4BL7hbUfPO83cF7HA/htmlview\n",
        "#           frequency: https://lingua.mtsu.edu/chinese-computing/statistics/  # not used. Wiki is used instead\n",
        "refold_data = \"https://raw.githubusercontent.com/Tclack88/misc-analysis/main/mandarin_frequency_analysis/refold_1k.txt\"\n",
        "heisig_data1 = \"https://raw.githubusercontent.com/Tclack88/misc-analysis/main/mandarin_frequency_analysis/heisig1.csv\"\n",
        "heisig_data2 = \"https://raw.githubusercontent.com/Tclack88/misc-analysis/main/mandarin_frequency_analysis/heisig2.csv\"\n",
        "frequency_data = \"https://raw.githubusercontent.com/Tclack88/misc-analysis/main/mandarin_frequency_analysis/charfreq_modern.csv\""
      ],
      "execution_count": 1,
      "outputs": []
    },
    {
      "cell_type": "code",
      "metadata": {
        "id": "EWG9YygPAyIM"
      },
      "source": [
        "import pandas as pd"
      ],
      "execution_count": 2,
      "outputs": []
    },
    {
      "cell_type": "markdown",
      "metadata": {
        "id": "osxKdYGKZVe7"
      },
      "source": [
        "# Frequency lists (words and chars)"
      ]
    },
    {
      "cell_type": "markdown",
      "metadata": {
        "id": "eGV68AFEYMDn"
      },
      "source": [
        "## refold (words)\n",
        "first 1000 HSK"
      ]
    },
    {
      "cell_type": "code",
      "metadata": {
        "colab": {
          "base_uri": "https://localhost:8080/"
        },
        "id": "53fCmMYFAz-_",
        "outputId": "05ed6042-c7d9-46e1-8dff-b51acdf2fc9e"
      },
      "source": [
        "refold_words = pd.read_csv(refold_data, delimiter='\\t', header=None)[1]\n",
        "refold_words.head()"
      ],
      "execution_count": 3,
      "outputs": [
        {
          "output_type": "execute_result",
          "data": {
            "text/plain": [
              "0    的\n",
              "1    我\n",
              "2    你\n",
              "3    是\n",
              "4    了\n",
              "Name: 1, dtype: object"
            ]
          },
          "metadata": {},
          "execution_count": 3
        }
      ]
    },
    {
      "cell_type": "markdown",
      "metadata": {
        "id": "jOLAfDHoYQEd"
      },
      "source": [
        "## heisig (characters, not words)\n",
        "(~3000 chars)\n"
      ]
    },
    {
      "cell_type": "code",
      "metadata": {
        "colab": {
          "base_uri": "https://localhost:8080/"
        },
        "id": "TMp4ODjFA3Jl",
        "outputId": "be352b1c-a447-48a3-9d4a-424c6a78f7ce"
      },
      "source": [
        "heisig_words1 = pd.read_csv(heisig_data1, delimiter='\\t')['Hanzi']\n",
        "print(heisig_words1.head())\n",
        "print(len(heisig_words1),'\\n\\n')\n",
        "heisig_words2 = pd.read_csv(heisig_data2, delimiter='\\t')['Hanzi']\n",
        "print(heisig_words2.head())\n",
        "print(len(heisig_words2),'\\n\\n')\n",
        "heisig_words = pd.concat([heisig_words1,heisig_words2]).reset_index()['Hanzi']\n",
        "heisig_words.head()\n",
        "print(len(heisig_words))"
      ],
      "execution_count": 37,
      "outputs": [
        {
          "output_type": "stream",
          "name": "stdout",
          "text": [
            "0    一\n",
            "1    二\n",
            "2    三\n",
            "3    四\n",
            "4    五\n",
            "Name: Hanzi, dtype: object\n",
            "1500 \n",
            "\n",
            "\n",
            "0    叭\n",
            "1    咕\n",
            "2    咱\n",
            "3    串\n",
            "4    罩\n",
            "Name: Hanzi, dtype: object\n",
            "2220 \n",
            "\n",
            "\n",
            "3720\n"
          ]
        }
      ]
    },
    {
      "cell_type": "markdown",
      "metadata": {
        "id": "nk2sXxCVYa7C"
      },
      "source": [
        "## character frequency (char. not words)\n",
        "(10,000 chars)\n",
        "\n"
      ]
    },
    {
      "cell_type": "code",
      "metadata": {
        "colab": {
          "base_uri": "https://localhost:8080/"
        },
        "id": "_Zo9l1M1D2Af",
        "outputId": "80ab8990-2457-459a-b41b-faf61abef9de"
      },
      "source": [
        "char_freq = pd.read_csv(frequency_data, delimiter='\\t', header=5)['汉字']\n",
        "char_freq.head()"
      ],
      "execution_count": 34,
      "outputs": [
        {
          "output_type": "execute_result",
          "data": {
            "text/plain": [
              "0       的\n",
              "1       一\n",
              "2       是\n",
              "3       不\n",
              "4       了\n",
              "       ..\n",
              "9928    鱀\n",
              "9929    鱄\n",
              "9930    鱓\n",
              "9931    鲖\n",
              "9932    鴒\n",
              "Name: 汉字, Length: 9933, dtype: object"
            ]
          },
          "metadata": {},
          "execution_count": 34
        }
      ]
    },
    {
      "cell_type": "markdown",
      "metadata": {
        "id": "iVDfjmy8Y5JY"
      },
      "source": [
        "## Wiki (word frequency)\n",
        "2 sets of ~1000,so ~2000 (but more can be added)"
      ]
    },
    {
      "cell_type": "code",
      "metadata": {
        "colab": {
          "base_uri": "https://localhost:8080/"
        },
        "id": "Zlh4hXstFNZS",
        "outputId": "80ed69b1-2cd9-41ef-e835-337f494d6223"
      },
      "source": [
        "wiki_freq1_dat = \"https://en.wiktionary.org/wiki/Appendix:Mandarin_Frequency_lists/1-1000\"\n",
        "wiki_freq1 = pd.read_html(wiki_freq1_dat)[0].iloc[:,:2].dropna()['Simplified']#[['Traditional','Simiplified','Pinyin']]\n",
        "wiki_freq1.head()"
      ],
      "execution_count": 8,
      "outputs": [
        {
          "output_type": "execute_result",
          "data": {
            "text/plain": [
              "0    一\n",
              "2    在\n",
              "4    有\n",
              "5    个\n",
              "7    我\n",
              "Name: Simplified, dtype: object"
            ]
          },
          "metadata": {},
          "execution_count": 8
        }
      ]
    },
    {
      "cell_type": "code",
      "metadata": {
        "colab": {
          "base_uri": "https://localhost:8080/"
        },
        "id": "6biF8jxmHiPT",
        "outputId": "272e82fe-d3bd-4b83-d4c1-dceaa17e987e"
      },
      "source": [
        "wiki_freq2_dat = \"https://en.wiktionary.org/wiki/Appendix:Mandarin_Frequency_lists/1001-2000\"\n",
        "wiki_freq2 = pd.read_html(wiki_freq2_dat)[0].iloc[:,:2].dropna()['Simplified']#[['Traditional','Simiplified','Pinyin']]\n",
        "wiki_freq2.head()"
      ],
      "execution_count": 9,
      "outputs": [
        {
          "output_type": "execute_result",
          "data": {
            "text/plain": [
              "0    回家\n",
              "1    独立\n",
              "2    英国\n",
              "3    投资\n",
              "4    理论\n",
              "Name: Simplified, dtype: object"
            ]
          },
          "metadata": {},
          "execution_count": 9
        }
      ]
    },
    {
      "cell_type": "code",
      "metadata": {
        "colab": {
          "base_uri": "https://localhost:8080/"
        },
        "id": "bfd-1lKBLxwl",
        "outputId": "1507769b-bb62-4367-a4a8-54d4ce8c3c4a"
      },
      "source": [
        "word_frequency = pd.concat([wiki_freq1,wiki_freq2]).reset_index()['Simplified']\n",
        "word_frequency.head()"
      ],
      "execution_count": 10,
      "outputs": [
        {
          "output_type": "execute_result",
          "data": {
            "text/plain": [
              "0    一\n",
              "1    在\n",
              "2    有\n",
              "3    个\n",
              "4    我\n",
              "Name: Simplified, dtype: object"
            ]
          },
          "metadata": {},
          "execution_count": 10
        }
      ]
    },
    {
      "cell_type": "markdown",
      "metadata": {
        "id": "rOKQa4q1ZL51"
      },
      "source": [
        "#Percent overlap"
      ]
    },
    {
      "cell_type": "code",
      "metadata": {
        "colab": {
          "base_uri": "https://localhost:8080/"
        },
        "id": "Mz6Wms7dMaaM",
        "outputId": "86494282-9a91-42c3-b807-af2c32ca0ef4"
      },
      "source": [
        "def basic_percent(source_list, master_list):\n",
        "  total = 0\n",
        "  occurence = 0\n",
        "  for i,source in enumerate(source_list):\n",
        "    # if i % 100 == 0:\n",
        "    #   print(source)\n",
        "    total += 1\n",
        "    if source in master_list:\n",
        "      occurence +=1\n",
        "  print('percent similar:', occurence/total * 100)\n",
        "  print(total)\n",
        "  print(occurence)\n",
        "\n",
        "basic_percent(list(refold_words)[:1000], list(word_frequency)[:1000])"
      ],
      "execution_count": 11,
      "outputs": [
        {
          "output_type": "stream",
          "name": "stdout",
          "text": [
            "percent similar: 45.5\n",
            "1000\n",
            "455\n"
          ]
        }
      ]
    },
    {
      "cell_type": "code",
      "metadata": {
        "id": "iywtezOIQs58",
        "colab": {
          "base_uri": "https://localhost:8080/"
        },
        "outputId": "2b2136f1-ec85-4ed9-f112-9e5e22b17935"
      },
      "source": [
        "basic_percent(list(heisig_words1)[:], list(char_freq)[:1500])"
      ],
      "execution_count": 56,
      "outputs": [
        {
          "output_type": "stream",
          "name": "stdout",
          "text": [
            "percent similar: 80.46666666666667\n",
            "1500\n",
            "1207\n"
          ]
        }
      ]
    },
    {
      "cell_type": "markdown",
      "metadata": {
        "id": "8sU1e0CfbMdX"
      },
      "source": [
        "- Heisig1 80.47% similarity to char frequency (equal size 1500:15000)\n",
        "- Heisig 1 + 2 90.03% similar to char frequency list (equal size 3720:3720)"
      ]
    },
    {
      "cell_type": "code",
      "metadata": {
        "id": "n10K4Dw0Ca3F"
      },
      "source": [
        ""
      ],
      "execution_count": null,
      "outputs": []
    }
  ]
}