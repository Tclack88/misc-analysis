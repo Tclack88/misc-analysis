{
  "nbformat": 4,
  "nbformat_minor": 0,
  "metadata": {
    "colab": {
      "name": "freq_overlap_mandarin.ipynb",
      "provenance": [],
      "authorship_tag": "ABX9TyNSwAf+rawYGLW+EAXdHSSV",
      "include_colab_link": true
    },
    "kernelspec": {
      "name": "python3",
      "display_name": "Python 3"
    },
    "language_info": {
      "name": "python"
    }
  },
  "cells": [
    {
      "cell_type": "markdown",
      "metadata": {
        "id": "view-in-github",
        "colab_type": "text"
      },
      "source": [
        "<a href=\"https://colab.research.google.com/github/Tclack88/misc-analysis/blob/main/mandarin_frequency_analysis/freq_overlap_mandarin.ipynb\" target=\"_parent\"><img src=\"https://colab.research.google.com/assets/colab-badge.svg\" alt=\"Open In Colab\"/></a>"
      ]
    },
    {
      "cell_type": "code",
      "metadata": {
        "id": "QqkPyqCOAcjG"
      },
      "source": [
        "# sources:  refold: https://drive.google.com/drive/folders/1HyLEQlqm3IJ3tREVAw3n97kMtDCQCb_D?usp=sharing\n",
        "#           heisig: https://docs.google.com/spreadsheets/d/1azf6QcVXt_UMXJJPo06TXNLDli4BL7hbUfPO83cF7HA/htmlview\n",
        "#           frequency: https://lingua.mtsu.edu/chinese-computing/statistics/  # not used. Wiki is used instead\n",
        "refold_data = \"https://raw.githubusercontent.com/Tclack88/misc-analysis/main/mandarin_frequency_analysis/refold_1k.txt\"\n",
        "heisig_data1 = \"https://raw.githubusercontent.com/Tclack88/misc-analysis/main/mandarin_frequency_analysis/heisig1.csv\"\n",
        "heisig_data2 = \"https://raw.githubusercontent.com/Tclack88/misc-analysis/main/mandarin_frequency_analysis/heisig2.csv\"\n",
        "frequency_data = \"https://raw.githubusercontent.com/Tclack88/misc-analysis/main/mandarin_frequency_analysis/charfreq_modern.csv\""
      ],
      "execution_count": 1,
      "outputs": []
    },
    {
      "cell_type": "code",
      "metadata": {
        "id": "EWG9YygPAyIM"
      },
      "source": [
        "import pandas as pd"
      ],
      "execution_count": 2,
      "outputs": []
    },
    {
      "cell_type": "markdown",
      "metadata": {
        "id": "osxKdYGKZVe7"
      },
      "source": [
        "# Frequency lists (words and chars)"
      ]
    },
    {
      "cell_type": "markdown",
      "metadata": {
        "id": "eGV68AFEYMDn"
      },
      "source": [
        "## refold (words)\n",
        "first 1000 HSK"
      ]
    },
    {
      "cell_type": "code",
      "metadata": {
        "colab": {
          "base_uri": "https://localhost:8080/"
        },
        "id": "53fCmMYFAz-_",
        "outputId": "29217450-b6ac-4edd-cd46-b6bc0b16f148"
      },
      "source": [
        "refold_words = pd.read_csv(refold_data, delimiter='\\t', header=None)[1]\n",
        "refold_words.head()"
      ],
      "execution_count": 3,
      "outputs": [
        {
          "output_type": "execute_result",
          "data": {
            "text/plain": [
              "0    的\n",
              "1    我\n",
              "2    你\n",
              "3    是\n",
              "4    了\n",
              "Name: 1, dtype: object"
            ]
          },
          "metadata": {},
          "execution_count": 3
        }
      ]
    },
    {
      "cell_type": "markdown",
      "metadata": {
        "id": "jOLAfDHoYQEd"
      },
      "source": [
        "## heisig (characters, not words)\n",
        "(~3000 chars)\n"
      ]
    },
    {
      "cell_type": "code",
      "metadata": {
        "colab": {
          "base_uri": "https://localhost:8080/"
        },
        "id": "TMp4ODjFA3Jl",
        "outputId": "7f4ac257-2f47-4b0b-8c84-d73756a07523"
      },
      "source": [
        "heisig_words1 = pd.read_csv(heisig_data1, delimiter='\\t')['Hanzi']\n",
        "print(heisig_words1.head())\n",
        "print(len(heisig_words1),'\\n\\n')\n",
        "heisig_words2 = pd.read_csv(heisig_data2, delimiter=',')['Hanzi']\n",
        "print(heisig_words2.head())\n",
        "print(len(heisig_words2),'\\n\\n')\n",
        "heisig_words = pd.concat([heisig_words1,heisig_words2]).reset_index()['Hanzi']\n",
        "heisig_words.head()\n",
        "print(len(heisig_words))"
      ],
      "execution_count": 4,
      "outputs": [
        {
          "output_type": "stream",
          "name": "stdout",
          "text": [
            "0    一\n",
            "1    二\n",
            "2    三\n",
            "3    四\n",
            "4    五\n",
            "Name: Hanzi, dtype: object\n",
            "1500 \n",
            "\n",
            "\n",
            "0    厉\n",
            "1    状\n",
            "2    逃\n",
            "3    逊\n",
            "4    略\n",
            "Name: Hanzi, dtype: object\n",
            "1545 \n",
            "\n",
            "\n",
            "3045\n"
          ]
        }
      ]
    },
    {
      "cell_type": "markdown",
      "metadata": {
        "id": "nk2sXxCVYa7C"
      },
      "source": [
        "## character frequency (char. not words)\n",
        "(10,000 chars)\n",
        "\n"
      ]
    },
    {
      "cell_type": "code",
      "metadata": {
        "colab": {
          "base_uri": "https://localhost:8080/"
        },
        "id": "_Zo9l1M1D2Af",
        "outputId": "553fdf7a-42ca-47d5-a0c0-479c843b23b6"
      },
      "source": [
        "char_freq = pd.read_csv(frequency_data, delimiter='\\t', header=5)['汉字']\n",
        "char_freq.head()"
      ],
      "execution_count": null,
      "outputs": [
        {
          "output_type": "execute_result",
          "data": {
            "text/plain": [
              "0    的\n",
              "1    一\n",
              "2    是\n",
              "3    不\n",
              "4    了\n",
              "Name: 汉字, dtype: object"
            ]
          },
          "metadata": {},
          "execution_count": 5
        }
      ]
    },
    {
      "cell_type": "markdown",
      "metadata": {
        "id": "iVDfjmy8Y5JY"
      },
      "source": [
        "## Wiki (word frequency)\n",
        "2 sets of ~1000,so ~2000 (but more can be added)"
      ]
    },
    {
      "cell_type": "code",
      "metadata": {
        "colab": {
          "base_uri": "https://localhost:8080/"
        },
        "id": "Zlh4hXstFNZS",
        "outputId": "19a259dd-bbf5-434c-c5c6-9f7b921176bb"
      },
      "source": [
        "wiki_freq1_dat = \"https://en.wiktionary.org/wiki/Appendix:Mandarin_Frequency_lists/1-1000\"\n",
        "wiki_freq1 = pd.read_html(wiki_freq1_dat)[0].iloc[:,:2].dropna()['Simplified']#[['Traditional','Simiplified','Pinyin']]\n",
        "wiki_freq1.head()"
      ],
      "execution_count": 5,
      "outputs": [
        {
          "output_type": "execute_result",
          "data": {
            "text/plain": [
              "0    一\n",
              "2    在\n",
              "4    有\n",
              "5    个\n",
              "7    我\n",
              "Name: Simplified, dtype: object"
            ]
          },
          "metadata": {},
          "execution_count": 5
        }
      ]
    },
    {
      "cell_type": "code",
      "metadata": {
        "colab": {
          "base_uri": "https://localhost:8080/"
        },
        "id": "6biF8jxmHiPT",
        "outputId": "45497658-e490-49ed-f2fa-32d6feeec1c9"
      },
      "source": [
        "wiki_freq2_dat = \"https://en.wiktionary.org/wiki/Appendix:Mandarin_Frequency_lists/1001-2000\"\n",
        "wiki_freq2 = pd.read_html(wiki_freq2_dat)[0].iloc[:,:2].dropna()['Simplified']#[['Traditional','Simiplified','Pinyin']]\n",
        "wiki_freq2.head()"
      ],
      "execution_count": 6,
      "outputs": [
        {
          "output_type": "execute_result",
          "data": {
            "text/plain": [
              "0    回家\n",
              "1    独立\n",
              "2    英国\n",
              "3    投资\n",
              "4    理论\n",
              "Name: Simplified, dtype: object"
            ]
          },
          "metadata": {},
          "execution_count": 6
        }
      ]
    },
    {
      "cell_type": "code",
      "metadata": {
        "colab": {
          "base_uri": "https://localhost:8080/"
        },
        "id": "bfd-1lKBLxwl",
        "outputId": "cfc31da1-d3ec-46ab-949b-3571d4188990"
      },
      "source": [
        "word_frequency = pd.concat([wiki_freq1,wiki_freq2]).reset_index()['Simplified']\n",
        "word_frequency.head()"
      ],
      "execution_count": 8,
      "outputs": [
        {
          "output_type": "execute_result",
          "data": {
            "text/plain": [
              "0    一\n",
              "1    在\n",
              "2    有\n",
              "3    个\n",
              "4    我\n",
              "Name: Simplified, dtype: object"
            ]
          },
          "metadata": {},
          "execution_count": 8
        }
      ]
    },
    {
      "cell_type": "markdown",
      "metadata": {
        "id": "rOKQa4q1ZL51"
      },
      "source": [
        "#Percent overlap"
      ]
    },
    {
      "cell_type": "code",
      "metadata": {
        "colab": {
          "base_uri": "https://localhost:8080/"
        },
        "id": "Mz6Wms7dMaaM",
        "outputId": "d9bd0c5f-91ad-4f84-8125-204364a94f66"
      },
      "source": [
        "def basic_percent(source_list, master_list):\n",
        "  total = 0\n",
        "  occurence = 0\n",
        "  for i,source in enumerate(source_list):\n",
        "    # if i % 100 == 0:\n",
        "    #   print(source)\n",
        "    total += 1\n",
        "    if source in master_list:\n",
        "      occurence +=1\n",
        "  print('percent similar:', occurence/total * 100)\n",
        "  print(total)\n",
        "  print(occurence)\n",
        "\n",
        "basic_percent(list(refold_words)[:1000], list(word_frequency)[:1000])"
      ],
      "execution_count": 9,
      "outputs": [
        {
          "output_type": "stream",
          "name": "stdout",
          "text": [
            "percent similar: 45.5\n",
            "1000\n",
            "455\n"
          ]
        }
      ]
    },
    {
      "cell_type": "code",
      "metadata": {
        "id": "iywtezOIQs58",
        "colab": {
          "base_uri": "https://localhost:8080/"
        },
        "outputId": "5a9e9477-2eca-4b2e-f9f0-b29d194531e7"
      },
      "source": [
        "basic_percent(list(heisig_words1)[:], list(char_freq)[:1500])"
      ],
      "execution_count": null,
      "outputs": [
        {
          "output_type": "stream",
          "name": "stdout",
          "text": [
            "percent similar: 80.46666666666667\n",
            "1500\n",
            "1207\n"
          ]
        }
      ]
    },
    {
      "cell_type": "code",
      "source": [
        "basic_percent((list(heisig_words1)+list(heisig_words2))[:], list(char_freq)[:3045])"
      ],
      "metadata": {
        "id": "I87ImPjLqhX_",
        "outputId": "83d0d13a-6ff7-4a50-d165-b6ae26cc2bb7",
        "colab": {
          "base_uri": "https://localhost:8080/"
        }
      },
      "execution_count": null,
      "outputs": [
        {
          "output_type": "stream",
          "name": "stdout",
          "text": [
            "percent similar: 94.90968801313629\n",
            "3045\n",
            "2890\n"
          ]
        }
      ]
    },
    {
      "cell_type": "markdown",
      "metadata": {
        "id": "8sU1e0CfbMdX"
      },
      "source": [
        "- Heisig1 80.47% similarity to char frequency (equal size 1500:15000)\n",
        "- Heisig 1 + 2 94.91% similar to char frequency list (equal size 3045:3045)"
      ]
    },
    {
      "cell_type": "markdown",
      "metadata": {
        "id": "wqN-4_dG3vi5"
      },
      "source": [
        "## char freq of word lists"
      ]
    },
    {
      "cell_type": "code",
      "metadata": {
        "id": "n10K4Dw0Ca3F"
      },
      "source": [
        "def words2chars(list_in):\n",
        "  words = list(''.join(list_in))\n",
        "  chars = pd.Series(list(set(words)))\n",
        "  return chars\n",
        "\n",
        "refold_chars = words2chars(refold_words)\n",
        "wiki_chars = words2chars(word_frequency)"
      ],
      "execution_count": null,
      "outputs": []
    },
    {
      "cell_type": "code",
      "metadata": {
        "id": "PuCaL4S_8diH",
        "outputId": "ab3d2625-d7a6-4240-a2a0-43dc09476fe4",
        "colab": {
          "base_uri": "https://localhost:8080/"
        }
      },
      "source": [
        "char_freq"
      ],
      "execution_count": null,
      "outputs": [
        {
          "output_type": "execute_result",
          "data": {
            "text/plain": [
              "0       的\n",
              "1       一\n",
              "2       是\n",
              "3       不\n",
              "4       了\n",
              "       ..\n",
              "9928    鱀\n",
              "9929    鱄\n",
              "9930    鱓\n",
              "9931    鲖\n",
              "9932    鴒\n",
              "Name: 汉字, Length: 9933, dtype: object"
            ]
          },
          "metadata": {},
          "execution_count": 13
        }
      ]
    },
    {
      "cell_type": "code",
      "metadata": {
        "id": "RbOd17zI4Vvg",
        "outputId": "4c8d946c-6370-4d66-dc38-22d9223ae302",
        "colab": {
          "base_uri": "https://localhost:8080/"
        }
      },
      "source": [
        "basic_percent(list(refold_chars)[:1000], list(char_freq)[:1000])"
      ],
      "execution_count": null,
      "outputs": [
        {
          "output_type": "stream",
          "name": "stdout",
          "text": [
            "percent similar: 75.08269018743108\n",
            "907\n",
            "681\n"
          ]
        }
      ]
    },
    {
      "cell_type": "code",
      "source": [
        "#uniq chars in ch1 of 蓝血人\n",
        "ch1_chars = list(\"\"\"一万三上下不且世东两严个中丹为主丽么之乎乐也书了事于亏五些交享京亲人什今介仍从仔他令以们仰件任伙会传伤伦伯伴伸似但位低住体何作你使依侠侧便保信倒候借倪假做停像僻儿先光入全八六关其具再冲决准几出分切刊划则刚判利别到制刹前副力加动劫势勉勾包匆化北匡区医十千升午半卑单卫危即却厉厚原去参又及双反发取受变叙口句另只叫可右叹吃各吉吊同名后吐向否吧听呆告呢呵命和品哈响哦哭哼唉唯唱啦喃善喘喜四回因围国图圈在地场坐坚坡型埋境增声处备复外多夜大天太夫失头奇套女她好如妇妙妥妹始姐姓娇娱婆婚子孔字存孩它完定宜实客室害家容寂密察对寻将尊小少尔尖尚就尽属山峭峰工左巨差己已市希帝带常帽平年并幸幻应店庞度座开弃弄张弯强归当形影往很律得微心必忆忍志忘忙快忽怀态怎怔怕怖怜思急性怪恐恩恰悟情惊惧惨惭想愉意感愧慌慢懒戏成我戒或截戴房所手才打扶找技把抑抓护报抬抹拉拍拣拨持指按挥损接掩措提插握搁摇摔撒撞撰擦收放故救敖教敢数敲整斜断斯新方施旅旋无日旧早时旺明是显晚晴晶更曾最有服望期未末本术杂权材杖杜条来松板极果枝柔树样根格棋棵楚榻模横欠次欢欧欺止正此步武残殿每比毛毫气氛水汁求汉没法注洁洲流浅海消涩深清渐渡游溅溶滑滚满激火灯灰炸点烈然照爪爱片版牙特狂狙独猎现珠理甚甜生用田由电男画界略疑白的皇皮盘目直相看真眨眩眼着睁睛睡知确碰礼社祗神禁种科秒秘租积称稳究空穿突立站竟章端笑第等答签算粉粗精糊糕糟紫红约纪纷纸线练组细终绍经绒结给绝绞统续缓缘缩羊美羞耀老者而耸耽聚肉肌肤肩肯育背能脑脚脱脸腰腿自至舒舞色节芒花芳苍若苦草莫落蓝藏藤虎虽蜜血行衡衣表衫被裂西要见觉解言警计认记讲讶识诉话说请谅谈谎谧象貌负质赏赛走赶起越趣跃跌跑跟路跳踪身车转轮轻载输辞迅过迎运近还这进远连述送适选逐途速遍道遥那邻郎部都酒醒采释里重野量钟银错镇镜长门闪闭问间闷闻防阳阵阿际陆陡除险陪隐难雪霭青静非靠面音顶顺须顾颜飞馆验骗骤高鲁鸣黑默齐龙\"\"\")\n"
      ],
      "metadata": {
        "id": "RLBcOkDd5fjP"
      },
      "execution_count": null,
      "outputs": []
    },
    {
      "cell_type": "code",
      "source": [
        "basic_percent(list(ch1_chars),list(heisig_words1)+list(heisig_words2))"
      ],
      "metadata": {
        "id": "VJNo038O5_X9",
        "outputId": "8064a374-26ba-4899-e8bc-4dd189dc95bc",
        "colab": {
          "base_uri": "https://localhost:8080/"
        }
      },
      "execution_count": null,
      "outputs": [
        {
          "output_type": "stream",
          "name": "stdout",
          "text": [
            "percent similar: 79.66963151207116\n",
            "787\n",
            "627\n"
          ]
        }
      ]
    },
    {
      "cell_type": "code",
      "source": [
        "#uniq chars in full book of 三体 (simplified)\n",
        "santi_chars = list(\"\"\"一丁七万丈三上下不与丐丑专且世丘业丛东丝丢两严丧个丫中丰串临丹为主丽举乃久么义之乌乍乎乏乐乒乓乔乖乘乙九乞也习乡书买乱乳了予争事二于亏云互五井亘亚些亡亢交产亨亩享京亭亮亲人亿什仁仃仅仆仇今介仍从仑仓仔他仗付仙仝仞仟代令以仪们仰仲件价任份仿企伊伍伎伏伐休众优伙会伞伟传伤伦伪伯估伴伸似伽但位低住佐佑体何余佛作你佣佩佳使侃侈例侍侏供依侠侣侥侦侧侮侯侵便促俄俊俏俑俗俘保信俩俭修俯俱俺倍倒倔候借倡倦倩倪倭值倾假偎偏做停健偬偶偷偿傅傍储催傲傻像僚僧僵僻儒儿兀允元兄充兆先光克免兑兔党兜入全八公六兮兰共关兴兵其具典兹养兼兽冀内冈冉册再冒冕冗写军农冠冤冥冬冯冰冲决况冶冷冻冽净凄准凉凋凌减凑凛凝几凡凤凭凯凳凶凸凹出击函凿刀刁刃分切刊刍刑划列刘则刚创初删判刨利别刮到制刷券刹刺刻刽剂剃削剌前剐剑剔剖剥剧剩剪副割剽剿劈力劝办功加务劣动助努劫励劲劳势勃勇勉勋勒勘募勤勺勾勿匀包匆匕化北匙匠匣匮匹区医匿十千升午半华协卑卒卓单卖南博卜卞占卡卢卦卧卫印危即却卵卷卸卿厂厅历厉压厌厕厘厚原厢厥厦厨厩厮去县参又叉及友双反发叔取受变叙叛叠口古句另叨只叫召叭叮可台史右叶号司叹叼叽吁吃各合吉吊吋同名后吐向吓吗君吝吞吟吠否吧吨吩含听吮启吱吴吵吸吹吻吼吾呀呆呈告呐呓呕呗员呛呜呢周味呵呸呼命咀咄咆咋和咐咒咔咕咖咙咚咝咣咦咧咨咪咫咬咯咱咳咸咽哀品哄哆哇哈响哎哑哒哗哝哥哦哨哪哭哮哲哺哼哽唇唉唏唐唔唠唤唪售唯唱唾啃商啊啐啕啜啡啤啥啦啪啬啮啰啷啸啼啾喂喃善喇喉喊喋喘喜喝喧喳喷喻嗅嗒嗓嗔嗖嗜嗡嗣嗤嗦嗨嗯嗽嘀嘁嘈嘉嘘嘛嘟嘤嘭嘱嘲嘴嘶嘹嘻嘿噗噜噢器噩噪噬噶噼嚎嚓嚣嚷嚼囊囔囚四回因团园困围固国图圆圈土圣在地场圾址均坍坎坏坐坑块坚坛坝坞坟坠坡坦坪坯坷垂垃垄型垒垛垠垢垦垩垫垮埂埃埋城域培基堂堆堕堡堤堪堵塌塑塔塘塞填境墅墒墓墙增墟墨墩壁壑壕壤士壮声壳处备复夏夕外多夜够大天太夫夭央失头夷夸夹夺奄奇奈奉奋奏契奔奖套奠奢奥女奴奶奸她好如妄妆妇妈妒妓妖妙妞妥妩妮妹妻姆始姐姑姓委姗姣姨姬姻姿威娃娇娑娓娘娜娟娩娱娶娼婆婉婊婚婪婴婷媒媚媲媳嫁嫉嫌嫡嫩嬉嬴子孔孕字存孙孝季孤学孩孰孵孽宁它宅宇守安宋完宏宗官宙定宜宝实宠审客宣室宪宫宰害宴宵家容宽宾宿寂寄密富寐寒寓寝寞察寡寥寨寸对寺寻导寿封射将尉尊小少尔尖尘尚尝尤尬就尴尸尺尼尽尾尿局屁层居屈届屋屎屏屐屑展属屠履屯山屹屿岁岂岌岔岗岛岩岭岳岸峋峙峡峦峨峭峰峻崇崎崖崛崩崭嵌嶙巅巍川州巡巢工左巧巨巫差己已巳巴巷巾币市布帅帆师希帐帕帘帜帝带帧席帮帷常帽幄幅幔幕幢干平年并幸幺幻幼幽广庄庆床序库应底店庙府庞废度座庭庶康庸廉廊廓廖延廷建开异弃弄弈弋式弓引弗弛弟张弥弦弧弩弭弯弱弹强归当录彗形彤彩彬彭彰影役彻彼往征径待很徊律徐徒得徘徙御循微德徽心必忆忌忍忏忒志忘忙忠忡忧忪快念忽怀态怅怍怎怏怒怕怖怜思怠怡急性怨怪怫怯总恋恍恐恒恕恙恢恣恨恩恫恬恭息恰恳恶恺恻恼悄悉悍悔悖悟悠患悦您悬悯悲悴悸悻情惆惊惋惑惕惚惜惠惧惨惩惫惬惮惯惰想惶惹惺愁愈愉意愕愚感愠愣愤愧愿慈慌慎慑慕慢慧慨慰慷憋憎憔憾懂懈懊懒戈戎戏成我戒或战戚戛戟截戮戳戴户戾房所扁扇扉手才扎扑打扔托扛扣执扩扫扬扭扮扯扰扳扶批扼找承技抄抉把抑抓投抖抗折抚抛抡抢护报抨披抬抱抵抹押抽抿拂拄担拆拇拉拍拎拐拒拓拔拖拘拙招拜拟拢拣拥拦拧拨择括拭拯拱拳拴拷拼拽拾拿持挂指按挑挖挚挛挟挠挡挣挤挥挨挪挫振挺挽捂捅捉捍捎捏捐捕捞损捡换捣捧据捶捷捻掀掇授掉掌掏掐排掘掠探掣接控推掩措掰掷掸揉揍描提插握揣揪揭援揶揽搀搁搂搅搏搐搓搔搜搞搬搭携摄摆摇摊摒摔摘摞摧摩摸撂撇撑撒撕撞撤撩撬播撮撰撼擀擂擅操擎擦攀攘攥攫支收改攻放政故效敌敏救教敛敞敢散敦敬数敲整敷文斌斐斑斓斗料斜斟斤斥斧斩断斯新方施旁旅旋族旗无既日旦旧旨早旬旭时旷旺昂昆昌明昏易昔昕星映春昧昨昭是昵昼显晃晋晌晒晓晕晖晗晚晟晤晦晨普景晰晴晶晷智晾暂暇暑暖暗暮暴曙曜曝曦曲曳更曹曼曾替最月有朋服朔朕朗望朝期朦木未末本札术朴朵机朽杀杂权杆杉李杏材村杖杜束杠条来杨杭杯杰杳松板极构析枕林枚果枝枪枫枯架枷柄柏某染柔柜柞柠查柬柯柱柳柴柿栅标栈栉栋栎栏树栓栖栗校栩株样核根格栽桁桃桅框案桌桐桑桓桔桢档桥桦桨桩桶梁梅梢梦梧梭梯械梳梵检棉棋棍棒棕棘棚森棱棵棺椅植椎椒椭椰楂楔楚楠楼概榄榆榔榨榭榴榻槌槛槟槽樟模横橄橇橘橙橡橱檐檬欠次欢欣欧欲欺款歇歉歌止正此步武歧歪死歼殆殊残殖殚殡段殷殿毁毅毋母每毒比毕毙毛毡毫毯氏民氓气氕氘氚氛氢氦氧氨氮氯水永汁求汇汉汐汗汛江池污汤汪汰汲汹汽沁沃沉沌沐沓沙沛沟没沥沦沧沫沮河沸油治沽沾沿泄泉泊泌法泛泞泡波泣泥注泪泰泳泻泼泽泾洁洋洒洗洛洞津洪洲活洼洽派流浅浆浇浊测济浏浑浓浙浦浩浪浮浴海浸涂涅消涉涌涓涕涛涟涡涣涤润涨涩涯液涵涸淀淋淌淑淘淙淡淤淫深混淹添淼清渊渍渐渔渗渠渡渣渥温渭港渲渴游渺湃湍湖湘湛湮湾湿溃溅溏源溜溢溪溯溶溺滋滑滔滚滞满滤滥滨滩滴漂漆漉漏漓演漠漩漪漫漱漾潘潜潞潦潭潮澄澈澎澜澡澳激濒瀑瀚灌火灭灯灰灵灼灾灿炉炊炎炕炙炫炬炭炮炯炸点炼炽烁烂烈烙烛烟烤烦烧烫烬热烷烹焉焊焕焚焦焰然煅煌煎煞煤煦照煮熄熊熏熔熙熟熠熨熬熵燃燎燕燥爆爪爬爱爵父爷爸爹爽片版牌牙牛牡牢牧物牲牵特牺犀犁犄犬犯状犷犹狂狄狍狗狙狞狠狡狩独狭狱狼猎猖猛猜猝猪猫献猾猿玄率玉王玛玩玫环现玲玻珂珊珍珑珠珥班球理琐琳琴琼瑕瑞瑟瑰瑶璀璃璧璨瓜瓢瓣瓦瓮瓶瓷甄甚甜生用甩甭田由甲申电男甸画畅界畏畔留畜略番畴畸疆疏疑疗疙疚疫疯疲疵疼疾病症痉痊痒痕痛痪痴痹瘁瘙瘠瘤瘦瘩瘪瘫瘴瘸瘾癌癖癫登白百皂的皆皇皈皑皓皙皮皱皲盆盈益盎盏监盒盔盖盗盘盛盟盥目盯盲直相盹盼盾省眉看真眠眨眩眯眶眷眸眺眼着睁睑睛睡督睦睫睬睹睽睿瞄瞌瞎瞒瞟瞥瞧瞩瞪瞬瞰瞳瞻矗矛矢矣知矩矫短矮石矶矿码砂砌砍研砖砰破砸砺砾础硅硕硝硫硬确硼碌碍碎碑碗碘碟碧碰碱碳碴碾磁磅磋磐磕磨磷磺礁礴示礼社祀祁祈祖祗祛祝神祟祠祥票祭祷祸禁福离禽禾秀私秃秆秉秋种科秒秘租秤秦秩积称秸移稀程稍税稚稠稣稳稻稼稽稿穆穗穴究穷穹空穿突窃窄窑窒窖窗窘窜窝窟窥窿立竖站竞竟章童竭端竹竺竿笑笔笛符笨第笼等筋筐筑筒答策筛筝筹签简箍箔算管箭箱篆篇篝篡篮篷簇簧簸簿籁籍米类粉粒粗粘粥粪粮粱粹粼精糊糕糖糙糟系紊素索紧紫累繁纂纠红纣纤约级纪纬纭纯纰纱纲纳纵纷纸纹纺纽线练组绅细织终绊绍绎经绑绒结绕绘给绚络绝绞统绢绣继绩绪续绰绳维绵绷绸综绽绿缀缄缅缆缎缓缕编缘缚缜缝缠缤缩缭缰缴缸缺罐网罔罕罗罚罢罩罪置署羁羊美羔羞羟羡群羲羸羽翁翅翔翘翠翩翰翻翼耀老考者而耍耐耕耗耙耳耶耸耻耽耿聂聆聊聋职联聚聪肃肆肉肋肌肖肘肚肝肠股肢肤肥肩肮肯育肴肺肾肿胀胁胃胆背胎胖胚胜胞胡胧胫胯胰胳胴胶胸能脂脆脉脊脏脐脑脖脚脯脱脸脾腈腊腋腐腔腕腥腰腹腺腻腾腿膀膊膏膘膛膜膝膨臂臆臣自臭至致臼舀舆舌舍舒舔舞舟舢航般舰舱舵舶舷船艇艘良艰色艳艺艾节芎芒芜芝芥芦芬芭芯花芳芽苇苍苏苗苛苟若苦英苹茂范茄茅茨茫茬茶茸荆草荐荒荡荣荧荫药荷莎莞莫莱莲获莹莺莽菇菌菜菠菩菱菲萄萌萎萤营萦萧萨落著葛葡董葬葵葺蒂蒙蒜蒸蓄蓉蓝蓬蔑蔓蔚蔡蔫蔬蔼蔽蕉蕴蕾薄薇薯藉藏藕藤藻蘑蘸虎虏虐虑虔虚虫虹虽蚀蚁蚂蚊蚓蚕蚜蚪蚯蛇蛋蛙蛛蛟蛮蛸蜂蜒蜗蜘蜜蜡蜷蜻蜿蝇蝈蝉蝌蝗蝠蝴蝶螂融螳螵螺蟹蟾蠕蠢血衅行衍衔街衡衣补表衫衬衰衷袄袅袋袍袒袖被袭裁裂装裔裕裙裤裱裸裹褂褐褒褚褛褥褪褶襟西要覆见观规觅视览觉觑角解触言詹誉誊誓警譬计订认讥讨让讪训议讯记讲讳讶许论讼讽设访证评诅识诈诉诊词诏译试诗诚诛话诞诠诡询诣该详诧诫诬语误诱诲说诵请诸诺读课谁调谅谈谊谋谍谎谐谑谓谙谜谢谣谦谧谨谩谬谱谴谵谷豁豆豚象豪豫貌贝贞负贡财责贤败账货质贩贪贫购贮贯贱贴贵贸费贺贼贾资赋赌赎赏赐赔赖赚赛赞赠赢赤赫走赴赵赶起趁超越趋趟趣足趴趾跃跋跌跑跚距跟跨跪路跳践跺踊踌踏踢踩踪踱踵踹蹄蹈蹒蹦蹩蹬蹭蹲蹾蹿躁身躬躯躲躺车轧轨轩转轭轮软轰轴轶轻载轿较辄辅辆辈辉辐辑输辖辘辙辛辜辞辟辣辨辩辫辰辱边辽达迁迂迄迅过迈迎运近返还这进远违连迟迢迥迪迫述迷迸迹追退送适逃逆选逊逍透逐递途逗通逛逝速造逢逮逸逻逼逾遁遂遇遍遏道遗遛遣遥遭遮遴遵避邀邃邑邓那邦邪邮邯邵邸邻郁郊郎郑郝郡部郭都鄙鄢酌配酒酝酣酪酱酷酸酿醉醋醒醛采释里重野量金鉴鑫针钉钓钛钝钟钢钥钦钧钩钮钱钳钴钻钾铁铃铅铆铐铛铜铝铠铭铰银铸铺链销锁锄锅锈锋锌锐错锚锡锢锣锤锥锨键锯锰锵锹镀镂镇镊镌镍镙镜镝镣镪镰镶长门闪闭问闯闰闲间闷闸闹闺闻阁阂阅阈阐阔阙阜队阡阮阱防阳阴阵阶阻阿附际陆陇陈陋陌降限陕陛陡院除陨险陪陵陶陷隅隆隋随隐隔隙障隧隶难雀雁雄雅集雇雏雕雨雩雪雯雳零雷雹雾需霄霆震霉霍霎霏霓霖霜霞霭露霸霹霾青靓静非靠面革靴靶鞋鞍鞘鞠鞭韦韧韩音韵页顶顷项顺须顽顾顿颀颁颂预颅领颇颈颊颐频颓颔颖颗题颚颜额颠颤风飒飓飘飙飚飞食餐餮饕饥饪饭饮饰饱饵饶饺饼饿馅馆馈馋馒首香馨马驭驮驰驱驳驴驶驹驻驼驾骂骄骇骋验骏骑骗骚骡骤骨骷骸骼髂髅髓高髟髻鬈鬼魁魂魄魅魏魔鱼鱿鲁鲍鲜鲸鳍鳞鸟鸡鸣鸦鸭鸽鸿鹅鹊鹏鹜鹤鹰鹿麦麻黄黎黏黑黔默黝黯鼍鼎鼓鼠鼻鼾齐齿龄龙龟\"\"\")\n",
        "basic_percent(list(santi_chars),list(heisig_words1))\n",
        "#Heisig 1: 40% 1+2: 80%"
      ],
      "metadata": {
        "id": "weI6o1x-6gXU",
        "outputId": "696c457c-d4c0-45c9-ec6c-077ccb9e7c8f",
        "colab": {
          "base_uri": "https://localhost:8080/"
        }
      },
      "execution_count": null,
      "outputs": [
        {
          "output_type": "stream",
          "name": "stdout",
          "text": [
            "percent similar: 40.20561267018616\n",
            "3599\n",
            "1447\n"
          ]
        }
      ]
    },
    {
      "cell_type": "code",
      "source": [
        "#uniq chars in spoonfed chinese deck (simplified)\n",
        "spoonfed_chars = list(\"\"\"一丁七万丈三上下不与丑专且世业丛东丝丢两严丧个丫中丰串临丸为主丽举乃久么义之乌乍乎乏乐乒乓乖乘乙九乞也习乡书买乱乳了予争事二于亏云互五井亚些亡交亦产亨亩享京亭亮亲人亿什\n",
        "仁仅仆仇今介仍从仓仔他仗付仙代令以仪们仰仲件价任份仿企伊伍伏伐休众优伙会伞伟传伤伦伪伯估伴伸似但位低住体何佗余佛作你佣佩佳使侈例侍供依侥侦侧侨侮侵便促俄俊俏俗保信俨俩俭\n",
        "修俱俸倍倒倔倘候借倡倦债值倾假偏偕做停健偶偷偿傍储催傲傻像僚僵僻儒儿允元兄充兆先光克免兑兔党入全八公六兰共关兴兵其具典养兼兽内冈册再冒写军农冠冤冬冯冰冲决况冷冻净凄准凉\n",
        "凌减凑凝几凡凤凭凰凳凶凸凹出击刀分切刊刑划列刘则刚创初删判利别刮到制刷券刹刺刻剂剃削前剑剔剥剧剩剪副割劈力劝办功加务劣动助努劫励劲劳势勃勇勉勋勒募勤勺勾勿匀包匆化北匙匪\n",
        "匹区医匿十千卅升午半华协卑卓单卖南博卜占卡卧卫印危即却卵卷卸厂厄厅历厉压厌厕厘厚原厢厦厨去县参又及友双反发叔取受变叙叛叠口古句另叨只叫召叭叮可台史右叶号司叹吁吃各合吉同\n",
        "名后吏吐向吓吗君吝吞否吧吨含听启吴吵吸吹吻呀呆呈告呐呕员呛呢周味呼命和咐咖咙咨咬咱咳咸咽哀品哄哇哈响哎哥哦哩哪哭哲哺哼唐唠唤售唯唱商啊啡啤啦啬啸喂善喇喉喊喘喜喝喷喻嗅嗜\n",
        "嗽嘘嘛嘱嘲嘴嘻噢器噪嚏嚣嚷囊囚四回因团园困囱围固国图圆圈土圣在地圳场圾址均坏坐坑块坚坛坝坞坟坠坡坦坪垂垃垄型垒垢垣垮埃埋城域培基堂堆堕堡堤堪堵塌塑塔塞填境墓墙增墨壁壤士\n",
        "壮声壳壶壹处备复夏夕外多夜够夥大天太夫夭央失头夷夸夹夺奇奈奉奋奏契奔奖套奠奢奥女奴奶奸她好如妄妆妇妈妒妓妖妙妞妥妨妹妻姆始姐姑姓委姚姜姨姻姿威娃娇娘娱娶婆婚婪婴婶婷婿媒\n",
        "嫁嫂嫉嫌嫩子孔孕字存孙孝孟季孤学孩孵宁它宅宇守安宋完宏宗官宙定宜宝实宠审客宣室宪宫宰害宴宵家容宽宾宿寂寄密寇富寒寓寞察寡寨寸对寺寻导寿封射将尊小少尔尖尘尚尝尤尬就尴尸尺\n",
        "尼尽尾尿局屁层居屈届屋屎屑展属屠屡履屯山屿岁岂岗岛岩岳岸峙峡峰峻崇崖崛崩崭川州巡巢工左巧巨巩差己已巴巷巾币市布帅帆师希帐帖帘帚帜帝带席帮常帽幅幕幢干平年并幸幺幻幼幽广庄\n",
        "庆庇床序库应底店庙府庞废度座庭康庸廉廊延廷建开异弃弄弊弋式弓引弟张弥弦弯弱弹强归当录形彤彩彰影役彻彼往征径待很徊律徐徒得徘徙御循微德徽心必忆忌忍志忘忙忠忧快念忽忿怀态怂\n",
        "怎怒怕怖怜思急性怨怪总恋恐恒恕恢恤恨恩恭息恳恶恼恿悄悉悔悟悠患悦您悬悯悲悼情惊惑惕惘惜惟惠惧惨惩惫惭惯惰想惶惹愁愈愉意愚感愤愧愿慈慌慎慕慢慧慨慰慷憎憧憬憾懂懈懊懒戈戏成\n",
        "我戒或战戚截戮戳戴户房所扁扇手才扎扑扒打扔托扣执扩扫扬扭扮扯扰扶批扼找承技抄把抑抓投抗折抚抛抢护报抨披抬抱抵抹押抽担拆拉拌拍拐拒拓拔拖拘招拜拟拢拣拥拦拨择括拯拳拷拼拾拿\n",
        "持挂指按挑挖挚挠挡挣挤挥挪挫振挽捆捉捍捐捕捞损捡换据捷掀授掉掌掏排掘探接控推掩措掷揍提插握揣揭援揽搁搂搅搏搓搜搞搬搭携摄摆摇摊摔摘摧摩撑撒撕撞撤播撮撰撼擅操擎擦攀支收改\n",
        "攻放政故效敌敏救教敞敢散敦敬数敲整敷文斑斗料斜斟斡斤斥斩断斯新方施旁旅旋族旗无既日旦旧旨早旬旱时旺昂昆昌明昏易昔星映春昧昨是显晃晒晓晕晚晤晨普景晰晴晶智晾暂暇暑暖暗暴曙\n",
        "曝曲更曹曾替最月有朋服朗望朝期木未末本术朱朴朵机杀杂权杆杉李杏材村杖杜束条来杨杭杯杰松板极构枉析枕林枚果枝枢枣枪枭枯架柏某染柔柜柠查柱柳柴栅标栈栋栏树栖校株样核根格栽桂\n",
        "桃框案桌桑桔档桥桩桶梁梅梦梧梨梯械检棉棋棒棕棘棚森棱棵椅植椎椒椰楚楼概榄榜榴榻模横樱橄橘橙橡橱檐檬欠次欢欣欧欲欺款歇歉歌止正此步武歧歪歹死殃殉殊残殖殴段殿毁毅毋母每毒比\n",
        "毕毙毛毫毯氏民氓气氛氧水永汁求汇汉汗江池污汤汪汰汹汽汾沃沈沉沙沛沟没沦沫沮河沸油治沼沾沿泄泉泊法泛泡波泣泥注泪泰泳泼泽洁洋洒洗洛洞津洪洲活洽派流浅浆浇浊测济浑浒浓浩浪浮\n",
        "浴海涂消涉涌涕涛涡润涨液涵淆淇淋淑淘淡淫深淳混淹添清渍渐渔渗渠渡渣温港渴游湍湖湮湾湿溃源溜溪溯溶滋滑滚滞满滥滨滩滴漂漆漏演漠漩漫潇潘潜潦潮澄澡澳激瀑灌火灭灯灰灵灶灸灾炉\n",
        "炎炒炖炫炬炭炮炸点炼烂烈烛烟烤烦烧烫热烹焚焦焰然煌煎煤照煮煸煽熊熏熟熨燃燕燥爆爪爬爱父爷爸爽片版牌牙牛牢牧物牲牵特牺犀犬犯状犹狂狗狠狡狩独狭狮狱狼猎猖猛猜猩猪猫献猴猾猿\n",
        "率玉王玛玩玫环现玲玻珊珍珠班球理琐琴瑕瑚瑞瑰璃瓜瓢瓦瓶瓷甄甘甚甜生用甩田由甲申电男画畅界畏畔留畜略番疏疑疗疚疫疯疲疵疼疾病症痒痛痪瘟瘦瘫瘾癌登白百皂的皆皇皮皱盆盈益盐监\n",
        "盒盖盗盘盛盟目盲直相盼盾省看真眠眨眷眼着睁睛睡督睦瞄瞎瞒瞧瞩瞪瞬瞻矛知矩短矮石矶矿码砂砍研砖破砸础硅硕硝硫硬确碌碍碎碑碗碟碧碰碱碳磁磅磋磨磺示礼社祈祉祖祝神祥票祭祷祸禁\n",
        "禄福离禽秀私秃秋种科秒秘租秦秩积称移稀程税稚稣稳稻稼稿穗穴究穷空穿突窃窄窍窗窜窝立竖站竞竟章竣童竭端竹竿笃笑笔笛符笨第笼等筋筏筑筒答策筷筹签简算管箭箱篇篮篷簸簿籍米类粉\n",
        "粒粗粘粟粥粮粹粽精糊糕糖糙糟系素索紧紫累繁纠红约级纪纫纬纭纯纱纲纳纵纷纸纹纺纽线练组绅细织终绍经绑结绔绕绘给络绝统继绩绪续绰绳维绵绷绸综绿缉缓缔编缝缠缩缴缸缺罂罐网罕罗\n",
        "罚罢罩罪置署羊美羞羡群羽翁翅翔翻翼耀老考者而耍耐耕耗耘耳耶耸耻耽聊聋职联聘聚聪肃肆肉肖肚肝肠股肤肥肩肪肯育肴肺肾肿胀胁胃胆背胎胖胜胞胡胭胳胶胸能脂脆脉脏脑脚脱脸脾腊腐腔\n",
        "腕腥腰腹腾腿膀膊膏膜膝膨臀臂臣自臭至致舆舌舍舒舞舟航般舰舱船艇艘良艰色艳艺艾节芒芬芭花芳芽苍苏苔苗苟若苦英苹茂范茄茨茫茶荆草荒荡荣药荷莎莓莫莱莲获菇菌菜菠菲萄萎萝营萧萨\n",
        "落葛葡董葬葱蒋蒙蒜蒸蓄蓝蓬蔑蔓蔗蔬蔷蔼蕴蕾薄薇薪薯薰藉藏藕藤藻虎虐虑虔虚虫虹虽虾蚀蚁蚂蚊蚕蚪蛇蛋蛙蛛蛰蜀蜂蜕蜗蜘蜜蜡蝌蝴蝶螂螃融螳蟀蟋蟑蟹蠢血衅行衍街衙衡衣补表衫衬衰衷\n",
        "袋袖袜被袭袱裁裂装裔裕裙裤裸裹褐西要覆见观规视览觉角解触言誉誓警譬计订认讨让训议讯记讲讳讶许论讼讽设访证评识诈诉诊词译试诗诙诚话诞诡询该详诬语误诱说诵请诺读诽课诿谁调谅\n",
        "谈谊谋谍谎谐谓谚谜谢谣谤谦谨谬谱谴谷豁豆象豪豫貌贝负贡财责贤败账货质贩贪贫贬购贮贯贴贵贷贸费贺贼贿赂赃资赈赊赋赌赎赏赔赖赘赚赛赞赠赡赢赤赦赫走赴赵赶起趁超越趋趟趣足趴跃\n",
        "跌跑距跟跨跪路跳践踊踏踢踩踪蹈躁身躲躺车轨转轮软轰轴轻载轿较辄辅辆辈辉辍辐辑输辖辙辛辜辞辣辨辩辰辱边辽达迁迂迄迅过迈迎运近返还这进远违连迟迪迫述迷迹追退送适逃逆选透逐递\n",
        "途逗通逛逝速造逢逮逻逼逾遂遇遍遏道遗遛遣遥遭遮遵避邀邓那邦邪邮邱邸邻郁郊郎郑部郭都鄙酌配酒酗酝酪酬酱酷酸酿醉醋醒采释里重野量金鉴针钉钓钙钞钟钢钥钦钩钱钻铀铁铃铅铜铝铭铲\n",
        "银铺链销锁锄锅锈锋锐错锡锦键锻镇镑镜长门闪闭问闯闰闲间闷闸闹闻阁阅阐阔阜队阱防阳阴阵阶阻阿附际陆陈陌降限陕陡院除险陪陵陶陷隆随隐隔障隧隶难雀雁雄雅集雇雍雕雨雪雳零雷雾需\n",
        "震霎霜霞露霸霹青静非靠靡面革鞋鞭韩音韵页顶顷项顺须顽顾顿颁颂预领颇颈颐频颓颗题颜额颠风飘飞食餐饥饪饭饮饰饱饶饺饼饿馁馆首香马驱驳驶驸驻驾骂骄骇验骑骗骚骤骨高髦鬼魁魄魅魔\n",
        "鱼鲁鲍鲜鲤鲨鲸鸟鸡鸣鸦鸭鸽鹅鹉鹦鹰鹿麦麻黄黎黑默鼓鼠鼻齐齿龄龙龟\n",
        "\"\"\")\n",
        "\n",
        "basic_percent(list(spoonfed_chars),list(heisig_words1)+list(heisig_words2))\n",
        "# heisig1: 50.28%\n",
        "# heisig 1 and 2: 91.54%"
      ],
      "metadata": {
        "id": "a6So1YKA8Qet",
        "outputId": "6881a13d-9f60-42fa-82e6-e545c943c9d1",
        "colab": {
          "base_uri": "https://localhost:8080/"
        }
      },
      "execution_count": 14,
      "outputs": [
        {
          "output_type": "stream",
          "name": "stdout",
          "text": [
            "percent similar: 91.5433403805497\n",
            "2838\n",
            "2598\n"
          ]
        }
      ]
    },
    {
      "cell_type": "code",
      "source": [],
      "metadata": {
        "id": "lRI_1hfF9Ap5"
      },
      "execution_count": null,
      "outputs": []
    }
  ]
}