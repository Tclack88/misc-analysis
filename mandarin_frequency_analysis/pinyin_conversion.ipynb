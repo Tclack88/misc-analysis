{
  "nbformat": 4,
  "nbformat_minor": 0,
  "metadata": {
    "colab": {
      "name": "pinyin_conversion.ipynb",
      "provenance": [],
      "authorship_tag": "ABX9TyMboezt1u+cxgKOMskD63E1",
      "include_colab_link": true
    },
    "kernelspec": {
      "name": "python3",
      "display_name": "Python 3"
    },
    "language_info": {
      "name": "python"
    }
  },
  "cells": [
    {
      "cell_type": "markdown",
      "metadata": {
        "id": "view-in-github",
        "colab_type": "text"
      },
      "source": [
        "<a href=\"https://colab.research.google.com/github/Tclack88/misc-analysis/blob/main/mandarin_frequency_analysis/pinyin_conversion.ipynb\" target=\"_parent\"><img src=\"https://colab.research.google.com/assets/colab-badge.svg\" alt=\"Open In Colab\"/></a>"
      ]
    },
    {
      "cell_type": "markdown",
      "metadata": {
        "id": "j2qtRPgTcp2N"
      },
      "source": [
        "Using this to provide example word for the heisig deck"
      ]
    },
    {
      "cell_type": "code",
      "metadata": {
        "id": "X9F8npVYO1pb"
      },
      "source": [
        "import requests\n",
        "from bs4 import BeautifulSoup\n",
        "import pandas as pd"
      ],
      "execution_count": 4,
      "outputs": []
    },
    {
      "cell_type": "code",
      "metadata": {
        "colab": {
          "base_uri": "https://localhost:8080/"
        },
        "id": "miw-3vOQOtBr",
        "outputId": "635aaeec-88c7-4679-fddb-fc187614c141"
      },
      "source": [
        "url_start = \"https://learn-chinese-words.com/dictionary.php?input=\"\n",
        "source = requests.get(url_start+\"弟\").text\n",
        "soup = BeautifulSoup(source, 'html.parser')\n",
        "results = soup.find('table', {'class':'results'})\n",
        "results"
      ],
      "execution_count": 10,
      "outputs": [
        {
          "output_type": "execute_result",
          "data": {
            "text/plain": [
              "<table class=\"results\">\n",
              "<tr><td><a href=\"https://learn-chinese-words.com/detail/chinese/伟大\">伟大</a></td><td>wei3 da4 </td><td>great</td></tr>\n",
              "<tr><td><a href=\"https://learn-chinese-words.com/detail/chinese/兄弟\">兄弟</a></td><td>xiong1 di4 </td><td>brotherly</td></tr>\n",
              "<tr><td><a href=\"https://learn-chinese-words.com/detail/chinese/弟\">弟</a></td><td>di4 </td><td>variant of 悌[ti4]</td></tr>\n",
              "<tr><td><a href=\"https://learn-chinese-words.com/detail/chinese/弟兄\">弟兄</a></td><td>di4 xiong1 </td><td>comrade</td></tr>\n",
              "<tr><td><a href=\"https://learn-chinese-words.com/detail/chinese/弟弟\">弟弟</a></td><td>di4 di5 </td><td>younger brother</td></tr>\n",
              "<tr><td><a href=\"https://learn-chinese-words.com/detail/chinese/内弟\">内弟</a></td><td>nei4 di4 </td><td>wife's younger brother</td></tr>\n",
              "<tr><td><a href=\"https://learn-chinese-words.com/detail/chinese/子弟\">子弟</a></td><td>zi3 di4 </td><td>people</td></tr>\n",
              "<tr><td><a href=\"https://learn-chinese-words.com/detail/chinese/伟\">伟</a></td><td>wei3 </td><td>big</td></tr>\n",
              "<tr><td><a href=\"https://learn-chinese-words.com/detail/chinese/弟子\">弟子</a></td><td>di4 zi3 </td><td>disciple</td></tr>\n",
              "<tr><td><a href=\"https://learn-chinese-words.com/detail/chinese/宏伟\">宏伟</a></td><td>hong2 wei3 </td><td>grand</td></tr>\n",
              "<tr><td><a href=\"https://learn-chinese-words.com/detail/chinese/小弟\">小弟</a></td><td>xiao3 di4 </td><td>junior</td></tr>\n",
              "<tr><td><a href=\"https://learn-chinese-words.com/detail/chinese/雄伟\">雄伟</a></td><td>xiong2 wei3 </td><td>grand</td></tr>\n",
              "<tr><td><a href=\"https://learn-chinese-words.com/detail/chinese/徒弟\">徒弟</a></td><td>tu2 di4 </td><td>apprentice</td></tr>\n",
              "</table>"
            ]
          },
          "metadata": {},
          "execution_count": 10
        }
      ]
    },
    {
      "cell_type": "code",
      "metadata": {
        "colab": {
          "base_uri": "https://localhost:8080/",
          "height": 457
        },
        "id": "-RyJk15fOxn1",
        "outputId": "c01757ba-f75d-4999-ea93-7d3e3b8d2ab5"
      },
      "source": [
        "df = pd.read_html(str(results))[0]\n",
        "df"
      ],
      "execution_count": 38,
      "outputs": [
        {
          "output_type": "execute_result",
          "data": {
            "text/html": [
              "<div>\n",
              "<style scoped>\n",
              "    .dataframe tbody tr th:only-of-type {\n",
              "        vertical-align: middle;\n",
              "    }\n",
              "\n",
              "    .dataframe tbody tr th {\n",
              "        vertical-align: top;\n",
              "    }\n",
              "\n",
              "    .dataframe thead th {\n",
              "        text-align: right;\n",
              "    }\n",
              "</style>\n",
              "<table border=\"1\" class=\"dataframe\">\n",
              "  <thead>\n",
              "    <tr style=\"text-align: right;\">\n",
              "      <th></th>\n",
              "      <th>0</th>\n",
              "      <th>1</th>\n",
              "      <th>2</th>\n",
              "    </tr>\n",
              "  </thead>\n",
              "  <tbody>\n",
              "    <tr>\n",
              "      <th>0</th>\n",
              "      <td>伟大</td>\n",
              "      <td>wei3 da4</td>\n",
              "      <td>great</td>\n",
              "    </tr>\n",
              "    <tr>\n",
              "      <th>1</th>\n",
              "      <td>兄弟</td>\n",
              "      <td>xiong1 di4</td>\n",
              "      <td>brotherly</td>\n",
              "    </tr>\n",
              "    <tr>\n",
              "      <th>2</th>\n",
              "      <td>弟</td>\n",
              "      <td>di4</td>\n",
              "      <td>variant of 悌[ti4]</td>\n",
              "    </tr>\n",
              "    <tr>\n",
              "      <th>3</th>\n",
              "      <td>弟兄</td>\n",
              "      <td>di4 xiong1</td>\n",
              "      <td>comrade</td>\n",
              "    </tr>\n",
              "    <tr>\n",
              "      <th>4</th>\n",
              "      <td>弟弟</td>\n",
              "      <td>di4 di5</td>\n",
              "      <td>younger brother</td>\n",
              "    </tr>\n",
              "    <tr>\n",
              "      <th>5</th>\n",
              "      <td>内弟</td>\n",
              "      <td>nei4 di4</td>\n",
              "      <td>wife's younger brother</td>\n",
              "    </tr>\n",
              "    <tr>\n",
              "      <th>6</th>\n",
              "      <td>子弟</td>\n",
              "      <td>zi3 di4</td>\n",
              "      <td>people</td>\n",
              "    </tr>\n",
              "    <tr>\n",
              "      <th>7</th>\n",
              "      <td>伟</td>\n",
              "      <td>wei3</td>\n",
              "      <td>big</td>\n",
              "    </tr>\n",
              "    <tr>\n",
              "      <th>8</th>\n",
              "      <td>弟子</td>\n",
              "      <td>di4 zi3</td>\n",
              "      <td>disciple</td>\n",
              "    </tr>\n",
              "    <tr>\n",
              "      <th>9</th>\n",
              "      <td>宏伟</td>\n",
              "      <td>hong2 wei3</td>\n",
              "      <td>grand</td>\n",
              "    </tr>\n",
              "    <tr>\n",
              "      <th>10</th>\n",
              "      <td>小弟</td>\n",
              "      <td>xiao3 di4</td>\n",
              "      <td>junior</td>\n",
              "    </tr>\n",
              "    <tr>\n",
              "      <th>11</th>\n",
              "      <td>雄伟</td>\n",
              "      <td>xiong2 wei3</td>\n",
              "      <td>grand</td>\n",
              "    </tr>\n",
              "    <tr>\n",
              "      <th>12</th>\n",
              "      <td>徒弟</td>\n",
              "      <td>tu2 di4</td>\n",
              "      <td>apprentice</td>\n",
              "    </tr>\n",
              "  </tbody>\n",
              "</table>\n",
              "</div>"
            ],
            "text/plain": [
              "     0            1                       2\n",
              "0   伟大     wei3 da4                   great\n",
              "1   兄弟   xiong1 di4               brotherly\n",
              "2    弟          di4       variant of 悌[ti4]\n",
              "3   弟兄   di4 xiong1                 comrade\n",
              "4   弟弟      di4 di5         younger brother\n",
              "5   内弟     nei4 di4  wife's younger brother\n",
              "6   子弟      zi3 di4                  people\n",
              "7    伟         wei3                     big\n",
              "8   弟子      di4 zi3                disciple\n",
              "9   宏伟   hong2 wei3                   grand\n",
              "10  小弟    xiao3 di4                  junior\n",
              "11  雄伟  xiong2 wei3                   grand\n",
              "12  徒弟      tu2 di4              apprentice"
            ]
          },
          "metadata": {},
          "execution_count": 38
        }
      ]
    },
    {
      "cell_type": "code",
      "metadata": {
        "colab": {
          "base_uri": "https://localhost:8080/"
        },
        "id": "CYeLGq0xUIig",
        "outputId": "a405ed51-45d4-44aa-e946-7e2ad27c97b4"
      },
      "source": [
        "# lifted from here https://stackoverflow.com/questions/8200349/convert-numbered-pinyin-to-pinyin-with-tone-marks\n",
        "import re\n",
        "\n",
        "pinyinToneMarks = {\n",
        "    'a': 'āáǎà', 'e': 'ēéěè', 'i': 'īíǐì',\n",
        "    'o': 'ōóǒò', 'u': 'ūúǔù', 'ü': 'ǖǘǚǜ',\n",
        "    'A': 'ĀÁǍÀ', 'E': 'ĒÉĚÈ', 'I': 'ĪÍǏÌ',\n",
        "    'O': 'ŌÓǑÒ', 'U': 'ŪÚǓÙ', 'Ü': 'ǕǗǙǛ'\n",
        "}\n",
        "\n",
        "def convertPinyinCallback(m):\n",
        "    tone=int(m.group(3))%5\n",
        "    r=m.group(1).replace('v', 'ü').replace('V', 'Ü')\n",
        "    # for multple vowels, use first one if it is a/e/o, otherwise use second one\n",
        "    pos=0\n",
        "    if len(r)>1 and not r[0] in 'aeoAEO':\n",
        "        pos=1\n",
        "    if tone != 0:\n",
        "        r=r[0:pos]+pinyinToneMarks[r[pos]][tone-1]+r[pos+1:]\n",
        "    return r+m.group(2)\n",
        "\n",
        "def convertPinyin(s):\n",
        "    return re.sub(r'([aeiouüvÜ]{1,3})(n?g?r?)([012345])', convertPinyinCallback, s, flags=re.IGNORECASE)\n",
        "\n",
        "print(convertPinyin('Ni3 hao3 ma0?'))"
      ],
      "execution_count": 29,
      "outputs": [
        {
          "output_type": "stream",
          "name": "stdout",
          "text": [
            "Nǐ hǎo ma?\n"
          ]
        }
      ]
    },
    {
      "cell_type": "code",
      "metadata": {
        "colab": {
          "base_uri": "https://localhost:8080/",
          "height": 457
        },
        "id": "RUGigLNVUoFH",
        "outputId": "381ad305-bc77-4982-da8a-76dac08ccee2"
      },
      "source": [
        "df[1] = df[1].apply(convertPinyin)\n",
        "df[2] = df[2].apply(convertPinyin)\n",
        "df"
      ],
      "execution_count": 45,
      "outputs": [
        {
          "output_type": "execute_result",
          "data": {
            "text/html": [
              "<div>\n",
              "<style scoped>\n",
              "    .dataframe tbody tr th:only-of-type {\n",
              "        vertical-align: middle;\n",
              "    }\n",
              "\n",
              "    .dataframe tbody tr th {\n",
              "        vertical-align: top;\n",
              "    }\n",
              "\n",
              "    .dataframe thead th {\n",
              "        text-align: right;\n",
              "    }\n",
              "</style>\n",
              "<table border=\"1\" class=\"dataframe\">\n",
              "  <thead>\n",
              "    <tr style=\"text-align: right;\">\n",
              "      <th></th>\n",
              "      <th>0</th>\n",
              "      <th>1</th>\n",
              "      <th>2</th>\n",
              "    </tr>\n",
              "  </thead>\n",
              "  <tbody>\n",
              "    <tr>\n",
              "      <th>0</th>\n",
              "      <td>伟大</td>\n",
              "      <td>wěi dà</td>\n",
              "      <td>great</td>\n",
              "    </tr>\n",
              "    <tr>\n",
              "      <th>1</th>\n",
              "      <td>兄弟</td>\n",
              "      <td>xiōng dì</td>\n",
              "      <td>brotherly</td>\n",
              "    </tr>\n",
              "    <tr>\n",
              "      <th>2</th>\n",
              "      <td>弟</td>\n",
              "      <td>dì</td>\n",
              "      <td>variant of 悌[tì]</td>\n",
              "    </tr>\n",
              "    <tr>\n",
              "      <th>3</th>\n",
              "      <td>弟兄</td>\n",
              "      <td>dì xiōng</td>\n",
              "      <td>comrade</td>\n",
              "    </tr>\n",
              "    <tr>\n",
              "      <th>4</th>\n",
              "      <td>弟弟</td>\n",
              "      <td>dì di</td>\n",
              "      <td>younger brother</td>\n",
              "    </tr>\n",
              "    <tr>\n",
              "      <th>5</th>\n",
              "      <td>内弟</td>\n",
              "      <td>nèi dì</td>\n",
              "      <td>wife's younger brother</td>\n",
              "    </tr>\n",
              "    <tr>\n",
              "      <th>6</th>\n",
              "      <td>子弟</td>\n",
              "      <td>zǐ dì</td>\n",
              "      <td>people</td>\n",
              "    </tr>\n",
              "    <tr>\n",
              "      <th>7</th>\n",
              "      <td>伟</td>\n",
              "      <td>wěi</td>\n",
              "      <td>big</td>\n",
              "    </tr>\n",
              "    <tr>\n",
              "      <th>8</th>\n",
              "      <td>弟子</td>\n",
              "      <td>dì zǐ</td>\n",
              "      <td>disciple</td>\n",
              "    </tr>\n",
              "    <tr>\n",
              "      <th>9</th>\n",
              "      <td>宏伟</td>\n",
              "      <td>hóng wěi</td>\n",
              "      <td>grand</td>\n",
              "    </tr>\n",
              "    <tr>\n",
              "      <th>10</th>\n",
              "      <td>小弟</td>\n",
              "      <td>xiǎo dì</td>\n",
              "      <td>junior</td>\n",
              "    </tr>\n",
              "    <tr>\n",
              "      <th>11</th>\n",
              "      <td>雄伟</td>\n",
              "      <td>xióng wěi</td>\n",
              "      <td>grand</td>\n",
              "    </tr>\n",
              "    <tr>\n",
              "      <th>12</th>\n",
              "      <td>徒弟</td>\n",
              "      <td>tú dì</td>\n",
              "      <td>apprentice</td>\n",
              "    </tr>\n",
              "  </tbody>\n",
              "</table>\n",
              "</div>"
            ],
            "text/plain": [
              "     0          1                       2\n",
              "0   伟大     wěi dà                   great\n",
              "1   兄弟   xiōng dì               brotherly\n",
              "2    弟         dì        variant of 悌[tì]\n",
              "3   弟兄   dì xiōng                 comrade\n",
              "4   弟弟      dì di         younger brother\n",
              "5   内弟     nèi dì  wife's younger brother\n",
              "6   子弟      zǐ dì                  people\n",
              "7    伟        wěi                     big\n",
              "8   弟子      dì zǐ                disciple\n",
              "9   宏伟   hóng wěi                   grand\n",
              "10  小弟    xiǎo dì                  junior\n",
              "11  雄伟  xióng wěi                   grand\n",
              "12  徒弟      tú dì              apprentice"
            ]
          },
          "metadata": {},
          "execution_count": 45
        }
      ]
    },
    {
      "cell_type": "code",
      "metadata": {
        "colab": {
          "base_uri": "https://localhost:8080/",
          "height": 53
        },
        "id": "QOtyN3LqVp6s",
        "outputId": "38af3069-3db2-4130-a426-b0b243a6b228"
      },
      "source": [
        "ch = list(df[0])\n",
        "py = list(df[1])\n",
        "en = list(df[2])\n",
        "\n",
        "samples = '\\n'.join(['-'.join(sample) for sample in list(zip(ch,py,en))])\n",
        "samples"
      ],
      "execution_count": 62,
      "outputs": [
        {
          "output_type": "execute_result",
          "data": {
            "application/vnd.google.colaboratory.intrinsic+json": {
              "type": "string"
            },
            "text/plain": [
              "\"伟大-wěi dà-great\\n兄弟-xiōng dì-brotherly\\n弟-dì-variant of 悌[tì]\\n弟兄-dì xiōng-comrade\\n弟弟-dì di-younger brother\\n内弟-nèi dì-wife's younger brother\\n子弟-zǐ dì-people\\n伟-wěi-big\\n弟子-dì zǐ-disciple\\n宏伟-hóng wěi-grand\\n小弟-xiǎo dì-junior\\n雄伟-xióng wěi-grand\\n徒弟-tú dì-apprentice\""
            ]
          },
          "metadata": {},
          "execution_count": 62
        }
      ]
    },
    {
      "cell_type": "code",
      "metadata": {
        "colab": {
          "base_uri": "https://localhost:8080/"
        },
        "id": "NPiJYDxHVzYr",
        "outputId": "d0ace486-9804-4cf4-8a6d-3a59151825e6"
      },
      "source": [
        "print(samples)"
      ],
      "execution_count": 64,
      "outputs": [
        {
          "output_type": "stream",
          "name": "stdout",
          "text": [
            "伟大-wěi dà-great\n",
            "兄弟-xiōng dì-brotherly\n",
            "弟-dì-variant of 悌[tì]\n",
            "弟兄-dì xiōng-comrade\n",
            "弟弟-dì di-younger brother\n",
            "内弟-nèi dì-wife's younger brother\n",
            "子弟-zǐ dì-people\n",
            "伟-wěi-big\n",
            "弟子-dì zǐ-disciple\n",
            "宏伟-hóng wěi-grand\n",
            "小弟-xiǎo dì-junior\n",
            "雄伟-xióng wěi-grand\n",
            "徒弟-tú dì-apprentice\n"
          ]
        }
      ]
    },
    {
      "cell_type": "code",
      "metadata": {
        "id": "tuKJV7KJV0xp"
      },
      "source": [
        ""
      ],
      "execution_count": null,
      "outputs": []
    }
  ]
}