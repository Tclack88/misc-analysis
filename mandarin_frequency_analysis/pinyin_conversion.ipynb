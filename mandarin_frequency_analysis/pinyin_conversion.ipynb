{
  "nbformat": 4,
  "nbformat_minor": 0,
  "metadata": {
    "colab": {
      "name": "pinyin_conversion.ipynb",
      "provenance": [],
      "authorship_tag": "ABX9TyOfwdMFnqh4O7nNDv/4Dofz",
      "include_colab_link": true
    },
    "kernelspec": {
      "name": "python3",
      "display_name": "Python 3"
    },
    "language_info": {
      "name": "python"
    }
  },
  "cells": [
    {
      "cell_type": "markdown",
      "metadata": {
        "id": "view-in-github",
        "colab_type": "text"
      },
      "source": [
        "<a href=\"https://colab.research.google.com/github/Tclack88/misc-analysis/blob/main/mandarin_frequency_analysis/pinyin_conversion.ipynb\" target=\"_parent\"><img src=\"https://colab.research.google.com/assets/colab-badge.svg\" alt=\"Open In Colab\"/></a>"
      ]
    },
    {
      "cell_type": "markdown",
      "metadata": {
        "id": "j2qtRPgTcp2N"
      },
      "source": [
        "Using this to provide example word for the heisig deck"
      ]
    },
    {
      "cell_type": "code",
      "metadata": {
        "id": "X9F8npVYO1pb"
      },
      "source": [
        "import requests\n",
        "from bs4 import BeautifulSoup\n",
        "import pandas as pd"
      ],
      "execution_count": 4,
      "outputs": []
    },
    {
      "cell_type": "code",
      "metadata": {
        "colab": {
          "base_uri": "https://localhost:8080/"
        },
        "id": "miw-3vOQOtBr",
        "outputId": "76276185-aabd-43bd-9ba7-8efe74d7c8a3"
      },
      "source": [
        "url_start = \"https://learn-chinese-words.com/dictionary.php?input=\"\n",
        "char = \"弟\"\n",
        "char = \"吾\"\n",
        "source = requests.get(url_start+char).text\n",
        "soup = BeautifulSoup(source, 'html.parser')\n",
        "results = soup.find('table', {'class':'results'})\n",
        "results"
      ],
      "execution_count": 92,
      "outputs": [
        {
          "output_type": "execute_result",
          "data": {
            "text/plain": [
              "<table class=\"results\">\n",
              "<tr><td><a href=\"https://learn-chinese-words.com/detail/chinese/吾\">吾</a></td><td>wu2 </td><td>I</td></tr>\n",
              "<tr><td><a href=\"https://learn-chinese-words.com/detail/chinese/支吾\">支吾</a></td><td>zhi1 wu2 </td><td>to elude</td></tr>\n",
              "<tr><td><a href=\"https://learn-chinese-words.com/detail/chinese/吾人\">吾人</a></td><td>wu2 ren2 </td><td></td></tr>\n",
              "<tr><td><a href=\"https://learn-chinese-words.com/detail/chinese/维吾尔\">维吾尔</a></td><td>wei2 wu2 er3 </td><td>Uighur ethnic group of Xinjiang</td></tr>\n",
              "<tr><td><a href=\"https://learn-chinese-words.com/detail/chinese/维吾尔族\">维吾尔族</a></td><td>wei2 wu2 er3 zu2 </td><td>Uighur (Uyghur) ethnic group of Xinjiang</td></tr>\n",
              "<tr><td><a href=\"https://learn-chinese-words.com/detail/chinese/伊吾\">伊吾</a></td><td>yi1 wu2 </td><td>Yiwu county in Kumul prefecture 哈密地區哈密地区[Ha1 mi4 di4 qu1], Xinjiang</td></tr>\n",
              "<tr><td><a href=\"https://learn-chinese-words.com/detail/chinese/支吾其辞\">支吾其辞</a></td><td>zhi1 wu2 qi2 ci2 </td><td>prevaricate</td></tr>\n",
              "<tr><td><a href=\"https://learn-chinese-words.com/detail/chinese/维吾尔人\">维吾尔人</a></td><td>wei2 wu2 er3 ren2 </td><td>Uighur person or people </td></tr>\n",
              "<tr><td><a href=\"https://learn-chinese-words.com/detail/chinese/老吾老\">老吾老</a></td><td>lao3 wu2 lao3 </td><td></td></tr>\n",
              "<tr><td><a href=\"https://learn-chinese-words.com/detail/chinese/张吾乐\">张吾乐</a></td><td>zhang1 wu2 le4 </td><td>Zhang Wule</td></tr>\n",
              "<tr><td><a href=\"https://learn-chinese-words.com/detail/chinese/新疆维吾尔自治区\">新疆维吾尔自治区</a></td><td>xin1 jiang1 wei2 wu2 er3 zi4 zhi4 qu1 </td><td>Xinjiang Uighur Autonomous Region</td></tr>\n",
              "<tr><td><a href=\"https://learn-chinese-words.com/detail/chinese/支支吾吾\">支支吾吾</a></td><td>zhi1 zhi1 wu2 wu2 </td><td>to stall</td></tr>\n",
              "<tr><td><a href=\"https://learn-chinese-words.com/detail/chinese/吾尔开希\">吾尔开希</a></td><td>wu2 er3 kai1 xi1 </td><td>rkesh Dlet (1968-), one of the main leaders of the Beijing student democracy movement of 1989</td></tr>\n",
              "</table>"
            ]
          },
          "metadata": {},
          "execution_count": 92
        }
      ]
    },
    {
      "cell_type": "code",
      "metadata": {
        "colab": {
          "base_uri": "https://localhost:8080/",
          "height": 457
        },
        "id": "-RyJk15fOxn1",
        "outputId": "e467a462-a245-4cad-904e-5c52292a1f2d"
      },
      "source": [
        "df = pd.read_html(str(results))[0]\n",
        "df = df.fillna('')\n",
        "df"
      ],
      "execution_count": 97,
      "outputs": [
        {
          "output_type": "execute_result",
          "data": {
            "text/html": [
              "<div>\n",
              "<style scoped>\n",
              "    .dataframe tbody tr th:only-of-type {\n",
              "        vertical-align: middle;\n",
              "    }\n",
              "\n",
              "    .dataframe tbody tr th {\n",
              "        vertical-align: top;\n",
              "    }\n",
              "\n",
              "    .dataframe thead th {\n",
              "        text-align: right;\n",
              "    }\n",
              "</style>\n",
              "<table border=\"1\" class=\"dataframe\">\n",
              "  <thead>\n",
              "    <tr style=\"text-align: right;\">\n",
              "      <th></th>\n",
              "      <th>0</th>\n",
              "      <th>1</th>\n",
              "      <th>2</th>\n",
              "    </tr>\n",
              "  </thead>\n",
              "  <tbody>\n",
              "    <tr>\n",
              "      <th>0</th>\n",
              "      <td>吾</td>\n",
              "      <td>wu2</td>\n",
              "      <td>I</td>\n",
              "    </tr>\n",
              "    <tr>\n",
              "      <th>1</th>\n",
              "      <td>支吾</td>\n",
              "      <td>zhi1 wu2</td>\n",
              "      <td>to elude</td>\n",
              "    </tr>\n",
              "    <tr>\n",
              "      <th>2</th>\n",
              "      <td>吾人</td>\n",
              "      <td>wu2 ren2</td>\n",
              "      <td></td>\n",
              "    </tr>\n",
              "    <tr>\n",
              "      <th>3</th>\n",
              "      <td>维吾尔</td>\n",
              "      <td>wei2 wu2 er3</td>\n",
              "      <td>Uighur ethnic group of Xinjiang</td>\n",
              "    </tr>\n",
              "    <tr>\n",
              "      <th>4</th>\n",
              "      <td>维吾尔族</td>\n",
              "      <td>wei2 wu2 er3 zu2</td>\n",
              "      <td>Uighur (Uyghur) ethnic group of Xinjiang</td>\n",
              "    </tr>\n",
              "    <tr>\n",
              "      <th>5</th>\n",
              "      <td>伊吾</td>\n",
              "      <td>yi1 wu2</td>\n",
              "      <td>Yiwu county in Kumul prefecture 哈密地區哈密地区[Ha1 m...</td>\n",
              "    </tr>\n",
              "    <tr>\n",
              "      <th>6</th>\n",
              "      <td>支吾其辞</td>\n",
              "      <td>zhi1 wu2 qi2 ci2</td>\n",
              "      <td>prevaricate</td>\n",
              "    </tr>\n",
              "    <tr>\n",
              "      <th>7</th>\n",
              "      <td>维吾尔人</td>\n",
              "      <td>wei2 wu2 er3 ren2</td>\n",
              "      <td>Uighur person or people</td>\n",
              "    </tr>\n",
              "    <tr>\n",
              "      <th>8</th>\n",
              "      <td>老吾老</td>\n",
              "      <td>lao3 wu2 lao3</td>\n",
              "      <td></td>\n",
              "    </tr>\n",
              "    <tr>\n",
              "      <th>9</th>\n",
              "      <td>张吾乐</td>\n",
              "      <td>zhang1 wu2 le4</td>\n",
              "      <td>Zhang Wule</td>\n",
              "    </tr>\n",
              "    <tr>\n",
              "      <th>10</th>\n",
              "      <td>新疆维吾尔自治区</td>\n",
              "      <td>xin1 jiang1 wei2 wu2 er3 zi4 zhi4 qu1</td>\n",
              "      <td>Xinjiang Uighur Autonomous Region</td>\n",
              "    </tr>\n",
              "    <tr>\n",
              "      <th>11</th>\n",
              "      <td>支支吾吾</td>\n",
              "      <td>zhi1 zhi1 wu2 wu2</td>\n",
              "      <td>to stall</td>\n",
              "    </tr>\n",
              "    <tr>\n",
              "      <th>12</th>\n",
              "      <td>吾尔开希</td>\n",
              "      <td>wu2 er3 kai1 xi1</td>\n",
              "      <td>rkesh Dlet (1968-), one of the main leaders of...</td>\n",
              "    </tr>\n",
              "  </tbody>\n",
              "</table>\n",
              "</div>"
            ],
            "text/plain": [
              "           0  ...                                                  2\n",
              "0          吾  ...                                                  I\n",
              "1         支吾  ...                                           to elude\n",
              "2         吾人  ...                                                   \n",
              "3        维吾尔  ...                    Uighur ethnic group of Xinjiang\n",
              "4       维吾尔族  ...           Uighur (Uyghur) ethnic group of Xinjiang\n",
              "5         伊吾  ...  Yiwu county in Kumul prefecture 哈密地區哈密地区[Ha1 m...\n",
              "6       支吾其辞  ...                                        prevaricate\n",
              "7       维吾尔人  ...                            Uighur person or people\n",
              "8        老吾老  ...                                                   \n",
              "9        张吾乐  ...                                         Zhang Wule\n",
              "10  新疆维吾尔自治区  ...                  Xinjiang Uighur Autonomous Region\n",
              "11      支支吾吾  ...                                           to stall\n",
              "12      吾尔开希  ...  rkesh Dlet (1968-), one of the main leaders of...\n",
              "\n",
              "[13 rows x 3 columns]"
            ]
          },
          "metadata": {},
          "execution_count": 97
        }
      ]
    },
    {
      "cell_type": "code",
      "metadata": {
        "colab": {
          "base_uri": "https://localhost:8080/"
        },
        "id": "CYeLGq0xUIig",
        "outputId": "a405ed51-45d4-44aa-e946-7e2ad27c97b4"
      },
      "source": [
        "# lifted from here https://stackoverflow.com/questions/8200349/convert-numbered-pinyin-to-pinyin-with-tone-marks\n",
        "import re\n",
        "\n",
        "pinyinToneMarks = {\n",
        "    'a': 'āáǎà', 'e': 'ēéěè', 'i': 'īíǐì',\n",
        "    'o': 'ōóǒò', 'u': 'ūúǔù', 'ü': 'ǖǘǚǜ',\n",
        "    'A': 'ĀÁǍÀ', 'E': 'ĒÉĚÈ', 'I': 'ĪÍǏÌ',\n",
        "    'O': 'ŌÓǑÒ', 'U': 'ŪÚǓÙ', 'Ü': 'ǕǗǙǛ'\n",
        "}\n",
        "\n",
        "def convertPinyinCallback(m):\n",
        "    tone=int(m.group(3))%5\n",
        "    r=m.group(1).replace('v', 'ü').replace('V', 'Ü')\n",
        "    # for multple vowels, use first one if it is a/e/o, otherwise use second one\n",
        "    pos=0\n",
        "    if len(r)>1 and not r[0] in 'aeoAEO':\n",
        "        pos=1\n",
        "    if tone != 0:\n",
        "        r=r[0:pos]+pinyinToneMarks[r[pos]][tone-1]+r[pos+1:]\n",
        "    return r+m.group(2)\n",
        "\n",
        "def convertPinyin(s):\n",
        "    return re.sub(r'([aeiouüvÜ]{1,3})(n?g?r?)([012345])', convertPinyinCallback, s, flags=re.IGNORECASE)\n",
        "\n",
        "print(convertPinyin('Ni3 hao3 ma0?'))"
      ],
      "execution_count": 29,
      "outputs": [
        {
          "output_type": "stream",
          "name": "stdout",
          "text": [
            "Nǐ hǎo ma?\n"
          ]
        }
      ]
    },
    {
      "cell_type": "code",
      "metadata": {
        "colab": {
          "base_uri": "https://localhost:8080/",
          "height": 457
        },
        "id": "RUGigLNVUoFH",
        "outputId": "1bb1fafb-2fa3-4334-cb85-12c470e821ae"
      },
      "source": [
        "df[1] = df[1].apply(convertPinyin)\n",
        "df[2] = df[2].apply(convertPinyin)\n",
        "df"
      ],
      "execution_count": 98,
      "outputs": [
        {
          "output_type": "execute_result",
          "data": {
            "text/html": [
              "<div>\n",
              "<style scoped>\n",
              "    .dataframe tbody tr th:only-of-type {\n",
              "        vertical-align: middle;\n",
              "    }\n",
              "\n",
              "    .dataframe tbody tr th {\n",
              "        vertical-align: top;\n",
              "    }\n",
              "\n",
              "    .dataframe thead th {\n",
              "        text-align: right;\n",
              "    }\n",
              "</style>\n",
              "<table border=\"1\" class=\"dataframe\">\n",
              "  <thead>\n",
              "    <tr style=\"text-align: right;\">\n",
              "      <th></th>\n",
              "      <th>0</th>\n",
              "      <th>1</th>\n",
              "      <th>2</th>\n",
              "    </tr>\n",
              "  </thead>\n",
              "  <tbody>\n",
              "    <tr>\n",
              "      <th>0</th>\n",
              "      <td>吾</td>\n",
              "      <td>wú</td>\n",
              "      <td>I</td>\n",
              "    </tr>\n",
              "    <tr>\n",
              "      <th>1</th>\n",
              "      <td>支吾</td>\n",
              "      <td>zhī wú</td>\n",
              "      <td>to elude</td>\n",
              "    </tr>\n",
              "    <tr>\n",
              "      <th>2</th>\n",
              "      <td>吾人</td>\n",
              "      <td>wú rén</td>\n",
              "      <td></td>\n",
              "    </tr>\n",
              "    <tr>\n",
              "      <th>3</th>\n",
              "      <td>维吾尔</td>\n",
              "      <td>wéi wú ěr</td>\n",
              "      <td>Uighur ethnic group of Xinjiang</td>\n",
              "    </tr>\n",
              "    <tr>\n",
              "      <th>4</th>\n",
              "      <td>维吾尔族</td>\n",
              "      <td>wéi wú ěr zú</td>\n",
              "      <td>Uighur (Uyghur) ethnic group of Xinjiang</td>\n",
              "    </tr>\n",
              "    <tr>\n",
              "      <th>5</th>\n",
              "      <td>伊吾</td>\n",
              "      <td>yī wú</td>\n",
              "      <td>Yiwu county in Kumul prefecture 哈密地區哈密地区[Hā mì...</td>\n",
              "    </tr>\n",
              "    <tr>\n",
              "      <th>6</th>\n",
              "      <td>支吾其辞</td>\n",
              "      <td>zhī wú qí cí</td>\n",
              "      <td>prevaricate</td>\n",
              "    </tr>\n",
              "    <tr>\n",
              "      <th>7</th>\n",
              "      <td>维吾尔人</td>\n",
              "      <td>wéi wú ěr rén</td>\n",
              "      <td>Uighur person or people</td>\n",
              "    </tr>\n",
              "    <tr>\n",
              "      <th>8</th>\n",
              "      <td>老吾老</td>\n",
              "      <td>lǎo wú lǎo</td>\n",
              "      <td></td>\n",
              "    </tr>\n",
              "    <tr>\n",
              "      <th>9</th>\n",
              "      <td>张吾乐</td>\n",
              "      <td>zhāng wú lè</td>\n",
              "      <td>Zhang Wule</td>\n",
              "    </tr>\n",
              "    <tr>\n",
              "      <th>10</th>\n",
              "      <td>新疆维吾尔自治区</td>\n",
              "      <td>xīn jiāng wéi wú ěr zì zhì qū</td>\n",
              "      <td>Xinjiang Uighur Autonomous Region</td>\n",
              "    </tr>\n",
              "    <tr>\n",
              "      <th>11</th>\n",
              "      <td>支支吾吾</td>\n",
              "      <td>zhī zhī wú wú</td>\n",
              "      <td>to stall</td>\n",
              "    </tr>\n",
              "    <tr>\n",
              "      <th>12</th>\n",
              "      <td>吾尔开希</td>\n",
              "      <td>wú ěr kāi xī</td>\n",
              "      <td>rkesh Dlet (1968-), one of the main leaders of...</td>\n",
              "    </tr>\n",
              "  </tbody>\n",
              "</table>\n",
              "</div>"
            ],
            "text/plain": [
              "           0  ...                                                  2\n",
              "0          吾  ...                                                  I\n",
              "1         支吾  ...                                           to elude\n",
              "2         吾人  ...                                                   \n",
              "3        维吾尔  ...                    Uighur ethnic group of Xinjiang\n",
              "4       维吾尔族  ...           Uighur (Uyghur) ethnic group of Xinjiang\n",
              "5         伊吾  ...  Yiwu county in Kumul prefecture 哈密地區哈密地区[Hā mì...\n",
              "6       支吾其辞  ...                                        prevaricate\n",
              "7       维吾尔人  ...                            Uighur person or people\n",
              "8        老吾老  ...                                                   \n",
              "9        张吾乐  ...                                         Zhang Wule\n",
              "10  新疆维吾尔自治区  ...                  Xinjiang Uighur Autonomous Region\n",
              "11      支支吾吾  ...                                           to stall\n",
              "12      吾尔开希  ...  rkesh Dlet (1968-), one of the main leaders of...\n",
              "\n",
              "[13 rows x 3 columns]"
            ]
          },
          "metadata": {},
          "execution_count": 98
        }
      ]
    },
    {
      "cell_type": "code",
      "metadata": {
        "colab": {
          "base_uri": "https://localhost:8080/",
          "height": 53
        },
        "id": "QOtyN3LqVp6s",
        "outputId": "38af3069-3db2-4130-a426-b0b243a6b228"
      },
      "source": [
        "ch = list(df[0])\n",
        "py = list(df[1])\n",
        "en = list(df[2])\n",
        "\n",
        "samples = '\\n'.join(['-'.join(sample) for sample in list(zip(ch,py,en))])\n",
        "samples"
      ],
      "execution_count": 62,
      "outputs": [
        {
          "output_type": "execute_result",
          "data": {
            "application/vnd.google.colaboratory.intrinsic+json": {
              "type": "string"
            },
            "text/plain": [
              "\"伟大-wěi dà-great\\n兄弟-xiōng dì-brotherly\\n弟-dì-variant of 悌[tì]\\n弟兄-dì xiōng-comrade\\n弟弟-dì di-younger brother\\n内弟-nèi dì-wife's younger brother\\n子弟-zǐ dì-people\\n伟-wěi-big\\n弟子-dì zǐ-disciple\\n宏伟-hóng wěi-grand\\n小弟-xiǎo dì-junior\\n雄伟-xióng wěi-grand\\n徒弟-tú dì-apprentice\""
            ]
          },
          "metadata": {},
          "execution_count": 62
        }
      ]
    },
    {
      "cell_type": "code",
      "metadata": {
        "colab": {
          "base_uri": "https://localhost:8080/"
        },
        "id": "NPiJYDxHVzYr",
        "outputId": "d0ace486-9804-4cf4-8a6d-3a59151825e6"
      },
      "source": [
        "print(samples)"
      ],
      "execution_count": 64,
      "outputs": [
        {
          "output_type": "stream",
          "name": "stdout",
          "text": [
            "伟大-wěi dà-great\n",
            "兄弟-xiōng dì-brotherly\n",
            "弟-dì-variant of 悌[tì]\n",
            "弟兄-dì xiōng-comrade\n",
            "弟弟-dì di-younger brother\n",
            "内弟-nèi dì-wife's younger brother\n",
            "子弟-zǐ dì-people\n",
            "伟-wěi-big\n",
            "弟子-dì zǐ-disciple\n",
            "宏伟-hóng wěi-grand\n",
            "小弟-xiǎo dì-junior\n",
            "雄伟-xióng wěi-grand\n",
            "徒弟-tú dì-apprentice\n"
          ]
        }
      ]
    },
    {
      "cell_type": "code",
      "metadata": {
        "colab": {
          "base_uri": "https://localhost:8080/",
          "height": 206
        },
        "id": "tuKJV7KJV0xp",
        "outputId": "f6f7c83b-55b4-47bb-e416-b9918b6bae6e"
      },
      "source": [
        "file_to_edit = \"https://raw.githubusercontent.com/Tclack88/misc-analysis/main/mandarin_frequency_analysis/Heisig1_to_edit.csv\"\n",
        "headers =  [\"Hanzi\", \"Meaning\", \"Notes\", \"Words\"]\n",
        "old = pd.read_csv(file_to_edit, index_col=False, names=headers)\n",
        "old.head()"
      ],
      "execution_count": 74,
      "outputs": [
        {
          "output_type": "execute_result",
          "data": {
            "text/html": [
              "<div>\n",
              "<style scoped>\n",
              "    .dataframe tbody tr th:only-of-type {\n",
              "        vertical-align: middle;\n",
              "    }\n",
              "\n",
              "    .dataframe tbody tr th {\n",
              "        vertical-align: top;\n",
              "    }\n",
              "\n",
              "    .dataframe thead th {\n",
              "        text-align: right;\n",
              "    }\n",
              "</style>\n",
              "<table border=\"1\" class=\"dataframe\">\n",
              "  <thead>\n",
              "    <tr style=\"text-align: right;\">\n",
              "      <th></th>\n",
              "      <th>Hanzi</th>\n",
              "      <th>Meaning</th>\n",
              "      <th>Notes</th>\n",
              "      <th>Words</th>\n",
              "    </tr>\n",
              "  </thead>\n",
              "  <tbody>\n",
              "    <tr>\n",
              "      <th>0</th>\n",
              "      <td>一</td>\n",
              "      <td>one</td>\n",
              "      <td>yī</td>\n",
              "      <td>NaN</td>\n",
              "    </tr>\n",
              "    <tr>\n",
              "      <th>1</th>\n",
              "      <td>二</td>\n",
              "      <td>two</td>\n",
              "      <td>èr</td>\n",
              "      <td>NaN</td>\n",
              "    </tr>\n",
              "    <tr>\n",
              "      <th>2</th>\n",
              "      <td>三</td>\n",
              "      <td>three</td>\n",
              "      <td>sān</td>\n",
              "      <td>NaN</td>\n",
              "    </tr>\n",
              "    <tr>\n",
              "      <th>3</th>\n",
              "      <td>四</td>\n",
              "      <td>four</td>\n",
              "      <td>sì</td>\n",
              "      <td>NaN</td>\n",
              "    </tr>\n",
              "    <tr>\n",
              "      <th>4</th>\n",
              "      <td>五</td>\n",
              "      <td>five</td>\n",
              "      <td>wǔ</td>\n",
              "      <td>NaN</td>\n",
              "    </tr>\n",
              "  </tbody>\n",
              "</table>\n",
              "</div>"
            ],
            "text/plain": [
              "  Hanzi Meaning Notes  Words\n",
              "0     一     one    yī    NaN\n",
              "1     二     two    èr    NaN\n",
              "2     三   three   sān    NaN\n",
              "3     四    four    sì    NaN\n",
              "4     五    five    wǔ    NaN"
            ]
          },
          "metadata": {},
          "execution_count": 74
        }
      ]
    },
    {
      "cell_type": "code",
      "metadata": {
        "colab": {
          "base_uri": "https://localhost:8080/",
          "height": 206
        },
        "id": "Km0Lnrohizsu",
        "outputId": "492a8117-1248-4aa5-9a34-1762df6a5a77"
      },
      "source": [
        "test_slice = old[10:15]\n",
        "test_slice"
      ],
      "execution_count": 100,
      "outputs": [
        {
          "output_type": "execute_result",
          "data": {
            "text/html": [
              "<div>\n",
              "<style scoped>\n",
              "    .dataframe tbody tr th:only-of-type {\n",
              "        vertical-align: middle;\n",
              "    }\n",
              "\n",
              "    .dataframe tbody tr th {\n",
              "        vertical-align: top;\n",
              "    }\n",
              "\n",
              "    .dataframe thead th {\n",
              "        text-align: right;\n",
              "    }\n",
              "</style>\n",
              "<table border=\"1\" class=\"dataframe\">\n",
              "  <thead>\n",
              "    <tr style=\"text-align: right;\">\n",
              "      <th></th>\n",
              "      <th>Hanzi</th>\n",
              "      <th>Meaning</th>\n",
              "      <th>Notes</th>\n",
              "      <th>Words</th>\n",
              "    </tr>\n",
              "  </thead>\n",
              "  <tbody>\n",
              "    <tr>\n",
              "      <th>10</th>\n",
              "      <td>口</td>\n",
              "      <td>mouth</td>\n",
              "      <td>kǒu</td>\n",
              "      <td>NaN</td>\n",
              "    </tr>\n",
              "    <tr>\n",
              "      <th>11</th>\n",
              "      <td>目</td>\n",
              "      <td>eye</td>\n",
              "      <td>mù</td>\n",
              "      <td>NaN</td>\n",
              "    </tr>\n",
              "    <tr>\n",
              "      <th>12</th>\n",
              "      <td>古</td>\n",
              "      <td>ancient</td>\n",
              "      <td>gǔ&lt;br&gt;&lt;br&gt;pictograph of gravestone. Someone an...</td>\n",
              "      <td>NaN</td>\n",
              "    </tr>\n",
              "    <tr>\n",
              "      <th>13</th>\n",
              "      <td>胡</td>\n",
              "      <td>recklessly</td>\n",
              "      <td>\"hú&lt;br&gt;&lt;br&gt;people &lt;b&gt;wrecklessly&lt;/b&gt;&amp;nbsp;play...</td>\n",
              "      <td>NaN</td>\n",
              "    </tr>\n",
              "    <tr>\n",
              "      <th>14</th>\n",
              "      <td>吾</td>\n",
              "      <td>I (literary)</td>\n",
              "      <td>wú&lt;br&gt;&lt;br&gt;I am nothing more than 5 major body ...</td>\n",
              "      <td>NaN</td>\n",
              "    </tr>\n",
              "  </tbody>\n",
              "</table>\n",
              "</div>"
            ],
            "text/plain": [
              "   Hanzi  ... Words\n",
              "10     口  ...   NaN\n",
              "11     目  ...   NaN\n",
              "12     古  ...   NaN\n",
              "13     胡  ...   NaN\n",
              "14     吾  ...   NaN\n",
              "\n",
              "[5 rows x 4 columns]"
            ]
          },
          "metadata": {},
          "execution_count": 100
        }
      ]
    },
    {
      "cell_type": "code",
      "metadata": {
        "colab": {
          "base_uri": "https://localhost:8080/"
        },
        "id": "7LtfyCPGjo4J",
        "outputId": "c83cdfb4-8b47-4350-ed29-bc7fffd51512"
      },
      "source": [
        "def get_example_words(char):\n",
        "  try:\n",
        "    url_start = \"https://learn-chinese-words.com/dictionary.php?input=\"\n",
        "    source = requests.get(url_start+char).text\n",
        "    soup = BeautifulSoup(source, 'html.parser')\n",
        "    results = soup.find('table', {'class':'results'})\n",
        "    df = pd.read_html(str(results))[0].fillna('') #str for convertPinyin, NaN=>''\n",
        "    df[1] = df[1].apply(convertPinyin)\n",
        "    df[2] = df[2].apply(convertPinyin)\n",
        "    ch = list(df[0])\n",
        "    py = list(df[1])\n",
        "    en = list(df[2])\n",
        "    samples = '<br>'.join(['-'.join(sample) for sample in list(zip(ch,py,en))])\n",
        "    return samples\n",
        "  except Exception as e:\n",
        "    print(f'problem withi {char}:\\n{e}')\n",
        "    return ''\n",
        "\n",
        "\n",
        "# test_slice['Words'] = test_slice['Hanzi'].apply(get_example_words)"
      ],
      "execution_count": 120,
      "outputs": [
        {
          "output_type": "stream",
          "name": "stdout",
          "text": [
            "time: 14.6 ms (started: 2021-11-24 20:54:14 +00:00)\n"
          ]
        }
      ]
    },
    {
      "cell_type": "code",
      "metadata": {
        "colab": {
          "base_uri": "https://localhost:8080/",
          "height": 206
        },
        "id": "diEgicQqj3UW",
        "outputId": "0ed07f68-e87d-4346-f44b-f58a9e1773bf"
      },
      "source": [
        "test_slice"
      ],
      "execution_count": 103,
      "outputs": [
        {
          "output_type": "execute_result",
          "data": {
            "text/html": [
              "<div>\n",
              "<style scoped>\n",
              "    .dataframe tbody tr th:only-of-type {\n",
              "        vertical-align: middle;\n",
              "    }\n",
              "\n",
              "    .dataframe tbody tr th {\n",
              "        vertical-align: top;\n",
              "    }\n",
              "\n",
              "    .dataframe thead th {\n",
              "        text-align: right;\n",
              "    }\n",
              "</style>\n",
              "<table border=\"1\" class=\"dataframe\">\n",
              "  <thead>\n",
              "    <tr style=\"text-align: right;\">\n",
              "      <th></th>\n",
              "      <th>Hanzi</th>\n",
              "      <th>Meaning</th>\n",
              "      <th>Notes</th>\n",
              "      <th>Words</th>\n",
              "    </tr>\n",
              "  </thead>\n",
              "  <tbody>\n",
              "    <tr>\n",
              "      <th>10</th>\n",
              "      <td>口</td>\n",
              "      <td>mouth</td>\n",
              "      <td>kǒu</td>\n",
              "      <td>出口-chū kǒu-an exit&lt;br&gt;人口-rén kǒu-people&lt;br&gt;口的-...</td>\n",
              "    </tr>\n",
              "    <tr>\n",
              "      <th>11</th>\n",
              "      <td>目</td>\n",
              "      <td>eye</td>\n",
              "      <td>mù</td>\n",
              "      <td>目前-mù qián-currently&lt;br&gt;目的-mù dì-aim&lt;br&gt;项目-xià...</td>\n",
              "    </tr>\n",
              "    <tr>\n",
              "      <th>12</th>\n",
              "      <td>古</td>\n",
              "      <td>ancient</td>\n",
              "      <td>gǔ&lt;br&gt;&lt;br&gt;pictograph of gravestone. Someone an...</td>\n",
              "      <td>古代-gǔ dài-ancient times&lt;br&gt;古巴-gǔ bā-Cuban&lt;br&gt;蒙...</td>\n",
              "    </tr>\n",
              "    <tr>\n",
              "      <th>13</th>\n",
              "      <td>胡</td>\n",
              "      <td>recklessly</td>\n",
              "      <td>\"hú&lt;br&gt;&lt;br&gt;people &lt;b&gt;wrecklessly&lt;/b&gt;&amp;nbsp;play...</td>\n",
              "      <td>胡子-hú zi-beard&lt;br&gt;胡说-hú shuō-drivel&lt;br&gt;胡椒-hú j...</td>\n",
              "    </tr>\n",
              "    <tr>\n",
              "      <th>14</th>\n",
              "      <td>吾</td>\n",
              "      <td>I (literary)</td>\n",
              "      <td>wú&lt;br&gt;&lt;br&gt;I am nothing more than 5 major body ...</td>\n",
              "      <td>吾-wú-I&lt;br&gt;支吾-zhī wú-to elude&lt;br&gt;吾人-wú rén-&lt;br&gt;...</td>\n",
              "    </tr>\n",
              "  </tbody>\n",
              "</table>\n",
              "</div>"
            ],
            "text/plain": [
              "   Hanzi  ...                                              Words\n",
              "10     口  ...  出口-chū kǒu-an exit<br>人口-rén kǒu-people<br>口的-...\n",
              "11     目  ...  目前-mù qián-currently<br>目的-mù dì-aim<br>项目-xià...\n",
              "12     古  ...  古代-gǔ dài-ancient times<br>古巴-gǔ bā-Cuban<br>蒙...\n",
              "13     胡  ...  胡子-hú zi-beard<br>胡说-hú shuō-drivel<br>胡椒-hú j...\n",
              "14     吾  ...  吾-wú-I<br>支吾-zhī wú-to elude<br>吾人-wú rén-<br>...\n",
              "\n",
              "[5 rows x 4 columns]"
            ]
          },
          "metadata": {},
          "execution_count": 103
        }
      ]
    },
    {
      "cell_type": "markdown",
      "metadata": {
        "id": "RFhujKkfqCip"
      },
      "source": [
        "Test done. Time for actual conversion"
      ]
    },
    {
      "cell_type": "code",
      "metadata": {
        "id": "ugHxL4ptrVGN"
      },
      "source": [
        "!pip install ipython-autotime\n",
        "\n",
        "%load_ext autotime"
      ],
      "execution_count": null,
      "outputs": []
    },
    {
      "cell_type": "code",
      "metadata": {
        "colab": {
          "base_uri": "https://localhost:8080/",
          "height": 224
        },
        "id": "gnALU9IWreum",
        "outputId": "633cfd34-9503-4805-d0eb-102b37cc0d34"
      },
      "source": [
        "old.head(5)"
      ],
      "execution_count": 121,
      "outputs": [
        {
          "output_type": "execute_result",
          "data": {
            "text/html": [
              "<div>\n",
              "<style scoped>\n",
              "    .dataframe tbody tr th:only-of-type {\n",
              "        vertical-align: middle;\n",
              "    }\n",
              "\n",
              "    .dataframe tbody tr th {\n",
              "        vertical-align: top;\n",
              "    }\n",
              "\n",
              "    .dataframe thead th {\n",
              "        text-align: right;\n",
              "    }\n",
              "</style>\n",
              "<table border=\"1\" class=\"dataframe\">\n",
              "  <thead>\n",
              "    <tr style=\"text-align: right;\">\n",
              "      <th></th>\n",
              "      <th>Hanzi</th>\n",
              "      <th>Meaning</th>\n",
              "      <th>Notes</th>\n",
              "      <th>Words</th>\n",
              "    </tr>\n",
              "  </thead>\n",
              "  <tbody>\n",
              "    <tr>\n",
              "      <th>0</th>\n",
              "      <td>一</td>\n",
              "      <td>one</td>\n",
              "      <td>yī</td>\n",
              "      <td>NaN</td>\n",
              "    </tr>\n",
              "    <tr>\n",
              "      <th>1</th>\n",
              "      <td>二</td>\n",
              "      <td>two</td>\n",
              "      <td>èr</td>\n",
              "      <td>NaN</td>\n",
              "    </tr>\n",
              "    <tr>\n",
              "      <th>2</th>\n",
              "      <td>三</td>\n",
              "      <td>three</td>\n",
              "      <td>sān</td>\n",
              "      <td>NaN</td>\n",
              "    </tr>\n",
              "    <tr>\n",
              "      <th>3</th>\n",
              "      <td>四</td>\n",
              "      <td>four</td>\n",
              "      <td>sì</td>\n",
              "      <td>NaN</td>\n",
              "    </tr>\n",
              "    <tr>\n",
              "      <th>4</th>\n",
              "      <td>五</td>\n",
              "      <td>five</td>\n",
              "      <td>wǔ</td>\n",
              "      <td>NaN</td>\n",
              "    </tr>\n",
              "  </tbody>\n",
              "</table>\n",
              "</div>"
            ],
            "text/plain": [
              "  Hanzi Meaning Notes  Words\n",
              "0     一     one    yī    NaN\n",
              "1     二     two    èr    NaN\n",
              "2     三   three   sān    NaN\n",
              "3     四    four    sì    NaN\n",
              "4     五    five    wǔ    NaN"
            ]
          },
          "metadata": {},
          "execution_count": 121
        },
        {
          "output_type": "stream",
          "name": "stdout",
          "text": [
            "time: 20.3 ms (started: 2021-11-24 20:54:27 +00:00)\n"
          ]
        }
      ]
    },
    {
      "cell_type": "code",
      "metadata": {
        "colab": {
          "base_uri": "https://localhost:8080/",
          "height": 363
        },
        "id": "ERTmiKe8mTeD",
        "outputId": "1d7f1299-a33c-4994-a0a9-8086cc2ee0eb"
      },
      "source": [
        "old['Words'] = old['Hanzi'].apply(get_example_words)"
      ],
      "execution_count": 117,
      "outputs": [
        {
          "output_type": "error",
          "ename": "ValueError",
          "evalue": "ignored",
          "traceback": [
            "\u001b[0;31m---------------------------------------------------------------------------\u001b[0m",
            "\u001b[0;31mValueError\u001b[0m                                Traceback (most recent call last)",
            "\u001b[0;32m<ipython-input-117-0787e9e529a2>\u001b[0m in \u001b[0;36m<module>\u001b[0;34m()\u001b[0m\n\u001b[0;32m----> 1\u001b[0;31m \u001b[0mold\u001b[0m\u001b[0;34m[\u001b[0m\u001b[0;34m'Words'\u001b[0m\u001b[0;34m]\u001b[0m \u001b[0;34m=\u001b[0m \u001b[0mold\u001b[0m\u001b[0;34m[\u001b[0m\u001b[0;34m'Hanzi'\u001b[0m\u001b[0;34m]\u001b[0m\u001b[0;34m.\u001b[0m\u001b[0mapply\u001b[0m\u001b[0;34m(\u001b[0m\u001b[0mget_example_words\u001b[0m\u001b[0;34m)\u001b[0m\u001b[0;34m\u001b[0m\u001b[0;34m\u001b[0m\u001b[0m\n\u001b[0m",
            "\u001b[0;32m/usr/local/lib/python3.7/dist-packages/pandas/core/series.py\u001b[0m in \u001b[0;36mapply\u001b[0;34m(self, func, convert_dtype, args, **kwds)\u001b[0m\n\u001b[1;32m   4211\u001b[0m             \u001b[0;32melse\u001b[0m\u001b[0;34m:\u001b[0m\u001b[0;34m\u001b[0m\u001b[0;34m\u001b[0m\u001b[0m\n\u001b[1;32m   4212\u001b[0m                 \u001b[0mvalues\u001b[0m \u001b[0;34m=\u001b[0m \u001b[0mself\u001b[0m\u001b[0;34m.\u001b[0m\u001b[0mastype\u001b[0m\u001b[0;34m(\u001b[0m\u001b[0mobject\u001b[0m\u001b[0;34m)\u001b[0m\u001b[0;34m.\u001b[0m\u001b[0m_values\u001b[0m\u001b[0;34m\u001b[0m\u001b[0;34m\u001b[0m\u001b[0m\n\u001b[0;32m-> 4213\u001b[0;31m                 \u001b[0mmapped\u001b[0m \u001b[0;34m=\u001b[0m \u001b[0mlib\u001b[0m\u001b[0;34m.\u001b[0m\u001b[0mmap_infer\u001b[0m\u001b[0;34m(\u001b[0m\u001b[0mvalues\u001b[0m\u001b[0;34m,\u001b[0m \u001b[0mf\u001b[0m\u001b[0;34m,\u001b[0m \u001b[0mconvert\u001b[0m\u001b[0;34m=\u001b[0m\u001b[0mconvert_dtype\u001b[0m\u001b[0;34m)\u001b[0m\u001b[0;34m\u001b[0m\u001b[0;34m\u001b[0m\u001b[0m\n\u001b[0m\u001b[1;32m   4214\u001b[0m \u001b[0;34m\u001b[0m\u001b[0m\n\u001b[1;32m   4215\u001b[0m         \u001b[0;32mif\u001b[0m \u001b[0mlen\u001b[0m\u001b[0;34m(\u001b[0m\u001b[0mmapped\u001b[0m\u001b[0;34m)\u001b[0m \u001b[0;32mand\u001b[0m \u001b[0misinstance\u001b[0m\u001b[0;34m(\u001b[0m\u001b[0mmapped\u001b[0m\u001b[0;34m[\u001b[0m\u001b[0;36m0\u001b[0m\u001b[0;34m]\u001b[0m\u001b[0;34m,\u001b[0m \u001b[0mSeries\u001b[0m\u001b[0;34m)\u001b[0m\u001b[0;34m:\u001b[0m\u001b[0;34m\u001b[0m\u001b[0;34m\u001b[0m\u001b[0m\n",
            "\u001b[0;32mpandas/_libs/lib.pyx\u001b[0m in \u001b[0;36mpandas._libs.lib.map_infer\u001b[0;34m()\u001b[0m\n",
            "\u001b[0;32m<ipython-input-102-d5a449487690>\u001b[0m in \u001b[0;36mget_example_words\u001b[0;34m(char)\u001b[0m\n\u001b[1;32m      4\u001b[0m   \u001b[0msoup\u001b[0m \u001b[0;34m=\u001b[0m \u001b[0mBeautifulSoup\u001b[0m\u001b[0;34m(\u001b[0m\u001b[0msource\u001b[0m\u001b[0;34m,\u001b[0m \u001b[0;34m'html.parser'\u001b[0m\u001b[0;34m)\u001b[0m\u001b[0;34m\u001b[0m\u001b[0;34m\u001b[0m\u001b[0m\n\u001b[1;32m      5\u001b[0m   \u001b[0mresults\u001b[0m \u001b[0;34m=\u001b[0m \u001b[0msoup\u001b[0m\u001b[0;34m.\u001b[0m\u001b[0mfind\u001b[0m\u001b[0;34m(\u001b[0m\u001b[0;34m'table'\u001b[0m\u001b[0;34m,\u001b[0m \u001b[0;34m{\u001b[0m\u001b[0;34m'class'\u001b[0m\u001b[0;34m:\u001b[0m\u001b[0;34m'results'\u001b[0m\u001b[0;34m}\u001b[0m\u001b[0;34m)\u001b[0m\u001b[0;34m\u001b[0m\u001b[0;34m\u001b[0m\u001b[0m\n\u001b[0;32m----> 6\u001b[0;31m   \u001b[0mdf\u001b[0m \u001b[0;34m=\u001b[0m \u001b[0mpd\u001b[0m\u001b[0;34m.\u001b[0m\u001b[0mread_html\u001b[0m\u001b[0;34m(\u001b[0m\u001b[0mstr\u001b[0m\u001b[0;34m(\u001b[0m\u001b[0mresults\u001b[0m\u001b[0;34m)\u001b[0m\u001b[0;34m)\u001b[0m\u001b[0;34m[\u001b[0m\u001b[0;36m0\u001b[0m\u001b[0;34m]\u001b[0m\u001b[0;34m.\u001b[0m\u001b[0mfillna\u001b[0m\u001b[0;34m(\u001b[0m\u001b[0;34m''\u001b[0m\u001b[0;34m)\u001b[0m \u001b[0;31m#str for convertPinyin, NaN=>''\u001b[0m\u001b[0;34m\u001b[0m\u001b[0;34m\u001b[0m\u001b[0m\n\u001b[0m\u001b[1;32m      7\u001b[0m   \u001b[0mdf\u001b[0m\u001b[0;34m[\u001b[0m\u001b[0;36m1\u001b[0m\u001b[0;34m]\u001b[0m \u001b[0;34m=\u001b[0m \u001b[0mdf\u001b[0m\u001b[0;34m[\u001b[0m\u001b[0;36m1\u001b[0m\u001b[0;34m]\u001b[0m\u001b[0;34m.\u001b[0m\u001b[0mapply\u001b[0m\u001b[0;34m(\u001b[0m\u001b[0mconvertPinyin\u001b[0m\u001b[0;34m)\u001b[0m\u001b[0;34m\u001b[0m\u001b[0;34m\u001b[0m\u001b[0m\n\u001b[1;32m      8\u001b[0m   \u001b[0mdf\u001b[0m\u001b[0;34m[\u001b[0m\u001b[0;36m2\u001b[0m\u001b[0;34m]\u001b[0m \u001b[0;34m=\u001b[0m \u001b[0mdf\u001b[0m\u001b[0;34m[\u001b[0m\u001b[0;36m2\u001b[0m\u001b[0;34m]\u001b[0m\u001b[0;34m.\u001b[0m\u001b[0mapply\u001b[0m\u001b[0;34m(\u001b[0m\u001b[0mconvertPinyin\u001b[0m\u001b[0;34m)\u001b[0m\u001b[0;34m\u001b[0m\u001b[0;34m\u001b[0m\u001b[0m\n",
            "\u001b[0;32m/usr/local/lib/python3.7/dist-packages/pandas/util/_decorators.py\u001b[0m in \u001b[0;36mwrapper\u001b[0;34m(*args, **kwargs)\u001b[0m\n\u001b[1;32m    294\u001b[0m                 )\n\u001b[1;32m    295\u001b[0m                 \u001b[0mwarnings\u001b[0m\u001b[0;34m.\u001b[0m\u001b[0mwarn\u001b[0m\u001b[0;34m(\u001b[0m\u001b[0mmsg\u001b[0m\u001b[0;34m,\u001b[0m \u001b[0mFutureWarning\u001b[0m\u001b[0;34m,\u001b[0m \u001b[0mstacklevel\u001b[0m\u001b[0;34m=\u001b[0m\u001b[0mstacklevel\u001b[0m\u001b[0;34m)\u001b[0m\u001b[0;34m\u001b[0m\u001b[0;34m\u001b[0m\u001b[0m\n\u001b[0;32m--> 296\u001b[0;31m             \u001b[0;32mreturn\u001b[0m \u001b[0mfunc\u001b[0m\u001b[0;34m(\u001b[0m\u001b[0;34m*\u001b[0m\u001b[0margs\u001b[0m\u001b[0;34m,\u001b[0m \u001b[0;34m**\u001b[0m\u001b[0mkwargs\u001b[0m\u001b[0;34m)\u001b[0m\u001b[0;34m\u001b[0m\u001b[0;34m\u001b[0m\u001b[0m\n\u001b[0m\u001b[1;32m    297\u001b[0m \u001b[0;34m\u001b[0m\u001b[0m\n\u001b[1;32m    298\u001b[0m         \u001b[0;32mreturn\u001b[0m \u001b[0mwrapper\u001b[0m\u001b[0;34m\u001b[0m\u001b[0;34m\u001b[0m\u001b[0m\n",
            "\u001b[0;32m/usr/local/lib/python3.7/dist-packages/pandas/io/html.py\u001b[0m in \u001b[0;36mread_html\u001b[0;34m(io, match, flavor, header, index_col, skiprows, attrs, parse_dates, thousands, encoding, decimal, converters, na_values, keep_default_na, displayed_only)\u001b[0m\n\u001b[1;32m   1099\u001b[0m         \u001b[0mna_values\u001b[0m\u001b[0;34m=\u001b[0m\u001b[0mna_values\u001b[0m\u001b[0;34m,\u001b[0m\u001b[0;34m\u001b[0m\u001b[0;34m\u001b[0m\u001b[0m\n\u001b[1;32m   1100\u001b[0m         \u001b[0mkeep_default_na\u001b[0m\u001b[0;34m=\u001b[0m\u001b[0mkeep_default_na\u001b[0m\u001b[0;34m,\u001b[0m\u001b[0;34m\u001b[0m\u001b[0;34m\u001b[0m\u001b[0m\n\u001b[0;32m-> 1101\u001b[0;31m         \u001b[0mdisplayed_only\u001b[0m\u001b[0;34m=\u001b[0m\u001b[0mdisplayed_only\u001b[0m\u001b[0;34m,\u001b[0m\u001b[0;34m\u001b[0m\u001b[0;34m\u001b[0m\u001b[0m\n\u001b[0m\u001b[1;32m   1102\u001b[0m     )\n",
            "\u001b[0;32m/usr/local/lib/python3.7/dist-packages/pandas/io/html.py\u001b[0m in \u001b[0;36m_parse\u001b[0;34m(flavor, io, match, attrs, encoding, displayed_only, **kwargs)\u001b[0m\n\u001b[1;32m    915\u001b[0m             \u001b[0;32mbreak\u001b[0m\u001b[0;34m\u001b[0m\u001b[0;34m\u001b[0m\u001b[0m\n\u001b[1;32m    916\u001b[0m     \u001b[0;32melse\u001b[0m\u001b[0;34m:\u001b[0m\u001b[0;34m\u001b[0m\u001b[0;34m\u001b[0m\u001b[0m\n\u001b[0;32m--> 917\u001b[0;31m         \u001b[0;32mraise\u001b[0m \u001b[0mretained\u001b[0m\u001b[0;34m\u001b[0m\u001b[0;34m\u001b[0m\u001b[0m\n\u001b[0m\u001b[1;32m    918\u001b[0m \u001b[0;34m\u001b[0m\u001b[0m\n\u001b[1;32m    919\u001b[0m     \u001b[0mret\u001b[0m \u001b[0;34m=\u001b[0m \u001b[0;34m[\u001b[0m\u001b[0;34m]\u001b[0m\u001b[0;34m\u001b[0m\u001b[0;34m\u001b[0m\u001b[0m\n",
            "\u001b[0;32m/usr/local/lib/python3.7/dist-packages/pandas/io/html.py\u001b[0m in \u001b[0;36m_parse\u001b[0;34m(flavor, io, match, attrs, encoding, displayed_only, **kwargs)\u001b[0m\n\u001b[1;32m    896\u001b[0m \u001b[0;34m\u001b[0m\u001b[0m\n\u001b[1;32m    897\u001b[0m         \u001b[0;32mtry\u001b[0m\u001b[0;34m:\u001b[0m\u001b[0;34m\u001b[0m\u001b[0;34m\u001b[0m\u001b[0m\n\u001b[0;32m--> 898\u001b[0;31m             \u001b[0mtables\u001b[0m \u001b[0;34m=\u001b[0m \u001b[0mp\u001b[0m\u001b[0;34m.\u001b[0m\u001b[0mparse_tables\u001b[0m\u001b[0;34m(\u001b[0m\u001b[0;34m)\u001b[0m\u001b[0;34m\u001b[0m\u001b[0;34m\u001b[0m\u001b[0m\n\u001b[0m\u001b[1;32m    899\u001b[0m         \u001b[0;32mexcept\u001b[0m \u001b[0mValueError\u001b[0m \u001b[0;32mas\u001b[0m \u001b[0mcaught\u001b[0m\u001b[0;34m:\u001b[0m\u001b[0;34m\u001b[0m\u001b[0;34m\u001b[0m\u001b[0m\n\u001b[1;32m    900\u001b[0m             \u001b[0;31m# if `io` is an io-like object, check if it's seekable\u001b[0m\u001b[0;34m\u001b[0m\u001b[0;34m\u001b[0m\u001b[0;34m\u001b[0m\u001b[0m\n",
            "\u001b[0;32m/usr/local/lib/python3.7/dist-packages/pandas/io/html.py\u001b[0m in \u001b[0;36mparse_tables\u001b[0;34m(self)\u001b[0m\n\u001b[1;32m    215\u001b[0m         \u001b[0mlist\u001b[0m \u001b[0mof\u001b[0m \u001b[0mparsed\u001b[0m \u001b[0;34m(\u001b[0m\u001b[0mheader\u001b[0m\u001b[0;34m,\u001b[0m \u001b[0mbody\u001b[0m\u001b[0;34m,\u001b[0m \u001b[0mfooter\u001b[0m\u001b[0;34m)\u001b[0m \u001b[0mtuples\u001b[0m \u001b[0;32mfrom\u001b[0m \u001b[0mtables\u001b[0m\u001b[0;34m.\u001b[0m\u001b[0;34m\u001b[0m\u001b[0;34m\u001b[0m\u001b[0m\n\u001b[1;32m    216\u001b[0m         \"\"\"\n\u001b[0;32m--> 217\u001b[0;31m         \u001b[0mtables\u001b[0m \u001b[0;34m=\u001b[0m \u001b[0mself\u001b[0m\u001b[0;34m.\u001b[0m\u001b[0m_parse_tables\u001b[0m\u001b[0;34m(\u001b[0m\u001b[0mself\u001b[0m\u001b[0;34m.\u001b[0m\u001b[0m_build_doc\u001b[0m\u001b[0;34m(\u001b[0m\u001b[0;34m)\u001b[0m\u001b[0;34m,\u001b[0m \u001b[0mself\u001b[0m\u001b[0;34m.\u001b[0m\u001b[0mmatch\u001b[0m\u001b[0;34m,\u001b[0m \u001b[0mself\u001b[0m\u001b[0;34m.\u001b[0m\u001b[0mattrs\u001b[0m\u001b[0;34m)\u001b[0m\u001b[0;34m\u001b[0m\u001b[0;34m\u001b[0m\u001b[0m\n\u001b[0m\u001b[1;32m    218\u001b[0m         \u001b[0;32mreturn\u001b[0m \u001b[0;34m(\u001b[0m\u001b[0mself\u001b[0m\u001b[0;34m.\u001b[0m\u001b[0m_parse_thead_tbody_tfoot\u001b[0m\u001b[0;34m(\u001b[0m\u001b[0mtable\u001b[0m\u001b[0;34m)\u001b[0m \u001b[0;32mfor\u001b[0m \u001b[0mtable\u001b[0m \u001b[0;32min\u001b[0m \u001b[0mtables\u001b[0m\u001b[0;34m)\u001b[0m\u001b[0;34m\u001b[0m\u001b[0;34m\u001b[0m\u001b[0m\n\u001b[1;32m    219\u001b[0m \u001b[0;34m\u001b[0m\u001b[0m\n",
            "\u001b[0;32m/usr/local/lib/python3.7/dist-packages/pandas/io/html.py\u001b[0m in \u001b[0;36m_parse_tables\u001b[0;34m(self, doc, match, attrs)\u001b[0m\n\u001b[1;32m    561\u001b[0m \u001b[0;34m\u001b[0m\u001b[0m\n\u001b[1;32m    562\u001b[0m         \u001b[0;32mif\u001b[0m \u001b[0;32mnot\u001b[0m \u001b[0mresult\u001b[0m\u001b[0;34m:\u001b[0m\u001b[0;34m\u001b[0m\u001b[0;34m\u001b[0m\u001b[0m\n\u001b[0;32m--> 563\u001b[0;31m             \u001b[0;32mraise\u001b[0m \u001b[0mValueError\u001b[0m\u001b[0;34m(\u001b[0m\u001b[0;34mf\"No tables found matching pattern {repr(match.pattern)}\"\u001b[0m\u001b[0;34m)\u001b[0m\u001b[0;34m\u001b[0m\u001b[0;34m\u001b[0m\u001b[0m\n\u001b[0m\u001b[1;32m    564\u001b[0m         \u001b[0;32mreturn\u001b[0m \u001b[0mresult\u001b[0m\u001b[0;34m\u001b[0m\u001b[0;34m\u001b[0m\u001b[0m\n\u001b[1;32m    565\u001b[0m \u001b[0;34m\u001b[0m\u001b[0m\n",
            "\u001b[0;31mValueError\u001b[0m: No tables found matching pattern '.+'"
          ]
        },
        {
          "output_type": "stream",
          "name": "stdout",
          "text": [
            "time: 2min 7s (started: 2021-11-24 20:41:10 +00:00)\n"
          ]
        }
      ]
    },
    {
      "cell_type": "code",
      "metadata": {
        "colab": {
          "base_uri": "https://localhost:8080/",
          "height": 441
        },
        "id": "3ydWCeRyqibu",
        "outputId": "59862478-224d-4057-e8ec-0c28ae5ee8f3"
      },
      "source": [
        "old"
      ],
      "execution_count": 118,
      "outputs": [
        {
          "output_type": "execute_result",
          "data": {
            "text/html": [
              "<div>\n",
              "<style scoped>\n",
              "    .dataframe tbody tr th:only-of-type {\n",
              "        vertical-align: middle;\n",
              "    }\n",
              "\n",
              "    .dataframe tbody tr th {\n",
              "        vertical-align: top;\n",
              "    }\n",
              "\n",
              "    .dataframe thead th {\n",
              "        text-align: right;\n",
              "    }\n",
              "</style>\n",
              "<table border=\"1\" class=\"dataframe\">\n",
              "  <thead>\n",
              "    <tr style=\"text-align: right;\">\n",
              "      <th></th>\n",
              "      <th>Hanzi</th>\n",
              "      <th>Meaning</th>\n",
              "      <th>Notes</th>\n",
              "      <th>Words</th>\n",
              "    </tr>\n",
              "  </thead>\n",
              "  <tbody>\n",
              "    <tr>\n",
              "      <th>0</th>\n",
              "      <td>一</td>\n",
              "      <td>one</td>\n",
              "      <td>yī</td>\n",
              "      <td>NaN</td>\n",
              "    </tr>\n",
              "    <tr>\n",
              "      <th>1</th>\n",
              "      <td>二</td>\n",
              "      <td>two</td>\n",
              "      <td>èr</td>\n",
              "      <td>NaN</td>\n",
              "    </tr>\n",
              "    <tr>\n",
              "      <th>2</th>\n",
              "      <td>三</td>\n",
              "      <td>three</td>\n",
              "      <td>sān</td>\n",
              "      <td>NaN</td>\n",
              "    </tr>\n",
              "    <tr>\n",
              "      <th>3</th>\n",
              "      <td>四</td>\n",
              "      <td>four</td>\n",
              "      <td>sì</td>\n",
              "      <td>NaN</td>\n",
              "    </tr>\n",
              "    <tr>\n",
              "      <th>4</th>\n",
              "      <td>五</td>\n",
              "      <td>five</td>\n",
              "      <td>wǔ</td>\n",
              "      <td>NaN</td>\n",
              "    </tr>\n",
              "    <tr>\n",
              "      <th>...</th>\n",
              "      <td>...</td>\n",
              "      <td>...</td>\n",
              "      <td>...</td>\n",
              "      <td>...</td>\n",
              "    </tr>\n",
              "    <tr>\n",
              "      <th>1466</th>\n",
              "      <td>亦</td>\n",
              "      <td>likewise</td>\n",
              "      <td>yì</td>\n",
              "      <td>NaN</td>\n",
              "    </tr>\n",
              "    <tr>\n",
              "      <th>1467</th>\n",
              "      <td>极</td>\n",
              "      <td>extreme</td>\n",
              "      <td>jí</td>\n",
              "      <td>NaN</td>\n",
              "    </tr>\n",
              "    <tr>\n",
              "      <th>1468</th>\n",
              "      <td>杂</td>\n",
              "      <td>miscellaneous</td>\n",
              "      <td>zá</td>\n",
              "      <td>NaN</td>\n",
              "    </tr>\n",
              "    <tr>\n",
              "      <th>1469</th>\n",
              "      <td>曰</td>\n",
              "      <td>sayeth</td>\n",
              "      <td>yuē</td>\n",
              "      <td>NaN</td>\n",
              "    </tr>\n",
              "    <tr>\n",
              "      <th>1470</th>\n",
              "      <td>乱</td>\n",
              "      <td>chaos</td>\n",
              "      <td>luàn</td>\n",
              "      <td>NaN</td>\n",
              "    </tr>\n",
              "  </tbody>\n",
              "</table>\n",
              "<p>1471 rows × 4 columns</p>\n",
              "</div>"
            ],
            "text/plain": [
              "     Hanzi        Meaning Notes  Words\n",
              "0        一            one    yī    NaN\n",
              "1        二            two    èr    NaN\n",
              "2        三          three   sān    NaN\n",
              "3        四           four    sì    NaN\n",
              "4        五           five    wǔ    NaN\n",
              "...    ...            ...   ...    ...\n",
              "1466     亦       likewise    yì    NaN\n",
              "1467     极        extreme    jí    NaN\n",
              "1468     杂  miscellaneous    zá    NaN\n",
              "1469     曰         sayeth   yuē    NaN\n",
              "1470     乱          chaos  luàn    NaN\n",
              "\n",
              "[1471 rows x 4 columns]"
            ]
          },
          "metadata": {},
          "execution_count": 118
        },
        {
          "output_type": "stream",
          "name": "stdout",
          "text": [
            "time: 21 ms (started: 2021-11-24 20:51:18 +00:00)\n"
          ]
        }
      ]
    },
    {
      "cell_type": "code",
      "metadata": {
        "id": "mT99LPGAt486"
      },
      "source": [
        ""
      ],
      "execution_count": null,
      "outputs": []
    }
  ]
}