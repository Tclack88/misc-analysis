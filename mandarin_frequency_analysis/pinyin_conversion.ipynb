{
  "nbformat": 4,
  "nbformat_minor": 0,
  "metadata": {
    "colab": {
      "name": "pinyin_conversion.ipynb",
      "provenance": [],
      "authorship_tag": "ABX9TyPufpPetu7rzhsi0Dc5Vd5d",
      "include_colab_link": true
    },
    "kernelspec": {
      "name": "python3",
      "display_name": "Python 3"
    },
    "language_info": {
      "name": "python"
    }
  },
  "cells": [
    {
      "cell_type": "markdown",
      "metadata": {
        "id": "view-in-github",
        "colab_type": "text"
      },
      "source": [
        "<a href=\"https://colab.research.google.com/github/Tclack88/misc-analysis/blob/main/mandarin_frequency_analysis/pinyin_conversion.ipynb\" target=\"_parent\"><img src=\"https://colab.research.google.com/assets/colab-badge.svg\" alt=\"Open In Colab\"/></a>"
      ]
    },
    {
      "cell_type": "markdown",
      "metadata": {
        "id": "j2qtRPgTcp2N"
      },
      "source": [
        "Using this to provide example word for the heisig deck"
      ]
    },
    {
      "cell_type": "code",
      "metadata": {
        "id": "X9F8npVYO1pb",
        "colab": {
          "base_uri": "https://localhost:8080/"
        },
        "outputId": "97ff75a6-2ea7-4c97-a6c0-8787e1e539fc"
      },
      "source": [
        "import requests\n",
        "from bs4 import BeautifulSoup\n",
        "import pandas as pd\n",
        "import re\n",
        "\n",
        "# lifted from here https://stackoverflow.com/questions/8200349/convert-numbered-pinyin-to-pinyin-with-tone-marks\n",
        "pinyinToneMarks = {\n",
        "    'a': 'āáǎà', 'e': 'ēéěè', 'i': 'īíǐì',\n",
        "    'o': 'ōóǒò', 'u': 'ūúǔù', 'ü': 'ǖǘǚǜ',\n",
        "    'A': 'ĀÁǍÀ', 'E': 'ĒÉĚÈ', 'I': 'ĪÍǏÌ',\n",
        "    'O': 'ŌÓǑÒ', 'U': 'ŪÚǓÙ', 'Ü': 'ǕǗǙǛ'\n",
        "}\n",
        "\n",
        "def convertPinyinCallback(m):\n",
        "    tone=int(m.group(3))%5\n",
        "    r=m.group(1).replace('v', 'ü').replace('V', 'Ü')\n",
        "    # for multple vowels, use first one if it is a/e/o, otherwise use second one\n",
        "    pos=0\n",
        "    if len(r)>1 and not r[0] in 'aeoAEO':\n",
        "        pos=1\n",
        "    if tone != 0:\n",
        "        r=r[0:pos]+pinyinToneMarks[r[pos]][tone-1]+r[pos+1:]\n",
        "    return r+m.group(2)\n",
        "\n",
        "def convertPinyin(s):\n",
        "    return re.sub(r'([aeiouüvÜ]{1,3})(n?g?r?)([012345])', convertPinyinCallback, s, flags=re.IGNORECASE)\n",
        "\n",
        "print(convertPinyin('Ni3 hao3 ma0?'))"
      ],
      "execution_count": 1,
      "outputs": [
        {
          "output_type": "stream",
          "name": "stdout",
          "text": [
            "Nǐ hǎo ma?\n"
          ]
        }
      ]
    },
    {
      "cell_type": "code",
      "metadata": {
        "colab": {
          "base_uri": "https://localhost:8080/",
          "height": 206
        },
        "id": "tuKJV7KJV0xp",
        "outputId": "2b4acd48-9cf3-4a66-dae3-86897484cd7d"
      },
      "source": [
        "file_to_edit = \"https://raw.githubusercontent.com/Tclack88/misc-analysis/main/mandarin_frequency_analysis/Heisig1_to_edit.csv\"\n",
        "headers =  [\"Hanzi\", \"Meaning\", \"Notes\", \"Words\"]\n",
        "old = pd.read_csv(file_to_edit, index_col=False, names=headers)\n",
        "old.head()"
      ],
      "execution_count": 3,
      "outputs": [
        {
          "output_type": "execute_result",
          "data": {
            "text/html": [
              "<div>\n",
              "<style scoped>\n",
              "    .dataframe tbody tr th:only-of-type {\n",
              "        vertical-align: middle;\n",
              "    }\n",
              "\n",
              "    .dataframe tbody tr th {\n",
              "        vertical-align: top;\n",
              "    }\n",
              "\n",
              "    .dataframe thead th {\n",
              "        text-align: right;\n",
              "    }\n",
              "</style>\n",
              "<table border=\"1\" class=\"dataframe\">\n",
              "  <thead>\n",
              "    <tr style=\"text-align: right;\">\n",
              "      <th></th>\n",
              "      <th>Hanzi</th>\n",
              "      <th>Meaning</th>\n",
              "      <th>Notes</th>\n",
              "      <th>Words</th>\n",
              "    </tr>\n",
              "  </thead>\n",
              "  <tbody>\n",
              "    <tr>\n",
              "      <th>0</th>\n",
              "      <td>一</td>\n",
              "      <td>one</td>\n",
              "      <td>yī</td>\n",
              "      <td>NaN</td>\n",
              "    </tr>\n",
              "    <tr>\n",
              "      <th>1</th>\n",
              "      <td>二</td>\n",
              "      <td>two</td>\n",
              "      <td>èr</td>\n",
              "      <td>NaN</td>\n",
              "    </tr>\n",
              "    <tr>\n",
              "      <th>2</th>\n",
              "      <td>三</td>\n",
              "      <td>three</td>\n",
              "      <td>sān</td>\n",
              "      <td>NaN</td>\n",
              "    </tr>\n",
              "    <tr>\n",
              "      <th>3</th>\n",
              "      <td>四</td>\n",
              "      <td>four</td>\n",
              "      <td>sì</td>\n",
              "      <td>NaN</td>\n",
              "    </tr>\n",
              "    <tr>\n",
              "      <th>4</th>\n",
              "      <td>五</td>\n",
              "      <td>five</td>\n",
              "      <td>wǔ</td>\n",
              "      <td>NaN</td>\n",
              "    </tr>\n",
              "  </tbody>\n",
              "</table>\n",
              "</div>"
            ],
            "text/plain": [
              "  Hanzi Meaning Notes  Words\n",
              "0     一     one    yī    NaN\n",
              "1     二     two    èr    NaN\n",
              "2     三   three   sān    NaN\n",
              "3     四    four    sì    NaN\n",
              "4     五    five    wǔ    NaN"
            ]
          },
          "metadata": {},
          "execution_count": 3
        }
      ]
    },
    {
      "cell_type": "code",
      "metadata": {
        "id": "7LtfyCPGjo4J"
      },
      "source": [
        "def get_example_words(char):\n",
        "  try:\n",
        "    url_start = \"https://learn-chinese-words.com/dictionary.php?input=\"\n",
        "    source = requests.get(url_start+char).text\n",
        "    soup = BeautifulSoup(source, 'html.parser')\n",
        "    results = soup.find('table', {'class':'results'})\n",
        "    df = pd.read_html(str(results))[0].fillna('') #str for convertPinyin, NaN=>''\n",
        "    df[1] = df[1].apply(convertPinyin)\n",
        "    df[2] = df[2].apply(convertPinyin)\n",
        "    ch = list(df[0])\n",
        "    py = list(df[1])\n",
        "    en = list(df[2])\n",
        "    samples = '<br>'.join([' '.join(sample) for sample in list(zip(ch,py,en))])\n",
        "    return samples\n",
        "  except Exception as e:\n",
        "    print(f'problem withi {char}:\\n{e}')\n",
        "    return ''\n",
        "\n",
        "\n",
        "# test_slice['Words'] = test_slice['Hanzi'].apply(get_example_words)"
      ],
      "execution_count": 4,
      "outputs": []
    },
    {
      "cell_type": "markdown",
      "metadata": {
        "id": "RFhujKkfqCip"
      },
      "source": [
        "Test done. Time for actual conversion"
      ]
    },
    {
      "cell_type": "code",
      "metadata": {
        "id": "ugHxL4ptrVGN",
        "colab": {
          "base_uri": "https://localhost:8080/"
        },
        "outputId": "f1f3168a-bb95-4a47-be48-9543e00cb1b1"
      },
      "source": [
        "!pip install ipython-autotime\n",
        "\n",
        "%load_ext autotime"
      ],
      "execution_count": 5,
      "outputs": [
        {
          "output_type": "stream",
          "name": "stdout",
          "text": [
            "Collecting ipython-autotime\n",
            "  Downloading ipython_autotime-0.3.1-py2.py3-none-any.whl (6.8 kB)\n",
            "Requirement already satisfied: ipython in /usr/local/lib/python3.7/dist-packages (from ipython-autotime) (5.5.0)\n",
            "Requirement already satisfied: decorator in /usr/local/lib/python3.7/dist-packages (from ipython->ipython-autotime) (4.4.2)\n",
            "Requirement already satisfied: setuptools>=18.5 in /usr/local/lib/python3.7/dist-packages (from ipython->ipython-autotime) (57.4.0)\n",
            "Requirement already satisfied: pexpect in /usr/local/lib/python3.7/dist-packages (from ipython->ipython-autotime) (4.8.0)\n",
            "Requirement already satisfied: pygments in /usr/local/lib/python3.7/dist-packages (from ipython->ipython-autotime) (2.6.1)\n",
            "Requirement already satisfied: prompt-toolkit<2.0.0,>=1.0.4 in /usr/local/lib/python3.7/dist-packages (from ipython->ipython-autotime) (1.0.18)\n",
            "Requirement already satisfied: traitlets>=4.2 in /usr/local/lib/python3.7/dist-packages (from ipython->ipython-autotime) (5.1.1)\n",
            "Requirement already satisfied: pickleshare in /usr/local/lib/python3.7/dist-packages (from ipython->ipython-autotime) (0.7.5)\n",
            "Requirement already satisfied: simplegeneric>0.8 in /usr/local/lib/python3.7/dist-packages (from ipython->ipython-autotime) (0.8.1)\n",
            "Requirement already satisfied: six>=1.9.0 in /usr/local/lib/python3.7/dist-packages (from prompt-toolkit<2.0.0,>=1.0.4->ipython->ipython-autotime) (1.15.0)\n",
            "Requirement already satisfied: wcwidth in /usr/local/lib/python3.7/dist-packages (from prompt-toolkit<2.0.0,>=1.0.4->ipython->ipython-autotime) (0.2.5)\n",
            "Requirement already satisfied: ptyprocess>=0.5 in /usr/local/lib/python3.7/dist-packages (from pexpect->ipython->ipython-autotime) (0.7.0)\n",
            "Installing collected packages: ipython-autotime\n",
            "Successfully installed ipython-autotime-0.3.1\n",
            "time: 946 µs (started: 2021-12-05 03:44:19 +00:00)\n"
          ]
        }
      ]
    },
    {
      "cell_type": "code",
      "metadata": {
        "id": "ERTmiKe8mTeD",
        "colab": {
          "base_uri": "https://localhost:8080/",
          "height": 623
        },
        "outputId": "64c885e0-dad5-4c4c-e53c-2e7f1f7b08a0"
      },
      "source": [
        "# old['Words'] = old['Hanzi'].apply(get_example_words)"
      ],
      "execution_count": 6,
      "outputs": [
        {
          "output_type": "stream",
          "name": "stdout",
          "text": [
            "problem withi 的<br>(2):\n",
            "No tables found matching pattern '.+'\n",
            "problem withi 会 (2):\n",
            "No tables found matching pattern '.+'\n",
            "problem withi 周 (2):\n",
            "No tables found matching pattern '.+'\n",
            "problem withi 带 (2):\n",
            "No tables found matching pattern '.+'\n"
          ]
        },
        {
          "output_type": "error",
          "ename": "KeyboardInterrupt",
          "evalue": "ignored",
          "traceback": [
            "\u001b[0;31m---------------------------------------------------------------------------\u001b[0m",
            "\u001b[0;31mTypeError\u001b[0m                                 Traceback (most recent call last)",
            "\u001b[0;32m/usr/local/lib/python3.7/dist-packages/urllib3/connectionpool.py\u001b[0m in \u001b[0;36m_make_request\u001b[0;34m(self, conn, method, url, timeout, chunked, **httplib_request_kw)\u001b[0m\n\u001b[1;32m    376\u001b[0m             \u001b[0;32mtry\u001b[0m\u001b[0;34m:\u001b[0m  \u001b[0;31m# Python 2.7, use buffering of HTTP responses\u001b[0m\u001b[0;34m\u001b[0m\u001b[0;34m\u001b[0m\u001b[0m\n\u001b[0;32m--> 377\u001b[0;31m                 \u001b[0mhttplib_response\u001b[0m \u001b[0;34m=\u001b[0m \u001b[0mconn\u001b[0m\u001b[0;34m.\u001b[0m\u001b[0mgetresponse\u001b[0m\u001b[0;34m(\u001b[0m\u001b[0mbuffering\u001b[0m\u001b[0;34m=\u001b[0m\u001b[0;32mTrue\u001b[0m\u001b[0;34m)\u001b[0m\u001b[0;34m\u001b[0m\u001b[0;34m\u001b[0m\u001b[0m\n\u001b[0m\u001b[1;32m    378\u001b[0m             \u001b[0;32mexcept\u001b[0m \u001b[0mTypeError\u001b[0m\u001b[0;34m:\u001b[0m  \u001b[0;31m# Python 3\u001b[0m\u001b[0;34m\u001b[0m\u001b[0;34m\u001b[0m\u001b[0m\n",
            "\u001b[0;31mTypeError\u001b[0m: getresponse() got an unexpected keyword argument 'buffering'",
            "\nDuring handling of the above exception, another exception occurred:\n",
            "\u001b[0;31mKeyboardInterrupt\u001b[0m                         Traceback (most recent call last)",
            "\u001b[0;32m<ipython-input-6-0787e9e529a2>\u001b[0m in \u001b[0;36m<module>\u001b[0;34m()\u001b[0m\n\u001b[0;32m----> 1\u001b[0;31m \u001b[0mold\u001b[0m\u001b[0;34m[\u001b[0m\u001b[0;34m'Words'\u001b[0m\u001b[0;34m]\u001b[0m \u001b[0;34m=\u001b[0m \u001b[0mold\u001b[0m\u001b[0;34m[\u001b[0m\u001b[0;34m'Hanzi'\u001b[0m\u001b[0;34m]\u001b[0m\u001b[0;34m.\u001b[0m\u001b[0mapply\u001b[0m\u001b[0;34m(\u001b[0m\u001b[0mget_example_words\u001b[0m\u001b[0;34m)\u001b[0m\u001b[0;34m\u001b[0m\u001b[0;34m\u001b[0m\u001b[0m\n\u001b[0m",
            "\u001b[0;32m/usr/local/lib/python3.7/dist-packages/pandas/core/series.py\u001b[0m in \u001b[0;36mapply\u001b[0;34m(self, func, convert_dtype, args, **kwds)\u001b[0m\n\u001b[1;32m   4211\u001b[0m             \u001b[0;32melse\u001b[0m\u001b[0;34m:\u001b[0m\u001b[0;34m\u001b[0m\u001b[0;34m\u001b[0m\u001b[0m\n\u001b[1;32m   4212\u001b[0m                 \u001b[0mvalues\u001b[0m \u001b[0;34m=\u001b[0m \u001b[0mself\u001b[0m\u001b[0;34m.\u001b[0m\u001b[0mastype\u001b[0m\u001b[0;34m(\u001b[0m\u001b[0mobject\u001b[0m\u001b[0;34m)\u001b[0m\u001b[0;34m.\u001b[0m\u001b[0m_values\u001b[0m\u001b[0;34m\u001b[0m\u001b[0;34m\u001b[0m\u001b[0m\n\u001b[0;32m-> 4213\u001b[0;31m                 \u001b[0mmapped\u001b[0m \u001b[0;34m=\u001b[0m \u001b[0mlib\u001b[0m\u001b[0;34m.\u001b[0m\u001b[0mmap_infer\u001b[0m\u001b[0;34m(\u001b[0m\u001b[0mvalues\u001b[0m\u001b[0;34m,\u001b[0m \u001b[0mf\u001b[0m\u001b[0;34m,\u001b[0m \u001b[0mconvert\u001b[0m\u001b[0;34m=\u001b[0m\u001b[0mconvert_dtype\u001b[0m\u001b[0;34m)\u001b[0m\u001b[0;34m\u001b[0m\u001b[0;34m\u001b[0m\u001b[0m\n\u001b[0m\u001b[1;32m   4214\u001b[0m \u001b[0;34m\u001b[0m\u001b[0m\n\u001b[1;32m   4215\u001b[0m         \u001b[0;32mif\u001b[0m \u001b[0mlen\u001b[0m\u001b[0;34m(\u001b[0m\u001b[0mmapped\u001b[0m\u001b[0;34m)\u001b[0m \u001b[0;32mand\u001b[0m \u001b[0misinstance\u001b[0m\u001b[0;34m(\u001b[0m\u001b[0mmapped\u001b[0m\u001b[0;34m[\u001b[0m\u001b[0;36m0\u001b[0m\u001b[0;34m]\u001b[0m\u001b[0;34m,\u001b[0m \u001b[0mSeries\u001b[0m\u001b[0;34m)\u001b[0m\u001b[0;34m:\u001b[0m\u001b[0;34m\u001b[0m\u001b[0;34m\u001b[0m\u001b[0m\n",
            "\u001b[0;32mpandas/_libs/lib.pyx\u001b[0m in \u001b[0;36mpandas._libs.lib.map_infer\u001b[0;34m()\u001b[0m\n",
            "\u001b[0;32m<ipython-input-4-6c8d14d64099>\u001b[0m in \u001b[0;36mget_example_words\u001b[0;34m(char)\u001b[0m\n\u001b[1;32m      2\u001b[0m   \u001b[0;32mtry\u001b[0m\u001b[0;34m:\u001b[0m\u001b[0;34m\u001b[0m\u001b[0;34m\u001b[0m\u001b[0m\n\u001b[1;32m      3\u001b[0m     \u001b[0murl_start\u001b[0m \u001b[0;34m=\u001b[0m \u001b[0;34m\"https://learn-chinese-words.com/dictionary.php?input=\"\u001b[0m\u001b[0;34m\u001b[0m\u001b[0;34m\u001b[0m\u001b[0m\n\u001b[0;32m----> 4\u001b[0;31m     \u001b[0msource\u001b[0m \u001b[0;34m=\u001b[0m \u001b[0mrequests\u001b[0m\u001b[0;34m.\u001b[0m\u001b[0mget\u001b[0m\u001b[0;34m(\u001b[0m\u001b[0murl_start\u001b[0m\u001b[0;34m+\u001b[0m\u001b[0mchar\u001b[0m\u001b[0;34m)\u001b[0m\u001b[0;34m.\u001b[0m\u001b[0mtext\u001b[0m\u001b[0;34m\u001b[0m\u001b[0;34m\u001b[0m\u001b[0m\n\u001b[0m\u001b[1;32m      5\u001b[0m     \u001b[0msoup\u001b[0m \u001b[0;34m=\u001b[0m \u001b[0mBeautifulSoup\u001b[0m\u001b[0;34m(\u001b[0m\u001b[0msource\u001b[0m\u001b[0;34m,\u001b[0m \u001b[0;34m'html.parser'\u001b[0m\u001b[0;34m)\u001b[0m\u001b[0;34m\u001b[0m\u001b[0;34m\u001b[0m\u001b[0m\n\u001b[1;32m      6\u001b[0m     \u001b[0mresults\u001b[0m \u001b[0;34m=\u001b[0m \u001b[0msoup\u001b[0m\u001b[0;34m.\u001b[0m\u001b[0mfind\u001b[0m\u001b[0;34m(\u001b[0m\u001b[0;34m'table'\u001b[0m\u001b[0;34m,\u001b[0m \u001b[0;34m{\u001b[0m\u001b[0;34m'class'\u001b[0m\u001b[0;34m:\u001b[0m\u001b[0;34m'results'\u001b[0m\u001b[0;34m}\u001b[0m\u001b[0;34m)\u001b[0m\u001b[0;34m\u001b[0m\u001b[0;34m\u001b[0m\u001b[0m\n",
            "\u001b[0;32m/usr/local/lib/python3.7/dist-packages/requests/api.py\u001b[0m in \u001b[0;36mget\u001b[0;34m(url, params, **kwargs)\u001b[0m\n\u001b[1;32m     74\u001b[0m \u001b[0;34m\u001b[0m\u001b[0m\n\u001b[1;32m     75\u001b[0m     \u001b[0mkwargs\u001b[0m\u001b[0;34m.\u001b[0m\u001b[0msetdefault\u001b[0m\u001b[0;34m(\u001b[0m\u001b[0;34m'allow_redirects'\u001b[0m\u001b[0;34m,\u001b[0m \u001b[0;32mTrue\u001b[0m\u001b[0;34m)\u001b[0m\u001b[0;34m\u001b[0m\u001b[0;34m\u001b[0m\u001b[0m\n\u001b[0;32m---> 76\u001b[0;31m     \u001b[0;32mreturn\u001b[0m \u001b[0mrequest\u001b[0m\u001b[0;34m(\u001b[0m\u001b[0;34m'get'\u001b[0m\u001b[0;34m,\u001b[0m \u001b[0murl\u001b[0m\u001b[0;34m,\u001b[0m \u001b[0mparams\u001b[0m\u001b[0;34m=\u001b[0m\u001b[0mparams\u001b[0m\u001b[0;34m,\u001b[0m \u001b[0;34m**\u001b[0m\u001b[0mkwargs\u001b[0m\u001b[0;34m)\u001b[0m\u001b[0;34m\u001b[0m\u001b[0;34m\u001b[0m\u001b[0m\n\u001b[0m\u001b[1;32m     77\u001b[0m \u001b[0;34m\u001b[0m\u001b[0m\n\u001b[1;32m     78\u001b[0m \u001b[0;34m\u001b[0m\u001b[0m\n",
            "\u001b[0;32m/usr/local/lib/python3.7/dist-packages/requests/api.py\u001b[0m in \u001b[0;36mrequest\u001b[0;34m(method, url, **kwargs)\u001b[0m\n\u001b[1;32m     59\u001b[0m     \u001b[0;31m# cases, and look like a memory leak in others.\u001b[0m\u001b[0;34m\u001b[0m\u001b[0;34m\u001b[0m\u001b[0;34m\u001b[0m\u001b[0m\n\u001b[1;32m     60\u001b[0m     \u001b[0;32mwith\u001b[0m \u001b[0msessions\u001b[0m\u001b[0;34m.\u001b[0m\u001b[0mSession\u001b[0m\u001b[0;34m(\u001b[0m\u001b[0;34m)\u001b[0m \u001b[0;32mas\u001b[0m \u001b[0msession\u001b[0m\u001b[0;34m:\u001b[0m\u001b[0;34m\u001b[0m\u001b[0;34m\u001b[0m\u001b[0m\n\u001b[0;32m---> 61\u001b[0;31m         \u001b[0;32mreturn\u001b[0m \u001b[0msession\u001b[0m\u001b[0;34m.\u001b[0m\u001b[0mrequest\u001b[0m\u001b[0;34m(\u001b[0m\u001b[0mmethod\u001b[0m\u001b[0;34m=\u001b[0m\u001b[0mmethod\u001b[0m\u001b[0;34m,\u001b[0m \u001b[0murl\u001b[0m\u001b[0;34m=\u001b[0m\u001b[0murl\u001b[0m\u001b[0;34m,\u001b[0m \u001b[0;34m**\u001b[0m\u001b[0mkwargs\u001b[0m\u001b[0;34m)\u001b[0m\u001b[0;34m\u001b[0m\u001b[0;34m\u001b[0m\u001b[0m\n\u001b[0m\u001b[1;32m     62\u001b[0m \u001b[0;34m\u001b[0m\u001b[0m\n\u001b[1;32m     63\u001b[0m \u001b[0;34m\u001b[0m\u001b[0m\n",
            "\u001b[0;32m/usr/local/lib/python3.7/dist-packages/requests/sessions.py\u001b[0m in \u001b[0;36mrequest\u001b[0;34m(self, method, url, params, data, headers, cookies, files, auth, timeout, allow_redirects, proxies, hooks, stream, verify, cert, json)\u001b[0m\n\u001b[1;32m    528\u001b[0m         }\n\u001b[1;32m    529\u001b[0m         \u001b[0msend_kwargs\u001b[0m\u001b[0;34m.\u001b[0m\u001b[0mupdate\u001b[0m\u001b[0;34m(\u001b[0m\u001b[0msettings\u001b[0m\u001b[0;34m)\u001b[0m\u001b[0;34m\u001b[0m\u001b[0;34m\u001b[0m\u001b[0m\n\u001b[0;32m--> 530\u001b[0;31m         \u001b[0mresp\u001b[0m \u001b[0;34m=\u001b[0m \u001b[0mself\u001b[0m\u001b[0;34m.\u001b[0m\u001b[0msend\u001b[0m\u001b[0;34m(\u001b[0m\u001b[0mprep\u001b[0m\u001b[0;34m,\u001b[0m \u001b[0;34m**\u001b[0m\u001b[0msend_kwargs\u001b[0m\u001b[0;34m)\u001b[0m\u001b[0;34m\u001b[0m\u001b[0;34m\u001b[0m\u001b[0m\n\u001b[0m\u001b[1;32m    531\u001b[0m \u001b[0;34m\u001b[0m\u001b[0m\n\u001b[1;32m    532\u001b[0m         \u001b[0;32mreturn\u001b[0m \u001b[0mresp\u001b[0m\u001b[0;34m\u001b[0m\u001b[0;34m\u001b[0m\u001b[0m\n",
            "\u001b[0;32m/usr/local/lib/python3.7/dist-packages/requests/sessions.py\u001b[0m in \u001b[0;36msend\u001b[0;34m(self, request, **kwargs)\u001b[0m\n\u001b[1;32m    641\u001b[0m \u001b[0;34m\u001b[0m\u001b[0m\n\u001b[1;32m    642\u001b[0m         \u001b[0;31m# Send the request\u001b[0m\u001b[0;34m\u001b[0m\u001b[0;34m\u001b[0m\u001b[0;34m\u001b[0m\u001b[0m\n\u001b[0;32m--> 643\u001b[0;31m         \u001b[0mr\u001b[0m \u001b[0;34m=\u001b[0m \u001b[0madapter\u001b[0m\u001b[0;34m.\u001b[0m\u001b[0msend\u001b[0m\u001b[0;34m(\u001b[0m\u001b[0mrequest\u001b[0m\u001b[0;34m,\u001b[0m \u001b[0;34m**\u001b[0m\u001b[0mkwargs\u001b[0m\u001b[0;34m)\u001b[0m\u001b[0;34m\u001b[0m\u001b[0;34m\u001b[0m\u001b[0m\n\u001b[0m\u001b[1;32m    644\u001b[0m \u001b[0;34m\u001b[0m\u001b[0m\n\u001b[1;32m    645\u001b[0m         \u001b[0;31m# Total elapsed time of the request (approximately)\u001b[0m\u001b[0;34m\u001b[0m\u001b[0;34m\u001b[0m\u001b[0;34m\u001b[0m\u001b[0m\n",
            "\u001b[0;32m/usr/local/lib/python3.7/dist-packages/requests/adapters.py\u001b[0m in \u001b[0;36msend\u001b[0;34m(self, request, stream, timeout, verify, cert, proxies)\u001b[0m\n\u001b[1;32m    447\u001b[0m                     \u001b[0mdecode_content\u001b[0m\u001b[0;34m=\u001b[0m\u001b[0;32mFalse\u001b[0m\u001b[0;34m,\u001b[0m\u001b[0;34m\u001b[0m\u001b[0;34m\u001b[0m\u001b[0m\n\u001b[1;32m    448\u001b[0m                     \u001b[0mretries\u001b[0m\u001b[0;34m=\u001b[0m\u001b[0mself\u001b[0m\u001b[0;34m.\u001b[0m\u001b[0mmax_retries\u001b[0m\u001b[0;34m,\u001b[0m\u001b[0;34m\u001b[0m\u001b[0;34m\u001b[0m\u001b[0m\n\u001b[0;32m--> 449\u001b[0;31m                     \u001b[0mtimeout\u001b[0m\u001b[0;34m=\u001b[0m\u001b[0mtimeout\u001b[0m\u001b[0;34m\u001b[0m\u001b[0;34m\u001b[0m\u001b[0m\n\u001b[0m\u001b[1;32m    450\u001b[0m                 )\n\u001b[1;32m    451\u001b[0m \u001b[0;34m\u001b[0m\u001b[0m\n",
            "\u001b[0;32m/usr/local/lib/python3.7/dist-packages/urllib3/connectionpool.py\u001b[0m in \u001b[0;36murlopen\u001b[0;34m(self, method, url, body, headers, retries, redirect, assert_same_host, timeout, pool_timeout, release_conn, chunked, body_pos, **response_kw)\u001b[0m\n\u001b[1;32m    598\u001b[0m                                                   \u001b[0mtimeout\u001b[0m\u001b[0;34m=\u001b[0m\u001b[0mtimeout_obj\u001b[0m\u001b[0;34m,\u001b[0m\u001b[0;34m\u001b[0m\u001b[0;34m\u001b[0m\u001b[0m\n\u001b[1;32m    599\u001b[0m                                                   \u001b[0mbody\u001b[0m\u001b[0;34m=\u001b[0m\u001b[0mbody\u001b[0m\u001b[0;34m,\u001b[0m \u001b[0mheaders\u001b[0m\u001b[0;34m=\u001b[0m\u001b[0mheaders\u001b[0m\u001b[0;34m,\u001b[0m\u001b[0;34m\u001b[0m\u001b[0;34m\u001b[0m\u001b[0m\n\u001b[0;32m--> 600\u001b[0;31m                                                   chunked=chunked)\n\u001b[0m\u001b[1;32m    601\u001b[0m \u001b[0;34m\u001b[0m\u001b[0m\n\u001b[1;32m    602\u001b[0m             \u001b[0;31m# If we're going to release the connection in ``finally:``, then\u001b[0m\u001b[0;34m\u001b[0m\u001b[0;34m\u001b[0m\u001b[0;34m\u001b[0m\u001b[0m\n",
            "\u001b[0;32m/usr/local/lib/python3.7/dist-packages/urllib3/connectionpool.py\u001b[0m in \u001b[0;36m_make_request\u001b[0;34m(self, conn, method, url, timeout, chunked, **httplib_request_kw)\u001b[0m\n\u001b[1;32m    378\u001b[0m             \u001b[0;32mexcept\u001b[0m \u001b[0mTypeError\u001b[0m\u001b[0;34m:\u001b[0m  \u001b[0;31m# Python 3\u001b[0m\u001b[0;34m\u001b[0m\u001b[0;34m\u001b[0m\u001b[0m\n\u001b[1;32m    379\u001b[0m                 \u001b[0;32mtry\u001b[0m\u001b[0;34m:\u001b[0m\u001b[0;34m\u001b[0m\u001b[0;34m\u001b[0m\u001b[0m\n\u001b[0;32m--> 380\u001b[0;31m                     \u001b[0mhttplib_response\u001b[0m \u001b[0;34m=\u001b[0m \u001b[0mconn\u001b[0m\u001b[0;34m.\u001b[0m\u001b[0mgetresponse\u001b[0m\u001b[0;34m(\u001b[0m\u001b[0;34m)\u001b[0m\u001b[0;34m\u001b[0m\u001b[0;34m\u001b[0m\u001b[0m\n\u001b[0m\u001b[1;32m    381\u001b[0m                 \u001b[0;32mexcept\u001b[0m \u001b[0mException\u001b[0m \u001b[0;32mas\u001b[0m \u001b[0me\u001b[0m\u001b[0;34m:\u001b[0m\u001b[0;34m\u001b[0m\u001b[0;34m\u001b[0m\u001b[0m\n\u001b[1;32m    382\u001b[0m                     \u001b[0;31m# Remove the TypeError from the exception chain in Python 3;\u001b[0m\u001b[0;34m\u001b[0m\u001b[0;34m\u001b[0m\u001b[0;34m\u001b[0m\u001b[0m\n",
            "\u001b[0;32m/usr/lib/python3.7/http/client.py\u001b[0m in \u001b[0;36mgetresponse\u001b[0;34m(self)\u001b[0m\n\u001b[1;32m   1371\u001b[0m         \u001b[0;32mtry\u001b[0m\u001b[0;34m:\u001b[0m\u001b[0;34m\u001b[0m\u001b[0;34m\u001b[0m\u001b[0m\n\u001b[1;32m   1372\u001b[0m             \u001b[0;32mtry\u001b[0m\u001b[0;34m:\u001b[0m\u001b[0;34m\u001b[0m\u001b[0;34m\u001b[0m\u001b[0m\n\u001b[0;32m-> 1373\u001b[0;31m                 \u001b[0mresponse\u001b[0m\u001b[0;34m.\u001b[0m\u001b[0mbegin\u001b[0m\u001b[0;34m(\u001b[0m\u001b[0;34m)\u001b[0m\u001b[0;34m\u001b[0m\u001b[0;34m\u001b[0m\u001b[0m\n\u001b[0m\u001b[1;32m   1374\u001b[0m             \u001b[0;32mexcept\u001b[0m \u001b[0mConnectionError\u001b[0m\u001b[0;34m:\u001b[0m\u001b[0;34m\u001b[0m\u001b[0;34m\u001b[0m\u001b[0m\n\u001b[1;32m   1375\u001b[0m                 \u001b[0mself\u001b[0m\u001b[0;34m.\u001b[0m\u001b[0mclose\u001b[0m\u001b[0;34m(\u001b[0m\u001b[0;34m)\u001b[0m\u001b[0;34m\u001b[0m\u001b[0;34m\u001b[0m\u001b[0m\n",
            "\u001b[0;32m/usr/lib/python3.7/http/client.py\u001b[0m in \u001b[0;36mbegin\u001b[0;34m(self)\u001b[0m\n\u001b[1;32m    317\u001b[0m         \u001b[0;31m# read until we get a non-100 response\u001b[0m\u001b[0;34m\u001b[0m\u001b[0;34m\u001b[0m\u001b[0;34m\u001b[0m\u001b[0m\n\u001b[1;32m    318\u001b[0m         \u001b[0;32mwhile\u001b[0m \u001b[0;32mTrue\u001b[0m\u001b[0;34m:\u001b[0m\u001b[0;34m\u001b[0m\u001b[0;34m\u001b[0m\u001b[0m\n\u001b[0;32m--> 319\u001b[0;31m             \u001b[0mversion\u001b[0m\u001b[0;34m,\u001b[0m \u001b[0mstatus\u001b[0m\u001b[0;34m,\u001b[0m \u001b[0mreason\u001b[0m \u001b[0;34m=\u001b[0m \u001b[0mself\u001b[0m\u001b[0;34m.\u001b[0m\u001b[0m_read_status\u001b[0m\u001b[0;34m(\u001b[0m\u001b[0;34m)\u001b[0m\u001b[0;34m\u001b[0m\u001b[0;34m\u001b[0m\u001b[0m\n\u001b[0m\u001b[1;32m    320\u001b[0m             \u001b[0;32mif\u001b[0m \u001b[0mstatus\u001b[0m \u001b[0;34m!=\u001b[0m \u001b[0mCONTINUE\u001b[0m\u001b[0;34m:\u001b[0m\u001b[0;34m\u001b[0m\u001b[0;34m\u001b[0m\u001b[0m\n\u001b[1;32m    321\u001b[0m                 \u001b[0;32mbreak\u001b[0m\u001b[0;34m\u001b[0m\u001b[0;34m\u001b[0m\u001b[0m\n",
            "\u001b[0;32m/usr/lib/python3.7/http/client.py\u001b[0m in \u001b[0;36m_read_status\u001b[0;34m(self)\u001b[0m\n\u001b[1;32m    278\u001b[0m \u001b[0;34m\u001b[0m\u001b[0m\n\u001b[1;32m    279\u001b[0m     \u001b[0;32mdef\u001b[0m \u001b[0m_read_status\u001b[0m\u001b[0;34m(\u001b[0m\u001b[0mself\u001b[0m\u001b[0;34m)\u001b[0m\u001b[0;34m:\u001b[0m\u001b[0;34m\u001b[0m\u001b[0;34m\u001b[0m\u001b[0m\n\u001b[0;32m--> 280\u001b[0;31m         \u001b[0mline\u001b[0m \u001b[0;34m=\u001b[0m \u001b[0mstr\u001b[0m\u001b[0;34m(\u001b[0m\u001b[0mself\u001b[0m\u001b[0;34m.\u001b[0m\u001b[0mfp\u001b[0m\u001b[0;34m.\u001b[0m\u001b[0mreadline\u001b[0m\u001b[0;34m(\u001b[0m\u001b[0m_MAXLINE\u001b[0m \u001b[0;34m+\u001b[0m \u001b[0;36m1\u001b[0m\u001b[0;34m)\u001b[0m\u001b[0;34m,\u001b[0m \u001b[0;34m\"iso-8859-1\"\u001b[0m\u001b[0;34m)\u001b[0m\u001b[0;34m\u001b[0m\u001b[0;34m\u001b[0m\u001b[0m\n\u001b[0m\u001b[1;32m    281\u001b[0m         \u001b[0;32mif\u001b[0m \u001b[0mlen\u001b[0m\u001b[0;34m(\u001b[0m\u001b[0mline\u001b[0m\u001b[0;34m)\u001b[0m \u001b[0;34m>\u001b[0m \u001b[0m_MAXLINE\u001b[0m\u001b[0;34m:\u001b[0m\u001b[0;34m\u001b[0m\u001b[0;34m\u001b[0m\u001b[0m\n\u001b[1;32m    282\u001b[0m             \u001b[0;32mraise\u001b[0m \u001b[0mLineTooLong\u001b[0m\u001b[0;34m(\u001b[0m\u001b[0;34m\"status line\"\u001b[0m\u001b[0;34m)\u001b[0m\u001b[0;34m\u001b[0m\u001b[0;34m\u001b[0m\u001b[0m\n",
            "\u001b[0;32m/usr/lib/python3.7/socket.py\u001b[0m in \u001b[0;36mreadinto\u001b[0;34m(self, b)\u001b[0m\n\u001b[1;32m    587\u001b[0m         \u001b[0;32mwhile\u001b[0m \u001b[0;32mTrue\u001b[0m\u001b[0;34m:\u001b[0m\u001b[0;34m\u001b[0m\u001b[0;34m\u001b[0m\u001b[0m\n\u001b[1;32m    588\u001b[0m             \u001b[0;32mtry\u001b[0m\u001b[0;34m:\u001b[0m\u001b[0;34m\u001b[0m\u001b[0;34m\u001b[0m\u001b[0m\n\u001b[0;32m--> 589\u001b[0;31m                 \u001b[0;32mreturn\u001b[0m \u001b[0mself\u001b[0m\u001b[0;34m.\u001b[0m\u001b[0m_sock\u001b[0m\u001b[0;34m.\u001b[0m\u001b[0mrecv_into\u001b[0m\u001b[0;34m(\u001b[0m\u001b[0mb\u001b[0m\u001b[0;34m)\u001b[0m\u001b[0;34m\u001b[0m\u001b[0;34m\u001b[0m\u001b[0m\n\u001b[0m\u001b[1;32m    590\u001b[0m             \u001b[0;32mexcept\u001b[0m \u001b[0mtimeout\u001b[0m\u001b[0;34m:\u001b[0m\u001b[0;34m\u001b[0m\u001b[0;34m\u001b[0m\u001b[0m\n\u001b[1;32m    591\u001b[0m                 \u001b[0mself\u001b[0m\u001b[0;34m.\u001b[0m\u001b[0m_timeout_occurred\u001b[0m \u001b[0;34m=\u001b[0m \u001b[0;32mTrue\u001b[0m\u001b[0;34m\u001b[0m\u001b[0;34m\u001b[0m\u001b[0m\n",
            "\u001b[0;32m/usr/lib/python3.7/ssl.py\u001b[0m in \u001b[0;36mrecv_into\u001b[0;34m(self, buffer, nbytes, flags)\u001b[0m\n\u001b[1;32m   1069\u001b[0m                   \u001b[0;34m\"non-zero flags not allowed in calls to recv_into() on %s\"\u001b[0m \u001b[0;34m%\u001b[0m\u001b[0;34m\u001b[0m\u001b[0;34m\u001b[0m\u001b[0m\n\u001b[1;32m   1070\u001b[0m                   self.__class__)\n\u001b[0;32m-> 1071\u001b[0;31m             \u001b[0;32mreturn\u001b[0m \u001b[0mself\u001b[0m\u001b[0;34m.\u001b[0m\u001b[0mread\u001b[0m\u001b[0;34m(\u001b[0m\u001b[0mnbytes\u001b[0m\u001b[0;34m,\u001b[0m \u001b[0mbuffer\u001b[0m\u001b[0;34m)\u001b[0m\u001b[0;34m\u001b[0m\u001b[0;34m\u001b[0m\u001b[0m\n\u001b[0m\u001b[1;32m   1072\u001b[0m         \u001b[0;32melse\u001b[0m\u001b[0;34m:\u001b[0m\u001b[0;34m\u001b[0m\u001b[0;34m\u001b[0m\u001b[0m\n\u001b[1;32m   1073\u001b[0m             \u001b[0;32mreturn\u001b[0m \u001b[0msuper\u001b[0m\u001b[0;34m(\u001b[0m\u001b[0;34m)\u001b[0m\u001b[0;34m.\u001b[0m\u001b[0mrecv_into\u001b[0m\u001b[0;34m(\u001b[0m\u001b[0mbuffer\u001b[0m\u001b[0;34m,\u001b[0m \u001b[0mnbytes\u001b[0m\u001b[0;34m,\u001b[0m \u001b[0mflags\u001b[0m\u001b[0;34m)\u001b[0m\u001b[0;34m\u001b[0m\u001b[0;34m\u001b[0m\u001b[0m\n",
            "\u001b[0;32m/usr/lib/python3.7/ssl.py\u001b[0m in \u001b[0;36mread\u001b[0;34m(self, len, buffer)\u001b[0m\n\u001b[1;32m    927\u001b[0m         \u001b[0;32mtry\u001b[0m\u001b[0;34m:\u001b[0m\u001b[0;34m\u001b[0m\u001b[0;34m\u001b[0m\u001b[0m\n\u001b[1;32m    928\u001b[0m             \u001b[0;32mif\u001b[0m \u001b[0mbuffer\u001b[0m \u001b[0;32mis\u001b[0m \u001b[0;32mnot\u001b[0m \u001b[0;32mNone\u001b[0m\u001b[0;34m:\u001b[0m\u001b[0;34m\u001b[0m\u001b[0;34m\u001b[0m\u001b[0m\n\u001b[0;32m--> 929\u001b[0;31m                 \u001b[0;32mreturn\u001b[0m \u001b[0mself\u001b[0m\u001b[0;34m.\u001b[0m\u001b[0m_sslobj\u001b[0m\u001b[0;34m.\u001b[0m\u001b[0mread\u001b[0m\u001b[0;34m(\u001b[0m\u001b[0mlen\u001b[0m\u001b[0;34m,\u001b[0m \u001b[0mbuffer\u001b[0m\u001b[0;34m)\u001b[0m\u001b[0;34m\u001b[0m\u001b[0;34m\u001b[0m\u001b[0m\n\u001b[0m\u001b[1;32m    930\u001b[0m             \u001b[0;32melse\u001b[0m\u001b[0;34m:\u001b[0m\u001b[0;34m\u001b[0m\u001b[0;34m\u001b[0m\u001b[0m\n\u001b[1;32m    931\u001b[0m                 \u001b[0;32mreturn\u001b[0m \u001b[0mself\u001b[0m\u001b[0;34m.\u001b[0m\u001b[0m_sslobj\u001b[0m\u001b[0;34m.\u001b[0m\u001b[0mread\u001b[0m\u001b[0;34m(\u001b[0m\u001b[0mlen\u001b[0m\u001b[0;34m)\u001b[0m\u001b[0;34m\u001b[0m\u001b[0;34m\u001b[0m\u001b[0m\n",
            "\u001b[0;31mKeyboardInterrupt\u001b[0m: "
          ]
        },
        {
          "output_type": "stream",
          "name": "stdout",
          "text": [
            "time: 40min 36s (started: 2021-12-05 03:44:46 +00:00)\n"
          ]
        }
      ]
    },
    {
      "cell_type": "code",
      "metadata": {
        "id": "Qx9SfrhasZmv"
      },
      "source": [
        "old.to_csv('heisig1_with_examples',index=False)"
      ],
      "execution_count": null,
      "outputs": []
    },
    {
      "cell_type": "code",
      "metadata": {
        "id": "skJS-5VrV-oi",
        "outputId": "69fdd7d6-1c92-474e-c80a-cc1850f1b5f9",
        "colab": {
          "base_uri": "https://localhost:8080/",
          "height": 441
        }
      },
      "source": [
        "# temp\n",
        "headers =  [\"Hanzi\", \"Meaning\", \"Notes\", \"Words\"]\n",
        "editme = pd.read_csv('heisig1_to_edit.csv', index_col=False, names=headers)\n",
        "# editme.Words = old.Words\n",
        "editme"
      ],
      "execution_count": 7,
      "outputs": [
        {
          "output_type": "execute_result",
          "data": {
            "text/html": [
              "<div>\n",
              "<style scoped>\n",
              "    .dataframe tbody tr th:only-of-type {\n",
              "        vertical-align: middle;\n",
              "    }\n",
              "\n",
              "    .dataframe tbody tr th {\n",
              "        vertical-align: top;\n",
              "    }\n",
              "\n",
              "    .dataframe thead th {\n",
              "        text-align: right;\n",
              "    }\n",
              "</style>\n",
              "<table border=\"1\" class=\"dataframe\">\n",
              "  <thead>\n",
              "    <tr style=\"text-align: right;\">\n",
              "      <th></th>\n",
              "      <th>Hanzi</th>\n",
              "      <th>Meaning</th>\n",
              "      <th>Notes</th>\n",
              "      <th>Words</th>\n",
              "    </tr>\n",
              "  </thead>\n",
              "  <tbody>\n",
              "    <tr>\n",
              "      <th>0</th>\n",
              "      <td>一</td>\n",
              "      <td>one</td>\n",
              "      <td>yī</td>\n",
              "      <td>NaN</td>\n",
              "    </tr>\n",
              "    <tr>\n",
              "      <th>1</th>\n",
              "      <td>二</td>\n",
              "      <td>two</td>\n",
              "      <td>èr</td>\n",
              "      <td>NaN</td>\n",
              "    </tr>\n",
              "    <tr>\n",
              "      <th>2</th>\n",
              "      <td>三</td>\n",
              "      <td>three</td>\n",
              "      <td>sān</td>\n",
              "      <td>NaN</td>\n",
              "    </tr>\n",
              "    <tr>\n",
              "      <th>3</th>\n",
              "      <td>四</td>\n",
              "      <td>four</td>\n",
              "      <td>sì</td>\n",
              "      <td>NaN</td>\n",
              "    </tr>\n",
              "    <tr>\n",
              "      <th>4</th>\n",
              "      <td>五</td>\n",
              "      <td>five</td>\n",
              "      <td>wǔ</td>\n",
              "      <td>NaN</td>\n",
              "    </tr>\n",
              "    <tr>\n",
              "      <th>...</th>\n",
              "      <td>...</td>\n",
              "      <td>...</td>\n",
              "      <td>...</td>\n",
              "      <td>...</td>\n",
              "    </tr>\n",
              "    <tr>\n",
              "      <th>1466</th>\n",
              "      <td>亦</td>\n",
              "      <td>likewise</td>\n",
              "      <td>yì</td>\n",
              "      <td>NaN</td>\n",
              "    </tr>\n",
              "    <tr>\n",
              "      <th>1467</th>\n",
              "      <td>极</td>\n",
              "      <td>extreme</td>\n",
              "      <td>jí</td>\n",
              "      <td>NaN</td>\n",
              "    </tr>\n",
              "    <tr>\n",
              "      <th>1468</th>\n",
              "      <td>杂</td>\n",
              "      <td>miscellaneous</td>\n",
              "      <td>zá</td>\n",
              "      <td>NaN</td>\n",
              "    </tr>\n",
              "    <tr>\n",
              "      <th>1469</th>\n",
              "      <td>曰</td>\n",
              "      <td>sayeth</td>\n",
              "      <td>yuē</td>\n",
              "      <td>NaN</td>\n",
              "    </tr>\n",
              "    <tr>\n",
              "      <th>1470</th>\n",
              "      <td>乱</td>\n",
              "      <td>chaos</td>\n",
              "      <td>luàn</td>\n",
              "      <td>NaN</td>\n",
              "    </tr>\n",
              "  </tbody>\n",
              "</table>\n",
              "<p>1471 rows × 4 columns</p>\n",
              "</div>"
            ],
            "text/plain": [
              "     Hanzi        Meaning Notes  Words\n",
              "0        一            one    yī    NaN\n",
              "1        二            two    èr    NaN\n",
              "2        三          three   sān    NaN\n",
              "3        四           four    sì    NaN\n",
              "4        五           five    wǔ    NaN\n",
              "...    ...            ...   ...    ...\n",
              "1466     亦       likewise    yì    NaN\n",
              "1467     极        extreme    jí    NaN\n",
              "1468     杂  miscellaneous    zá    NaN\n",
              "1469     曰         sayeth   yuē    NaN\n",
              "1470     乱          chaos  luàn    NaN\n",
              "\n",
              "[1471 rows x 4 columns]"
            ]
          },
          "metadata": {},
          "execution_count": 7
        },
        {
          "output_type": "stream",
          "name": "stdout",
          "text": [
            "time: 44.7 ms (started: 2021-12-05 04:27:42 +00:00)\n"
          ]
        }
      ]
    },
    {
      "cell_type": "code",
      "metadata": {
        "id": "Dr3wpKLS2TOI",
        "outputId": "259e51b5-6bcd-4bcf-c564-316435905d76",
        "colab": {
          "base_uri": "https://localhost:8080/"
        }
      },
      "source": [
        "editme['Words'] = editme['Hanzi'].apply(get_example_words)"
      ],
      "execution_count": 8,
      "outputs": [
        {
          "output_type": "stream",
          "name": "stdout",
          "text": [
            "problem withi 的<br>(2):\n",
            "No tables found matching pattern '.+'\n",
            "problem withi 会 (2):\n",
            "No tables found matching pattern '.+'\n",
            "problem withi 周 (2):\n",
            "No tables found matching pattern '.+'\n",
            "problem withi 带 (2):\n",
            "No tables found matching pattern '.+'\n",
            "time: 46min 19s (started: 2021-12-05 04:28:16 +00:00)\n"
          ]
        }
      ]
    },
    {
      "cell_type": "code",
      "metadata": {
        "id": "brpJUoWRDDSc",
        "outputId": "4a6349ba-1919-4b3b-dd11-a9d708b076a9",
        "colab": {
          "base_uri": "https://localhost:8080/"
        }
      },
      "source": [
        "editme.Words.str.replace('<br>','\\n',regex=True)\n",
        "def split_newlines(text):\n",
        "  return '\\n'.join([x.strip() for x in text.split('<br>')])\n",
        "# df1 = pd.DataFrame({'Words':[x.strip() for x in editme.split('<br>')]})\n",
        "editme.Words = editme.Words.apply(lambda x : x.replace('<br>', '\\\\n'))\n",
        "# editme.Words.apply(split_newlines)"
      ],
      "execution_count": 28,
      "outputs": [
        {
          "output_type": "stream",
          "name": "stdout",
          "text": [
            "time: 18.5 ms (started: 2021-12-05 06:07:36 +00:00)\n"
          ]
        }
      ]
    },
    {
      "cell_type": "code",
      "metadata": {
        "id": "HOaBjF9UNLrZ",
        "outputId": "5fd407aa-2f95-4e7b-85ed-741b9403d69c",
        "colab": {
          "base_uri": "https://localhost:8080/",
          "height": 224
        }
      },
      "source": [
        "editme.head()"
      ],
      "execution_count": 29,
      "outputs": [
        {
          "output_type": "execute_result",
          "data": {
            "text/html": [
              "<div>\n",
              "<style scoped>\n",
              "    .dataframe tbody tr th:only-of-type {\n",
              "        vertical-align: middle;\n",
              "    }\n",
              "\n",
              "    .dataframe tbody tr th {\n",
              "        vertical-align: top;\n",
              "    }\n",
              "\n",
              "    .dataframe thead th {\n",
              "        text-align: right;\n",
              "    }\n",
              "</style>\n",
              "<table border=\"1\" class=\"dataframe\">\n",
              "  <thead>\n",
              "    <tr style=\"text-align: right;\">\n",
              "      <th></th>\n",
              "      <th>Hanzi</th>\n",
              "      <th>Meaning</th>\n",
              "      <th>Notes</th>\n",
              "      <th>Words</th>\n",
              "    </tr>\n",
              "  </thead>\n",
              "  <tbody>\n",
              "    <tr>\n",
              "      <th>0</th>\n",
              "      <td>一</td>\n",
              "      <td>one</td>\n",
              "      <td>yī</td>\n",
              "      <td>一-yī-all\\n一个-yī gè-a\\n一些-yī xiē-a few\\n第一-dì y...</td>\n",
              "    </tr>\n",
              "    <tr>\n",
              "      <th>1</th>\n",
              "      <td>二</td>\n",
              "      <td>two</td>\n",
              "      <td>èr</td>\n",
              "      <td>政府-zhèng fǔ-government\\n二-èr-2\\n二十-èr shí-20\\n...</td>\n",
              "    </tr>\n",
              "    <tr>\n",
              "      <th>2</th>\n",
              "      <td>三</td>\n",
              "      <td>three</td>\n",
              "      <td>sān</td>\n",
              "      <td>三-sān-3\\n三角形-sān jiǎo xíng-triangle\\n第三-dì sān...</td>\n",
              "    </tr>\n",
              "    <tr>\n",
              "      <th>3</th>\n",
              "      <td>四</td>\n",
              "      <td>four</td>\n",
              "      <td>sì</td>\n",
              "      <td>四-sì-4\\n四人帮-sì rén bāng-Truncated - click thro...</td>\n",
              "    </tr>\n",
              "    <tr>\n",
              "      <th>4</th>\n",
              "      <td>五</td>\n",
              "      <td>five</td>\n",
              "      <td>wǔ</td>\n",
              "      <td>应该-yīng gāi-should\\n反应-fǎn yìng-reply\\n应用-yìng...</td>\n",
              "    </tr>\n",
              "  </tbody>\n",
              "</table>\n",
              "</div>"
            ],
            "text/plain": [
              "  Hanzi Meaning Notes                                              Words\n",
              "0     一     one    yī  一-yī-all\\n一个-yī gè-a\\n一些-yī xiē-a few\\n第一-dì y...\n",
              "1     二     two    èr  政府-zhèng fǔ-government\\n二-èr-2\\n二十-èr shí-20\\n...\n",
              "2     三   three   sān  三-sān-3\\n三角形-sān jiǎo xíng-triangle\\n第三-dì sān...\n",
              "3     四    four    sì  四-sì-4\\n四人帮-sì rén bāng-Truncated - click thro...\n",
              "4     五    five    wǔ  应该-yīng gāi-should\\n反应-fǎn yìng-reply\\n应用-yìng..."
            ]
          },
          "metadata": {},
          "execution_count": 29
        },
        {
          "output_type": "stream",
          "name": "stdout",
          "text": [
            "time: 23.9 ms (started: 2021-12-05 06:07:58 +00:00)\n"
          ]
        }
      ]
    },
    {
      "cell_type": "code",
      "metadata": {
        "id": "hwYKcWQJWocv",
        "outputId": "89eb41d1-05a7-4c9e-99e7-84bdf535c76c",
        "colab": {
          "base_uri": "https://localhost:8080/"
        }
      },
      "source": [
        "editme.to_csv('heisig1_with_examples',index=False, header=False)"
      ],
      "execution_count": 10,
      "outputs": [
        {
          "output_type": "stream",
          "name": "stdout",
          "text": [
            "time: 31.7 ms (started: 2021-12-05 05:18:34 +00:00)\n"
          ]
        }
      ]
    },
    {
      "cell_type": "code",
      "metadata": {
        "colab": {
          "base_uri": "https://localhost:8080/",
          "height": 224
        },
        "id": "_TOZyMhvLu9v",
        "outputId": "69342706-0589-4159-e545-74da13d72633"
      },
      "source": [
        "old.tail()"
      ],
      "execution_count": null,
      "outputs": [
        {
          "output_type": "execute_result",
          "data": {
            "text/html": [
              "<div>\n",
              "<style scoped>\n",
              "    .dataframe tbody tr th:only-of-type {\n",
              "        vertical-align: middle;\n",
              "    }\n",
              "\n",
              "    .dataframe tbody tr th {\n",
              "        vertical-align: top;\n",
              "    }\n",
              "\n",
              "    .dataframe thead th {\n",
              "        text-align: right;\n",
              "    }\n",
              "</style>\n",
              "<table border=\"1\" class=\"dataframe\">\n",
              "  <thead>\n",
              "    <tr style=\"text-align: right;\">\n",
              "      <th></th>\n",
              "      <th>Hanzi</th>\n",
              "      <th>Meaning</th>\n",
              "      <th>Notes</th>\n",
              "      <th>Words</th>\n",
              "    </tr>\n",
              "  </thead>\n",
              "  <tbody>\n",
              "    <tr>\n",
              "      <th>1466</th>\n",
              "      <td>亦</td>\n",
              "      <td>likewise</td>\n",
              "      <td>yì</td>\n",
              "      <td>温度-wēn dù-temperature&lt;br&gt;速度-sù dù-rate&lt;br&gt;程度-c...</td>\n",
              "    </tr>\n",
              "    <tr>\n",
              "      <th>1467</th>\n",
              "      <td>极</td>\n",
              "      <td>extreme</td>\n",
              "      <td>jí</td>\n",
              "      <td>积极-jī jí-actively&lt;br&gt;极大-jí dà-maximum&lt;br&gt;极其-jí...</td>\n",
              "    </tr>\n",
              "    <tr>\n",
              "      <th>1468</th>\n",
              "      <td>杂</td>\n",
              "      <td>miscellaneous</td>\n",
              "      <td>zá</td>\n",
              "      <td>复杂-fù zá-complex&lt;br&gt;杂志-zá zhì-magazine&lt;br&gt;杂质-z...</td>\n",
              "    </tr>\n",
              "    <tr>\n",
              "      <th>1469</th>\n",
              "      <td>曰</td>\n",
              "      <td>sayeth</td>\n",
              "      <td>yuē</td>\n",
              "      <td>曰-yuē-to state&lt;br&gt;子曰-zǐ yuē-Confucius says:&lt;br...</td>\n",
              "    </tr>\n",
              "    <tr>\n",
              "      <th>1470</th>\n",
              "      <td>乱</td>\n",
              "      <td>chaos</td>\n",
              "      <td>luàn</td>\n",
              "      <td>混乱-hùn luàn hún luàn-chaos&lt;br&gt;乱-luàn-riot&lt;br&gt;乱...</td>\n",
              "    </tr>\n",
              "  </tbody>\n",
              "</table>\n",
              "</div>"
            ],
            "text/plain": [
              "     Hanzi  ...                                              Words\n",
              "1466     亦  ...  温度-wēn dù-temperature<br>速度-sù dù-rate<br>程度-c...\n",
              "1467     极  ...  积极-jī jí-actively<br>极大-jí dà-maximum<br>极其-jí...\n",
              "1468     杂  ...  复杂-fù zá-complex<br>杂志-zá zhì-magazine<br>杂质-z...\n",
              "1469     曰  ...  曰-yuē-to state<br>子曰-zǐ yuē-Confucius says:<br...\n",
              "1470     乱  ...  混乱-hùn luàn hún luàn-chaos<br>乱-luàn-riot<br>乱...\n",
              "\n",
              "[5 rows x 4 columns]"
            ]
          },
          "metadata": {},
          "execution_count": 9
        },
        {
          "output_type": "stream",
          "name": "stdout",
          "text": [
            "time: 20.2 ms (started: 2021-12-03 02:45:48 +00:00)\n"
          ]
        }
      ]
    },
    {
      "cell_type": "markdown",
      "metadata": {
        "id": "2mO4jVNPu7Tc"
      },
      "source": [
        "heisig 2"
      ]
    },
    {
      "cell_type": "code",
      "metadata": {
        "id": "Y_PPyv5ZrYDH",
        "colab": {
          "base_uri": "https://localhost:8080/",
          "height": 224
        },
        "outputId": "a5271efc-7515-4a56-afae-ae652b7cf262"
      },
      "source": [
        "h2_dat = 'https://raw.githubusercontent.com/Tclack88/misc-analysis/main/mandarin_frequency_analysis/heisig2.csv'\n",
        "h2_df = pd.read_csv(h2_dat, sep='\\t').fillna('')\n",
        "h2_df.head()"
      ],
      "execution_count": null,
      "outputs": [
        {
          "output_type": "execute_result",
          "data": {
            "text/html": [
              "<div>\n",
              "<style scoped>\n",
              "    .dataframe tbody tr th:only-of-type {\n",
              "        vertical-align: middle;\n",
              "    }\n",
              "\n",
              "    .dataframe tbody tr th {\n",
              "        vertical-align: top;\n",
              "    }\n",
              "\n",
              "    .dataframe thead th {\n",
              "        text-align: right;\n",
              "    }\n",
              "</style>\n",
              "<table border=\"1\" class=\"dataframe\">\n",
              "  <thead>\n",
              "    <tr style=\"text-align: right;\">\n",
              "      <th></th>\n",
              "      <th>Hanzi</th>\n",
              "      <th>Meaning</th>\n",
              "      <th>Notes</th>\n",
              "    </tr>\n",
              "  </thead>\n",
              "  <tbody>\n",
              "    <tr>\n",
              "      <th>0</th>\n",
              "      <td>叭</td>\n",
              "      <td>trumpet</td>\n",
              "      <td>bā</td>\n",
              "    </tr>\n",
              "    <tr>\n",
              "      <th>1</th>\n",
              "      <td>咕</td>\n",
              "      <td>mutter</td>\n",
              "      <td>gū</td>\n",
              "    </tr>\n",
              "    <tr>\n",
              "      <th>2</th>\n",
              "      <td>咱</td>\n",
              "      <td>we (inclusive)</td>\n",
              "      <td>zán</td>\n",
              "    </tr>\n",
              "    <tr>\n",
              "      <th>3</th>\n",
              "      <td>串</td>\n",
              "      <td>string together</td>\n",
              "      <td>chuàn</td>\n",
              "    </tr>\n",
              "    <tr>\n",
              "      <th>4</th>\n",
              "      <td>罩</td>\n",
              "      <td>overspread</td>\n",
              "      <td>zhào</td>\n",
              "    </tr>\n",
              "  </tbody>\n",
              "</table>\n",
              "</div>"
            ],
            "text/plain": [
              "  Hanzi          Meaning  Notes\n",
              "0     叭          trumpet     bā\n",
              "1     咕           mutter     gū\n",
              "2     咱   we (inclusive)    zán\n",
              "3     串  string together  chuàn\n",
              "4     罩       overspread   zhào"
            ]
          },
          "metadata": {},
          "execution_count": 10
        },
        {
          "output_type": "stream",
          "name": "stdout",
          "text": [
            "time: 192 ms (started: 2021-12-03 05:19:46 +00:00)\n"
          ]
        }
      ]
    },
    {
      "cell_type": "code",
      "metadata": {
        "id": "tgKfikoKvAfr",
        "colab": {
          "base_uri": "https://localhost:8080/"
        },
        "outputId": "9c6b4625-ed30-4514-c533-e5598d7bb1a4"
      },
      "source": [
        "h2_df['Words'] = h2_df['Hanzi'].apply(get_example_words)"
      ],
      "execution_count": null,
      "outputs": [
        {
          "output_type": "stream",
          "name": "stdout",
          "text": [
            "problem withi 梶:\n",
            "No tables found matching pattern '.+'\n",
            "problem withi 椙:\n",
            "No tables found matching pattern '.+'\n",
            "problem withi 樋:\n",
            "No tables found matching pattern '.+'\n",
            "problem withi 樒:\n",
            "No tables found matching pattern '.+'\n",
            "problem withi 㭴:\n",
            "No tables found matching pattern '.+'\n",
            "problem withi 瑠:\n",
            "No tables found matching pattern '.+'\n",
            "problem withi 箆:\n",
            "No tables found matching pattern '.+'\n",
            "problem withi 籾:\n",
            "No tables found matching pattern '.+'\n",
            "problem withi 舘:\n",
            "No tables found matching pattern '.+'\n",
            "problem withi 𫍟:\n",
            "No tables found matching pattern '.+'\n",
            "time: 1h 19min 39s (started: 2021-12-03 05:20:17 +00:00)\n"
          ]
        }
      ]
    },
    {
      "cell_type": "code",
      "metadata": {
        "id": "eOQ7sHkpBbFR",
        "colab": {
          "base_uri": "https://localhost:8080/",
          "height": 441
        },
        "outputId": "1dc6a67a-ca8a-48db-87d4-771cc8c5f7fe"
      },
      "source": [
        "h2_df"
      ],
      "execution_count": null,
      "outputs": [
        {
          "output_type": "execute_result",
          "data": {
            "text/html": [
              "<div>\n",
              "<style scoped>\n",
              "    .dataframe tbody tr th:only-of-type {\n",
              "        vertical-align: middle;\n",
              "    }\n",
              "\n",
              "    .dataframe tbody tr th {\n",
              "        vertical-align: top;\n",
              "    }\n",
              "\n",
              "    .dataframe thead th {\n",
              "        text-align: right;\n",
              "    }\n",
              "</style>\n",
              "<table border=\"1\" class=\"dataframe\">\n",
              "  <thead>\n",
              "    <tr style=\"text-align: right;\">\n",
              "      <th></th>\n",
              "      <th>Hanzi</th>\n",
              "      <th>Meaning</th>\n",
              "      <th>Notes</th>\n",
              "      <th>Words</th>\n",
              "    </tr>\n",
              "  </thead>\n",
              "  <tbody>\n",
              "    <tr>\n",
              "      <th>0</th>\n",
              "      <td>叭</td>\n",
              "      <td>trumpet</td>\n",
              "      <td>bā</td>\n",
              "      <td>喇叭-lǎ bā-trumpet&lt;br&gt;叭-bā-denote a sound or sha...</td>\n",
              "    </tr>\n",
              "    <tr>\n",
              "      <th>1</th>\n",
              "      <td>咕</td>\n",
              "      <td>mutter</td>\n",
              "      <td>gū</td>\n",
              "      <td>咕噜-gū lū-rumbling&lt;br&gt;叽咕-jī gū-&lt;br&gt;嘀咕-dī gū-to ...</td>\n",
              "    </tr>\n",
              "    <tr>\n",
              "      <th>2</th>\n",
              "      <td>咱</td>\n",
              "      <td>we (inclusive)</td>\n",
              "      <td>zán</td>\n",
              "      <td>咱们-zán men-you&lt;br&gt;咱-zán-we (incl.)&lt;br&gt;咱俩-zán l...</td>\n",
              "    </tr>\n",
              "    <tr>\n",
              "      <th>3</th>\n",
              "      <td>串</td>\n",
              "      <td>string together</td>\n",
              "      <td>chuàn</td>\n",
              "      <td>串联-chuàn lián-parallel&lt;br&gt;字串-zì chuàn-characte...</td>\n",
              "    </tr>\n",
              "    <tr>\n",
              "      <th>4</th>\n",
              "      <td>罩</td>\n",
              "      <td>overspread</td>\n",
              "      <td>zhào</td>\n",
              "      <td>钟罩-zhōng zhào-bell canopy&lt;br&gt;笼罩-lǒng zhào-to b...</td>\n",
              "    </tr>\n",
              "    <tr>\n",
              "      <th>...</th>\n",
              "      <td>...</td>\n",
              "      <td>...</td>\n",
              "      <td>...</td>\n",
              "      <td>...</td>\n",
              "    </tr>\n",
              "    <tr>\n",
              "      <th>2215</th>\n",
              "      <td>麓</td>\n",
              "      <td></td>\n",
              "      <td></td>\n",
              "      <td>山麓-shān lù-foothills&lt;br&gt;踬-zhì-to stumble&lt;br&gt;岳麓...</td>\n",
              "    </tr>\n",
              "    <tr>\n",
              "      <th>2216</th>\n",
              "      <td>麴</td>\n",
              "      <td></td>\n",
              "      <td></td>\n",
              "      <td>鼠麴草-shǔ qū cǎo-cudweed&lt;br&gt;麴-qū-yeast&lt;br&gt;大麴-tà ...</td>\n",
              "    </tr>\n",
              "    <tr>\n",
              "      <th>2217</th>\n",
              "      <td>黍</td>\n",
              "      <td></td>\n",
              "      <td></td>\n",
              "      <td>军事-jūn shì-military affairs&lt;br&gt;军队-jūn duì-army...</td>\n",
              "    </tr>\n",
              "    <tr>\n",
              "      <th>2218</th>\n",
              "      <td>黛</td>\n",
              "      <td></td>\n",
              "      <td></td>\n",
              "      <td>共轭-gòng è-conjugation&lt;br&gt;黛-dài-umber-black dye...</td>\n",
              "    </tr>\n",
              "    <tr>\n",
              "      <th>2219</th>\n",
              "      <td>鼾</td>\n",
              "      <td></td>\n",
              "      <td></td>\n",
              "      <td>辗转-zhǎn zhuǎn-to roll over&lt;br&gt;鼾声-hān shēng-sou...</td>\n",
              "    </tr>\n",
              "  </tbody>\n",
              "</table>\n",
              "<p>2220 rows × 4 columns</p>\n",
              "</div>"
            ],
            "text/plain": [
              "     Hanzi  ...                                              Words\n",
              "0        叭  ...  喇叭-lǎ bā-trumpet<br>叭-bā-denote a sound or sha...\n",
              "1        咕  ...  咕噜-gū lū-rumbling<br>叽咕-jī gū-<br>嘀咕-dī gū-to ...\n",
              "2        咱  ...  咱们-zán men-you<br>咱-zán-we (incl.)<br>咱俩-zán l...\n",
              "3        串  ...  串联-chuàn lián-parallel<br>字串-zì chuàn-characte...\n",
              "4        罩  ...  钟罩-zhōng zhào-bell canopy<br>笼罩-lǒng zhào-to b...\n",
              "...    ...  ...                                                ...\n",
              "2215     麓  ...  山麓-shān lù-foothills<br>踬-zhì-to stumble<br>岳麓...\n",
              "2216     麴  ...  鼠麴草-shǔ qū cǎo-cudweed<br>麴-qū-yeast<br>大麴-tà ...\n",
              "2217     黍  ...  军事-jūn shì-military affairs<br>军队-jūn duì-army...\n",
              "2218     黛  ...  共轭-gòng è-conjugation<br>黛-dài-umber-black dye...\n",
              "2219     鼾  ...  辗转-zhǎn zhuǎn-to roll over<br>鼾声-hān shēng-sou...\n",
              "\n",
              "[2220 rows x 4 columns]"
            ]
          },
          "metadata": {},
          "execution_count": 12
        },
        {
          "output_type": "stream",
          "name": "stdout",
          "text": [
            "time: 25.3 ms (started: 2021-12-03 06:40:30 +00:00)\n"
          ]
        }
      ]
    },
    {
      "cell_type": "code",
      "metadata": {
        "id": "Zg8CtRZsCA3k",
        "colab": {
          "base_uri": "https://localhost:8080/"
        },
        "outputId": "e8627c47-34b0-4513-c85c-f8aa54189899"
      },
      "source": [
        "h2_df.to_csv('heisig2_with_examples',index=False)"
      ],
      "execution_count": null,
      "outputs": [
        {
          "output_type": "stream",
          "name": "stdout",
          "text": [
            "time: 39.7 ms (started: 2021-12-03 06:43:28 +00:00)\n"
          ]
        }
      ]
    },
    {
      "cell_type": "markdown",
      "metadata": {
        "id": "euWbzH02XteM"
      },
      "source": [
        "Improved hunt with more common words"
      ]
    },
    {
      "cell_type": "code",
      "metadata": {
        "colab": {
          "base_uri": "https://localhost:8080/"
        },
        "id": "3ydWCeRyqibu",
        "outputId": "c0a48a0e-25b8-45f6-fef9-9a6e4e1e8596"
      },
      "source": [
        "test_slice = old.sample(n=25)\n",
        "for ch in test_slice.Hanzi:\n",
        "  print(ch)\n",
        "  #I noticed the search bar populates with the hex code of the character\n",
        "  #ex. 四 -> ox56db -> /5/56DB (the first number is repeated)\n",
        "  tail = str(hex(ord(ch))).upper()[2:] \n",
        "  url = f'http://chinese-characters.org/contained/{tail[0]}/{tail}.html'\n",
        "  print(url)\n",
        "  try:\n",
        "    a = pd.read_html(url, header=0)\n",
        "  except Exception as e:\n",
        "    print(e)\n",
        "    print(f'{ch} NOT FOUND')\n",
        "    continue\n",
        "  print(len(a))\n",
        "  good_tables = []\n",
        "  for table in a:\n",
        "    clean_table = table.dropna(axis=0,how='all').dropna(axis=1, how='all')\n",
        "    if clean_table.columns.to_list() == ['Simp', 'Pinyin', 'English']:\n",
        "      good_tables.append(clean_table)\n",
        "  print(len(good_tables))\n",
        "  #last = a[-1].dropna(axis=0,how='all').dropna(axis=1, how='all')\n",
        "  #twotolast = a[-2].dropna(axis=0,how='all').dropna(axis=1, how='all')\n",
        "  #print(last.columns)\n",
        "  #print(last.head(3))\n",
        "  #print(twotolast.columns)\n",
        "  #print(twotolast.head(3))"
      ],
      "execution_count": null,
      "outputs": [
        {
          "output_type": "stream",
          "name": "stdout",
          "text": [
            "价\n",
            "http://chinese-characters.org/contained/4/4EF7.html\n",
            "5\n",
            "0\n",
            "堡\n",
            "http://chinese-characters.org/contained/5/5821.html\n",
            "7\n",
            "2\n",
            "无\n",
            "http://chinese-characters.org/contained/6/65E0.html\n",
            "5\n",
            "0\n",
            "讨\n",
            "http://chinese-characters.org/contained/8/8BA8.html\n",
            "HTTP Error 404: Not Found\n",
            "讨 NOT FOUND\n",
            "板\n",
            "http://chinese-characters.org/contained/6/677F.html\n",
            "7\n",
            "2\n",
            "迈\n",
            "http://chinese-characters.org/contained/8/8FC8.html\n",
            "HTTP Error 404: Not Found\n",
            "迈 NOT FOUND\n",
            "器\n",
            "http://chinese-characters.org/contained/5/5668.html\n",
            "7\n",
            "2\n",
            "故\n",
            "http://chinese-characters.org/contained/6/6545.html\n",
            "8\n",
            "2\n",
            "温\n",
            "http://chinese-characters.org/contained/6/6E29.html\n",
            "6\n",
            "0\n",
            "袭\n",
            "http://chinese-characters.org/contained/8/88AD.html\n",
            "HTTP Error 404: Not Found\n",
            "袭 NOT FOUND\n",
            "沼\n",
            "http://chinese-characters.org/contained/6/6CBC.html\n",
            "8\n",
            "2\n",
            "区\n",
            "http://chinese-characters.org/contained/5/533A.html\n",
            "HTTP Error 404: Not Found\n",
            "区 NOT FOUND\n",
            "革\n",
            "http://chinese-characters.org/contained/9/9769.html\n",
            "10\n",
            "2\n",
            "颗\n",
            "http://chinese-characters.org/contained/9/9897.html\n",
            "HTTP Error 404: Not Found\n",
            "颗 NOT FOUND\n",
            "激\n",
            "http://chinese-characters.org/contained/6/6FC0.html\n",
            "7\n",
            "2\n",
            "艺\n",
            "http://chinese-characters.org/contained/8/827A.html\n",
            "HTTP Error 404: Not Found\n",
            "艺 NOT FOUND\n",
            "遵\n",
            "http://chinese-characters.org/contained/9/9075.html\n",
            "7\n",
            "2\n",
            "肚\n",
            "http://chinese-characters.org/contained/8/809A.html\n",
            "7\n",
            "2\n",
            "在\n",
            "http://chinese-characters.org/contained/5/5728.html\n",
            "8\n",
            "2\n",
            "垂\n",
            "http://chinese-characters.org/contained/5/5782.html\n",
            "11\n",
            "2\n",
            "旅\n",
            "http://chinese-characters.org/contained/6/65C5.html\n",
            "8\n",
            "2\n",
            "帝\n",
            "http://chinese-characters.org/contained/5/5E1D.html\n",
            "9\n",
            "2\n",
            "旬\n",
            "http://chinese-characters.org/contained/6/65EC.html\n",
            "10\n",
            "2\n",
            "刻\n",
            "http://chinese-characters.org/contained/5/523B.html\n",
            "8\n",
            "2\n",
            "多\n",
            "http://chinese-characters.org/contained/5/591A.html\n",
            "11\n",
            "2\n",
            "time: 2.95 s (started: 2021-12-02 05:50:34 +00:00)\n"
          ]
        }
      ]
    },
    {
      "cell_type": "code",
      "metadata": {
        "id": "mT99LPGAt486",
        "colab": {
          "base_uri": "https://localhost:8080/"
        },
        "outputId": "c9777f41-6a77-4224-e900-0a99f3cdace5"
      },
      "source": [
        "a = pd.read_html('http://chinese-characters.org/contained/5/53E3.html', header=0)\n",
        "a"
      ],
      "execution_count": null,
      "outputs": [
        {
          "output_type": "execute_result",
          "data": {
            "text/plain": [
              "[                                                  Simp  ... Words\n",
              " 0                                                  NaN  ...   NaN\n",
              " 1                                                    𧥣  ...     0\n",
              " 2                                                    𢒫  ...     0\n",
              " 3                                                    𨙫  ...     0\n",
              " 4                                                    害  ...    13\n",
              " ..                                                 ...  ...   ...\n",
              " 689                                                长江口  ...   NaN\n",
              " 690                                                喷火口  ...   NaN\n",
              " 691                                                注入口  ...   NaN\n",
              " 692                                                NaN  ...   NaN\n",
              " 693  Home  Pinyin index  Radical index  Links  Abou...  ...   NaN\n",
              " \n",
              " [694 rows x 15 columns], Empty DataFrame\n",
              " Columns: [Home  Pinyin index  Radical index  Links  About  Search for a character:  Please spread the word!  var addthis_config = {data_track_addressbar: true, data_track_textcopy: true};  For help, hover your mouse over different parts of the page]\n",
              " Index: [], Empty DataFrame\n",
              " Columns: [Home  Pinyin index  Radical index  Links  About  Search for a character:  Please spread the word!  var addthis_config = {data_track_addressbar: true, data_track_textcopy: true};  For help, hover your mouse over different parts of the page]\n",
              " Index: [], Empty DataFrame\n",
              " Columns: [Character, Contained In, References, Comments]\n",
              " Index: [],     Simp                                         Unnamed: 1  ... Unnamed: 13  Words\n",
              " 0    NaN                                                NaN  ...         NaN    NaN\n",
              " 1      𧥣                                                NaN  ...         NaN      0\n",
              " 2      𢒫                                                NaN  ...         NaN      0\n",
              " 3      𨙫                                                NaN  ...         NaN      0\n",
              " 4      害                                                NaN  ...         NaN     13\n",
              " ..   ...                                                ...  ...         ...    ...\n",
              " 696  NaN                                                NaN  ...         NaN    NaN\n",
              " 697  NaN  Phonetic: Simp  Trad  Pinyin  English  Semanti...  ...         NaN    NaN\n",
              " 698  NaN                                                NaN  ...         NaN    NaN\n",
              " 699  NaN  Some common words starting with 口: (Back to to...  ...         NaN    NaN\n",
              " 700  NaN                                                NaN  ...         NaN    NaN\n",
              " \n",
              " [701 rows x 15 columns],   Simp  Unnamed: 1 Trad  Unnamed: 3  ... Unnamed: 11  Frequency Unnamed: 13  Words\n",
              " 0  NaN         NaN  NaN         NaN  ...         NaN        NaN         NaN    NaN\n",
              " 1    𧥣         NaN    𧥣         NaN  ...         NaN        NaN         NaN    0.0\n",
              " 2    𢒫         NaN    𢒫         NaN  ...         NaN        NaN         NaN    0.0\n",
              " 3    𨙫         NaN    𨙫         NaN  ...         NaN        NaN         NaN    0.0\n",
              " 4    害         NaN    害         NaN  ...         NaN        NaN         NaN   13.0\n",
              " 5    釦         NaN    釦         NaN  ...         NaN        NaN         NaN    0.0\n",
              " 6    扣         NaN    扣         NaN  ...         NaN        NaN         NaN   14.0\n",
              " 7    嗣         NaN    嗣         NaN  ...         NaN        NaN         NaN    1.0\n",
              " \n",
              " [8 rows x 15 columns],    Simp  Unnamed: 1 Trad  ...  Frequency Unnamed: 13  Words\n",
              " 0   NaN         NaN  NaN  ...        NaN         NaN    NaN\n",
              " 1     𠱫         NaN    𠱫  ...        NaN         NaN    0.0\n",
              " 2     𤰈         NaN    𤰈  ...        NaN         NaN    0.0\n",
              " 3     𠳋         NaN    𠳋  ...        NaN         NaN    0.0\n",
              " 4     昌         NaN    昌  ...        NaN         NaN   15.0\n",
              " 5     豆         NaN    豆  ...        NaN         NaN   17.0\n",
              " 6     对         NaN    對  ...        NaN         NaN   17.0\n",
              " 7     甘         NaN    甘  ...        NaN         NaN   11.0\n",
              " 8     敢         NaN    敢  ...        NaN         NaN    3.0\n",
              " 9     公         NaN    公  ...        NaN         NaN   18.0\n",
              " 10    会         NaN    會  ...        NaN         NaN   26.0\n",
              " 11    亟         NaN    亟  ...        NaN         NaN    1.0\n",
              " 12    祭         NaN    祭  ...        NaN         NaN    9.0\n",
              " 13    茍         NaN    茍  ...        NaN         NaN    0.0\n",
              " 14    旡         NaN    旡  ...        NaN         NaN    0.0\n",
              " 15    局         NaN    局  ...        NaN         NaN   24.0\n",
              " 16    客         NaN    客  ...        NaN         NaN   19.0\n",
              " 17    臱         NaN    臱  ...        NaN         NaN    0.0\n",
              " 18    内         NaN    內  ...        NaN         NaN   15.0\n",
              " 19    欠         NaN    欠  ...        NaN         NaN    8.0\n",
              " 20    去         NaN    去  ...        NaN         NaN   15.0\n",
              " 21    舍         NaN    舍  ...        NaN         NaN   10.0\n",
              " 22    石         NaN    石  ...        NaN         NaN   24.0\n",
              " 23    始         NaN    始  ...        NaN         NaN   11.0\n",
              " 24    束         NaN    束  ...        NaN         NaN   13.0\n",
              " 25    兴         NaN    興  ...        NaN         NaN   19.0\n",
              " 26    猒         NaN    猒  ...        NaN         NaN    0.0\n",
              " 27    音         NaN    音  ...        NaN         NaN   20.0\n",
              " 28    矞         NaN    矞  ...        NaN         NaN    0.0\n",
              " 29    龠         NaN    龠  ...        NaN         NaN    0.0\n",
              " 30    占         NaN    占  ...        NaN         NaN   15.0\n",
              " 31    中         NaN    中  ...        NaN         NaN   16.0\n",
              " 32    周         NaN    周  ...        NaN         NaN   16.0\n",
              " 33    祝         NaN    祝  ...        NaN         NaN    9.0\n",
              " \n",
              " [34 rows x 15 columns],     Simp  Unnamed: 1 Trad  ...  Frequency Unnamed: 13  Words\n",
              " 0    NaN         NaN  NaN  ...        NaN         NaN    NaN\n",
              " 1      吡         NaN    吡  ...        NaN         NaN    2.0\n",
              " 2      呋         NaN    呋  ...        NaN         NaN    1.0\n",
              " 3      咣         NaN    咣  ...        NaN         NaN    0.0\n",
              " 4      啉         NaN    啉  ...        NaN         NaN    2.0\n",
              " ..   ...         ...  ...  ...        ...         ...    ...\n",
              " 558    哫         NaN    哫  ...        NaN         NaN    0.0\n",
              " 559    嘴         NaN    嘴  ...        NaN         NaN   13.0\n",
              " 560    噿         NaN    噿  ...        NaN         NaN    0.0\n",
              " 561    噂         NaN    噂  ...        NaN         NaN    0.0\n",
              " 562    唑         NaN    唑  ...        NaN         NaN    2.0\n",
              " \n",
              " [563 rows x 15 columns],    Simp  Unnamed: 1 Trad  Unnamed: 3  ... Unnamed: 7  Frequency Unnamed: 9  Words\n",
              " 0   NaN         NaN  NaN         NaN  ...        NaN        NaN        NaN    NaN\n",
              " 1     𠯑         NaN    𠯑         NaN  ...        NaN        NaN        NaN    0.0\n",
              " 2     𠷏         NaN    𠷏         NaN  ...        NaN        NaN        NaN    0.0\n",
              " 3     𡅻         NaN    𡅻         NaN  ...        NaN        NaN        NaN    0.0\n",
              " 4     𠴫         NaN    𠴫         NaN  ...        NaN        NaN        NaN    0.0\n",
              " 5     𣬕         NaN    𣬕         NaN  ...        NaN        NaN        NaN    0.0\n",
              " 6     𩫏         NaN    𩫏         NaN  ...        NaN        NaN        NaN    0.0\n",
              " 7     𠷎         NaN    𠷎         NaN  ...        NaN        NaN        NaN    0.0\n",
              " 8     𡂒         NaN    𡂒         NaN  ...        NaN        NaN        NaN    0.0\n",
              " 9     𦺳         NaN    𦺳         NaN  ...        NaN        NaN        NaN    0.0\n",
              " 10    党         NaN    党         NaN  ...        NaN        NaN        NaN    0.0\n",
              " 11    𦽡         NaN    𦽡         NaN  ...        NaN        NaN        NaN    0.0\n",
              " 12    啀         NaN    啀         NaN  ...        NaN        NaN        NaN    0.0\n",
              " 13    𧮫         NaN    𧮫         NaN  ...        NaN        NaN        NaN    0.0\n",
              " 14    𣎆         NaN    𣎆         NaN  ...        NaN        NaN        NaN    0.0\n",
              " 15    𢑆         NaN    𢑆         NaN  ...        NaN        NaN        NaN    0.0\n",
              " 16    𡂢         NaN    𡂢         NaN  ...        NaN        NaN        NaN    0.0\n",
              " 17    𣬎         NaN    𣬎         NaN  ...        NaN        NaN        NaN    0.0\n",
              " 18    𩆜         NaN    𩆜         NaN  ...        NaN        NaN        NaN    0.0\n",
              " 19    𩫖         NaN    𩫖         NaN  ...        NaN        NaN        NaN    0.0\n",
              " 20    𠮱         NaN    𠮱         NaN  ...        NaN        NaN        NaN    0.0\n",
              " 21    𨟐         NaN    𨟐         NaN  ...        NaN        NaN        NaN    0.0\n",
              " 22    㕧         NaN    㕧         NaN  ...        NaN        NaN        NaN    0.0\n",
              " 23    𧃱         NaN    𧃱         NaN  ...        NaN        NaN        NaN    0.0\n",
              " 24    𣆪         NaN    𣆪         NaN  ...        NaN        NaN        NaN    0.0\n",
              " 25    𪉷         NaN    𪉷         NaN  ...        NaN        NaN        NaN    0.0\n",
              " 26    𣘫         NaN    𣘫         NaN  ...        NaN        NaN        NaN    0.0\n",
              " 27    𦧡         NaN    𦧡         NaN  ...        NaN        NaN        NaN    0.0\n",
              " 28    吕         NaN    吕         NaN  ...        NaN        NaN        NaN    0.0\n",
              " 29    嚃         NaN    嚃         NaN  ...        NaN        NaN        NaN    0.0\n",
              " 30    𡕨         NaN    𡕨         NaN  ...        NaN        NaN        NaN    0.0\n",
              " 31    𤕦         NaN    𤕦         NaN  ...        NaN        NaN        NaN    0.0\n",
              " 32    𠻜         NaN    𠻜         NaN  ...        NaN        NaN        NaN    0.0\n",
              " 33    𧒘         NaN    𧒘         NaN  ...        NaN        NaN        NaN    0.0\n",
              " 34    吴         NaN    吴         NaN  ...        NaN        NaN        NaN    0.0\n",
              " 35    唗         NaN    唗         NaN  ...        NaN        NaN        NaN    0.0\n",
              " 36    𠿡         NaN    𠿡         NaN  ...        NaN        NaN        NaN    0.0\n",
              " 37    𠼡         NaN    𠼡         NaN  ...        NaN        NaN        NaN    0.0\n",
              " 38    𢛃         NaN    𢛃         NaN  ...        NaN        NaN        NaN    0.0\n",
              " 39    𠦫         NaN    𠦫         NaN  ...        NaN        NaN        NaN    0.0\n",
              " 40    𣄸         NaN    𣄸         NaN  ...        NaN        NaN        NaN    0.0\n",
              " 41    𠥐         NaN    𠥐         NaN  ...        NaN        NaN        NaN    0.0\n",
              " 42    𦝠         NaN    𦝠         NaN  ...        NaN        NaN        NaN    0.0\n",
              " 43    𩰬         NaN    𩰬         NaN  ...        NaN        NaN        NaN    0.0\n",
              " 44    𥏼         NaN    𥏼         NaN  ...        NaN        NaN        NaN    0.0\n",
              " 45    嗕         NaN    嗕         NaN  ...        NaN        NaN        NaN    0.0\n",
              " 46    𠶷         NaN    𠶷         NaN  ...        NaN        NaN        NaN    0.0\n",
              " 47    𦟀         NaN    𦟀         NaN  ...        NaN        NaN        NaN    0.0\n",
              " \n",
              " [48 rows x 11 columns],    Simp  Unnamed: 1  ...  Unnamed: 7  Frequency\n",
              " 0   NaN         NaN  ...         NaN        NaN\n",
              " 1    口号         NaN  ...         NaN        NaN\n",
              " 2    口气         NaN  ...         NaN        NaN\n",
              " 3    口腔         NaN  ...         NaN        NaN\n",
              " 4    口袋         NaN  ...         NaN        NaN\n",
              " 5    口头         NaN  ...         NaN        NaN\n",
              " 6    口岸         NaN  ...         NaN        NaN\n",
              " 7    口供         NaN  ...         NaN        NaN\n",
              " 8    口味         NaN  ...         NaN        NaN\n",
              " 9    口径         NaN  ...         NaN        NaN\n",
              " 10   口粮         NaN  ...         NaN        NaN\n",
              " 11   口吻         NaN  ...         NaN        NaN\n",
              " \n",
              " [12 rows x 9 columns],    Simp  Unnamed: 1  Trad  ...                English Unnamed: 7  Frequency\n",
              " 0   NaN         NaN   NaN  ...                    NaN        NaN        NaN\n",
              " 1    出口         NaN   NaN  ...                   exit        NaN        NaN\n",
              " 2    人口         NaN   NaN  ...             population        NaN        NaN\n",
              " 3    进口         NaN   NaN  ...                 import        NaN        NaN\n",
              " 4    开口         NaN   NaN  ...                 uncork        NaN        NaN\n",
              " 5    门口         NaN   NaN  ...                doorway        NaN        NaN\n",
              " 6    港口         NaN   NaN  ...                 harbor        NaN        NaN\n",
              " 7    借口         NaN   NaN  ...             subterfuge        NaN        NaN\n",
              " 8    汉口         NaN   NaN  ...                 hankow        NaN        NaN\n",
              " 9   一口气         NaN   NaN  ...            respiration        NaN        NaN\n",
              " 10   入口         NaN   NaN  ...               entrance        NaN        NaN\n",
              " 11   窗口         NaN   NaN  ...                 window        NaN        NaN\n",
              " 12  进出口         NaN   NaN  ...          import export        NaN        NaN\n",
              " 13  喇叭口         NaN   NaN  ...                 flared        NaN        NaN\n",
              " 14  出入口         NaN   NaN  ...                gateway        NaN        NaN\n",
              " 15  火山口         NaN   NaN  ...                 crater        NaN        NaN\n",
              " 16  排水口         NaN   NaN  ...                outfall        NaN        NaN\n",
              " 17  通风口         NaN   NaN  ...               air vent        NaN        NaN\n",
              " 18  售票口         NaN   NaN  ...          ticket window        NaN        NaN\n",
              " 19  长江口         NaN   NaN  ...  mouth of the Zhejiang        NaN        NaN\n",
              " 20  喷火口         NaN   NaN  ...                  bocca        NaN        NaN\n",
              " 21  注入口         NaN   NaN  ...                  sprue        NaN        NaN\n",
              " \n",
              " [22 rows x 9 columns]]"
            ]
          },
          "metadata": {},
          "execution_count": 38
        },
        {
          "output_type": "stream",
          "name": "stdout",
          "text": [
            "time: 2.87 s (started: 2021-12-02 05:29:04 +00:00)\n"
          ]
        }
      ]
    },
    {
      "cell_type": "code",
      "metadata": {
        "id": "dJe3xLD4kC2D",
        "colab": {
          "base_uri": "https://localhost:8080/",
          "height": 441
        },
        "outputId": "d2052ab7-fe48-407b-8468-7c01b78d0dd5"
      },
      "source": [
        "a[7].dropna(axis=0,how='all').dropna(axis=1, how='all')"
      ],
      "execution_count": null,
      "outputs": [
        {
          "output_type": "execute_result",
          "data": {
            "text/html": [
              "<div>\n",
              "<style scoped>\n",
              "    .dataframe tbody tr th:only-of-type {\n",
              "        vertical-align: middle;\n",
              "    }\n",
              "\n",
              "    .dataframe tbody tr th {\n",
              "        vertical-align: top;\n",
              "    }\n",
              "\n",
              "    .dataframe thead th {\n",
              "        text-align: right;\n",
              "    }\n",
              "</style>\n",
              "<table border=\"1\" class=\"dataframe\">\n",
              "  <thead>\n",
              "    <tr style=\"text-align: right;\">\n",
              "      <th></th>\n",
              "      <th>Simp</th>\n",
              "      <th>Trad</th>\n",
              "      <th>Pinyin</th>\n",
              "      <th>English</th>\n",
              "      <th>Semantic</th>\n",
              "      <th>Phonetic</th>\n",
              "      <th>Words</th>\n",
              "    </tr>\n",
              "  </thead>\n",
              "  <tbody>\n",
              "    <tr>\n",
              "      <th>1</th>\n",
              "      <td>吡</td>\n",
              "      <td>吡</td>\n",
              "      <td>BI3</td>\n",
              "      <td>blame</td>\n",
              "      <td>NaN</td>\n",
              "      <td>NaN</td>\n",
              "      <td>2.0</td>\n",
              "    </tr>\n",
              "    <tr>\n",
              "      <th>2</th>\n",
              "      <td>呋</td>\n",
              "      <td>呋</td>\n",
              "      <td>FU1</td>\n",
              "      <td>NaN</td>\n",
              "      <td>NaN</td>\n",
              "      <td>NaN</td>\n",
              "      <td>1.0</td>\n",
              "    </tr>\n",
              "    <tr>\n",
              "      <th>3</th>\n",
              "      <td>咣</td>\n",
              "      <td>咣</td>\n",
              "      <td>GUANG1</td>\n",
              "      <td>NaN</td>\n",
              "      <td>NaN</td>\n",
              "      <td>NaN</td>\n",
              "      <td>0.0</td>\n",
              "    </tr>\n",
              "    <tr>\n",
              "      <th>4</th>\n",
              "      <td>啉</td>\n",
              "      <td>啉</td>\n",
              "      <td>LAN2</td>\n",
              "      <td>slow</td>\n",
              "      <td>NaN</td>\n",
              "      <td>NaN</td>\n",
              "      <td>2.0</td>\n",
              "    </tr>\n",
              "    <tr>\n",
              "      <th>5</th>\n",
              "      <td>嘭</td>\n",
              "      <td>嘭</td>\n",
              "      <td>PENG1</td>\n",
              "      <td>drive_away</td>\n",
              "      <td>NaN</td>\n",
              "      <td>NaN</td>\n",
              "      <td>0.0</td>\n",
              "    </tr>\n",
              "    <tr>\n",
              "      <th>...</th>\n",
              "      <td>...</td>\n",
              "      <td>...</td>\n",
              "      <td>...</td>\n",
              "      <td>...</td>\n",
              "      <td>...</td>\n",
              "      <td>...</td>\n",
              "      <td>...</td>\n",
              "    </tr>\n",
              "    <tr>\n",
              "      <th>558</th>\n",
              "      <td>哫</td>\n",
              "      <td>哫</td>\n",
              "      <td>zu2</td>\n",
              "      <td>cajole</td>\n",
              "      <td>NaN</td>\n",
              "      <td>NaN</td>\n",
              "      <td>0.0</td>\n",
              "    </tr>\n",
              "    <tr>\n",
              "      <th>559</th>\n",
              "      <td>嘴</td>\n",
              "      <td>嘴</td>\n",
              "      <td>zui3</td>\n",
              "      <td>mouth</td>\n",
              "      <td>NaN</td>\n",
              "      <td>NaN</td>\n",
              "      <td>13.0</td>\n",
              "    </tr>\n",
              "    <tr>\n",
              "      <th>560</th>\n",
              "      <td>噿</td>\n",
              "      <td>噿</td>\n",
              "      <td>zui3</td>\n",
              "      <td>NaN</td>\n",
              "      <td>NaN</td>\n",
              "      <td>NaN</td>\n",
              "      <td>0.0</td>\n",
              "    </tr>\n",
              "    <tr>\n",
              "      <th>561</th>\n",
              "      <td>噂</td>\n",
              "      <td>噂</td>\n",
              "      <td>zun3</td>\n",
              "      <td>meet</td>\n",
              "      <td>口</td>\n",
              "      <td>尊</td>\n",
              "      <td>0.0</td>\n",
              "    </tr>\n",
              "    <tr>\n",
              "      <th>562</th>\n",
              "      <td>唑</td>\n",
              "      <td>唑</td>\n",
              "      <td>zuo4</td>\n",
              "      <td>-z ole (chem.)</td>\n",
              "      <td>NaN</td>\n",
              "      <td>NaN</td>\n",
              "      <td>2.0</td>\n",
              "    </tr>\n",
              "  </tbody>\n",
              "</table>\n",
              "<p>562 rows × 7 columns</p>\n",
              "</div>"
            ],
            "text/plain": [
              "    Simp Trad  Pinyin         English Semantic Phonetic  Words\n",
              "1      吡    吡     BI3           blame      NaN      NaN    2.0\n",
              "2      呋    呋     FU1             NaN      NaN      NaN    1.0\n",
              "3      咣    咣  GUANG1             NaN      NaN      NaN    0.0\n",
              "4      啉    啉    LAN2            slow      NaN      NaN    2.0\n",
              "5      嘭    嘭   PENG1      drive_away      NaN      NaN    0.0\n",
              "..   ...  ...     ...             ...      ...      ...    ...\n",
              "558    哫    哫     zu2          cajole      NaN      NaN    0.0\n",
              "559    嘴    嘴    zui3           mouth      NaN      NaN   13.0\n",
              "560    噿    噿    zui3             NaN      NaN      NaN    0.0\n",
              "561    噂    噂    zun3            meet        口        尊    0.0\n",
              "562    唑    唑    zuo4  -z ole (chem.)      NaN      NaN    2.0\n",
              "\n",
              "[562 rows x 7 columns]"
            ]
          },
          "metadata": {},
          "execution_count": 43
        },
        {
          "output_type": "stream",
          "name": "stdout",
          "text": [
            "time: 34.6 ms (started: 2021-12-02 05:30:10 +00:00)\n"
          ]
        }
      ]
    },
    {
      "cell_type": "markdown",
      "metadata": {
        "id": "Ojixe6-1ROc9"
      },
      "source": [
        "Side edit to add changes since my deck has now changed"
      ]
    },
    {
      "cell_type": "code",
      "metadata": {
        "id": "r21gjQsJkGL9",
        "colab": {
          "base_uri": "https://localhost:8080/",
          "height": 206
        },
        "outputId": "c3a29ec5-efbf-4e4a-f8f5-fdee4cfe7c65"
      },
      "source": [
        "file_in = 'heisig1_with_examples.csv' #uploaded file\n",
        "headers =  [\"Hanzi\", \"Meaning\", \"Notes\", \"Words\"]\n",
        "old = pd.read_csv(file_in, index_col=False, names=headers)\n",
        "old.tail()"
      ],
      "execution_count": 3,
      "outputs": [
        {
          "output_type": "execute_result",
          "data": {
            "text/html": [
              "<div>\n",
              "<style scoped>\n",
              "    .dataframe tbody tr th:only-of-type {\n",
              "        vertical-align: middle;\n",
              "    }\n",
              "\n",
              "    .dataframe tbody tr th {\n",
              "        vertical-align: top;\n",
              "    }\n",
              "\n",
              "    .dataframe thead th {\n",
              "        text-align: right;\n",
              "    }\n",
              "</style>\n",
              "<table border=\"1\" class=\"dataframe\">\n",
              "  <thead>\n",
              "    <tr style=\"text-align: right;\">\n",
              "      <th></th>\n",
              "      <th>Hanzi</th>\n",
              "      <th>Meaning</th>\n",
              "      <th>Notes</th>\n",
              "      <th>Words</th>\n",
              "    </tr>\n",
              "  </thead>\n",
              "  <tbody>\n",
              "    <tr>\n",
              "      <th>1466</th>\n",
              "      <td>亦</td>\n",
              "      <td>likewise</td>\n",
              "      <td>yì</td>\n",
              "      <td>NaN</td>\n",
              "    </tr>\n",
              "    <tr>\n",
              "      <th>1467</th>\n",
              "      <td>极</td>\n",
              "      <td>extreme</td>\n",
              "      <td>jí</td>\n",
              "      <td>NaN</td>\n",
              "    </tr>\n",
              "    <tr>\n",
              "      <th>1468</th>\n",
              "      <td>杂</td>\n",
              "      <td>miscellaneous</td>\n",
              "      <td>zá</td>\n",
              "      <td>NaN</td>\n",
              "    </tr>\n",
              "    <tr>\n",
              "      <th>1469</th>\n",
              "      <td>曰</td>\n",
              "      <td>sayeth</td>\n",
              "      <td>yuē</td>\n",
              "      <td>NaN</td>\n",
              "    </tr>\n",
              "    <tr>\n",
              "      <th>1470</th>\n",
              "      <td>乱</td>\n",
              "      <td>chaos</td>\n",
              "      <td>luàn</td>\n",
              "      <td>NaN</td>\n",
              "    </tr>\n",
              "  </tbody>\n",
              "</table>\n",
              "</div>"
            ],
            "text/plain": [
              "     Hanzi        Meaning Notes  Words\n",
              "1466     亦       likewise    yì    NaN\n",
              "1467     极        extreme    jí    NaN\n",
              "1468     杂  miscellaneous    zá    NaN\n",
              "1469     曰         sayeth   yuē    NaN\n",
              "1470     乱          chaos  luàn    NaN"
            ]
          },
          "metadata": {},
          "execution_count": 3
        }
      ]
    },
    {
      "cell_type": "code",
      "metadata": {
        "colab": {
          "base_uri": "https://localhost:8080/",
          "height": 206
        },
        "id": "suiPA1UdRu7j",
        "outputId": "420b3107-4de5-4709-c4d4-4ef9da9ee739"
      },
      "source": [
        "alt_source_in = \"https://raw.githubusercontent.com/agj/3000-traditional-hanzi/master/data/external/heisig-simplified.txt\"\n",
        "# a[['first','second']] = a[\"bad\"].str.split(\" \", 1, expand=True)\n",
        "a = pd.read_csv(alt_source_in, delim_whitespace=True,skiprows=1).fillna('')\n",
        "# a.columns=['bad']\n",
        "# a.reset_index\n",
        "a.head()"
      ],
      "execution_count": 36,
      "outputs": [
        {
          "output_type": "execute_result",
          "data": {
            "text/html": [
              "<div>\n",
              "<style scoped>\n",
              "    .dataframe tbody tr th:only-of-type {\n",
              "        vertical-align: middle;\n",
              "    }\n",
              "\n",
              "    .dataframe tbody tr th {\n",
              "        vertical-align: top;\n",
              "    }\n",
              "\n",
              "    .dataframe thead th {\n",
              "        text-align: right;\n",
              "    }\n",
              "</style>\n",
              "<table border=\"1\" class=\"dataframe\">\n",
              "  <thead>\n",
              "    <tr style=\"text-align: right;\">\n",
              "      <th></th>\n",
              "      <th>#</th>\n",
              "      <th>Index</th>\n",
              "      <th>-</th>\n",
              "      <th>Character</th>\n",
              "      <th>-.1</th>\n",
              "      <th>Keyword</th>\n",
              "    </tr>\n",
              "  </thead>\n",
              "  <tbody>\n",
              "    <tr>\n",
              "      <th>0</th>\n",
              "      <td>0001</td>\n",
              "      <td>一</td>\n",
              "      <td>one</td>\n",
              "      <td></td>\n",
              "      <td></td>\n",
              "      <td></td>\n",
              "    </tr>\n",
              "    <tr>\n",
              "      <th>1</th>\n",
              "      <td>0002</td>\n",
              "      <td>二</td>\n",
              "      <td>two</td>\n",
              "      <td></td>\n",
              "      <td></td>\n",
              "      <td></td>\n",
              "    </tr>\n",
              "    <tr>\n",
              "      <th>2</th>\n",
              "      <td>0003</td>\n",
              "      <td>三</td>\n",
              "      <td>three</td>\n",
              "      <td></td>\n",
              "      <td></td>\n",
              "      <td></td>\n",
              "    </tr>\n",
              "    <tr>\n",
              "      <th>3</th>\n",
              "      <td>0004</td>\n",
              "      <td>四</td>\n",
              "      <td>four</td>\n",
              "      <td></td>\n",
              "      <td></td>\n",
              "      <td></td>\n",
              "    </tr>\n",
              "    <tr>\n",
              "      <th>4</th>\n",
              "      <td>0005</td>\n",
              "      <td>五</td>\n",
              "      <td>five</td>\n",
              "      <td></td>\n",
              "      <td></td>\n",
              "      <td></td>\n",
              "    </tr>\n",
              "  </tbody>\n",
              "</table>\n",
              "</div>"
            ],
            "text/plain": [
              "      # Index      - Character -.1 Keyword\n",
              "0  0001     一    one                      \n",
              "1  0002     二    two                      \n",
              "2  0003     三  three                      \n",
              "3  0004     四   four                      \n",
              "4  0005     五   five                      "
            ]
          },
          "metadata": {},
          "execution_count": 36
        }
      ]
    },
    {
      "cell_type": "code",
      "metadata": {
        "colab": {
          "base_uri": "https://localhost:8080/",
          "height": 424
        },
        "id": "5vXCyqxCSEOv",
        "outputId": "17285595-d883-4441-8253-d1588a1431df"
      },
      "source": [
        "# b[['A','B']] = a[['Index'], ''.join(['-', 'Character', '-.1', 'Keyword'])]\n",
        "# b\n",
        "a['last'] = a[['-', 'Character', '-.1', 'Keyword']].agg(' '.join, axis=1)\n",
        "b = a[['Index','last']]\n",
        "b.columns = ['Hanzi', 'Meaning']\n",
        "b"
      ],
      "execution_count": 45,
      "outputs": [
        {
          "output_type": "execute_result",
          "data": {
            "text/html": [
              "<div>\n",
              "<style scoped>\n",
              "    .dataframe tbody tr th:only-of-type {\n",
              "        vertical-align: middle;\n",
              "    }\n",
              "\n",
              "    .dataframe tbody tr th {\n",
              "        vertical-align: top;\n",
              "    }\n",
              "\n",
              "    .dataframe thead th {\n",
              "        text-align: right;\n",
              "    }\n",
              "</style>\n",
              "<table border=\"1\" class=\"dataframe\">\n",
              "  <thead>\n",
              "    <tr style=\"text-align: right;\">\n",
              "      <th></th>\n",
              "      <th>Hanzi</th>\n",
              "      <th>Meaning</th>\n",
              "    </tr>\n",
              "  </thead>\n",
              "  <tbody>\n",
              "    <tr>\n",
              "      <th>0</th>\n",
              "      <td>一</td>\n",
              "      <td>one</td>\n",
              "    </tr>\n",
              "    <tr>\n",
              "      <th>1</th>\n",
              "      <td>二</td>\n",
              "      <td>two</td>\n",
              "    </tr>\n",
              "    <tr>\n",
              "      <th>2</th>\n",
              "      <td>三</td>\n",
              "      <td>three</td>\n",
              "    </tr>\n",
              "    <tr>\n",
              "      <th>3</th>\n",
              "      <td>四</td>\n",
              "      <td>four</td>\n",
              "    </tr>\n",
              "    <tr>\n",
              "      <th>4</th>\n",
              "      <td>五</td>\n",
              "      <td>five</td>\n",
              "    </tr>\n",
              "    <tr>\n",
              "      <th>...</th>\n",
              "      <td>...</td>\n",
              "      <td>...</td>\n",
              "    </tr>\n",
              "    <tr>\n",
              "      <th>3048</th>\n",
              "      <td>踊</td>\n",
              "      <td>eagerly</td>\n",
              "    </tr>\n",
              "    <tr>\n",
              "      <th>3049</th>\n",
              "      <td>錶</td>\n",
              "      <td>watch</td>\n",
              "    </tr>\n",
              "    <tr>\n",
              "      <th>3050</th>\n",
              "      <td>锺</td>\n",
              "      <td>draw together</td>\n",
              "    </tr>\n",
              "    <tr>\n",
              "      <th>3051</th>\n",
              "      <td>闺</td>\n",
              "      <td>small door</td>\n",
              "    </tr>\n",
              "    <tr>\n",
              "      <th>3052</th>\n",
              "      <td>鹭</td>\n",
              "      <td>heron</td>\n",
              "    </tr>\n",
              "  </tbody>\n",
              "</table>\n",
              "<p>3053 rows × 2 columns</p>\n",
              "</div>"
            ],
            "text/plain": [
              "     Hanzi          Meaning\n",
              "0        一           one   \n",
              "1        二           two   \n",
              "2        三         three   \n",
              "3        四          four   \n",
              "4        五          five   \n",
              "...    ...              ...\n",
              "3048     踊       eagerly   \n",
              "3049     錶         watch   \n",
              "3050     锺  draw together  \n",
              "3051     闺     small door  \n",
              "3052     鹭         heron   \n",
              "\n",
              "[3053 rows x 2 columns]"
            ]
          },
          "metadata": {},
          "execution_count": 45
        }
      ]
    },
    {
      "cell_type": "code",
      "metadata": {
        "colab": {
          "base_uri": "https://localhost:8080/",
          "height": 49
        },
        "id": "wWh9jghfSVDW",
        "outputId": "43896c60-3b79-480c-d786-bc73e05b2767"
      },
      "source": [
        "old[old.Meaning == '']"
      ],
      "execution_count": 47,
      "outputs": [
        {
          "output_type": "execute_result",
          "data": {
            "text/html": [
              "<div>\n",
              "<style scoped>\n",
              "    .dataframe tbody tr th:only-of-type {\n",
              "        vertical-align: middle;\n",
              "    }\n",
              "\n",
              "    .dataframe tbody tr th {\n",
              "        vertical-align: top;\n",
              "    }\n",
              "\n",
              "    .dataframe thead th {\n",
              "        text-align: right;\n",
              "    }\n",
              "</style>\n",
              "<table border=\"1\" class=\"dataframe\">\n",
              "  <thead>\n",
              "    <tr style=\"text-align: right;\">\n",
              "      <th></th>\n",
              "      <th>Hanzi</th>\n",
              "      <th>Meaning</th>\n",
              "      <th>Notes</th>\n",
              "      <th>Words</th>\n",
              "    </tr>\n",
              "  </thead>\n",
              "  <tbody>\n",
              "  </tbody>\n",
              "</table>\n",
              "</div>"
            ],
            "text/plain": [
              "Empty DataFrame\n",
              "Columns: [Hanzi, Meaning, Notes, Words]\n",
              "Index: []"
            ]
          },
          "metadata": {},
          "execution_count": 47
        }
      ]
    },
    {
      "cell_type": "code",
      "metadata": {
        "colab": {
          "base_uri": "https://localhost:8080/",
          "height": 424
        },
        "id": "4ATwOy3zS29O",
        "outputId": "deaf8eed-2d86-47c4-bbba-7f738fba3150"
      },
      "source": [
        "a"
      ],
      "execution_count": 19,
      "outputs": [
        {
          "output_type": "execute_result",
          "data": {
            "text/html": [
              "<div>\n",
              "<style scoped>\n",
              "    .dataframe tbody tr th:only-of-type {\n",
              "        vertical-align: middle;\n",
              "    }\n",
              "\n",
              "    .dataframe tbody tr th {\n",
              "        vertical-align: top;\n",
              "    }\n",
              "\n",
              "    .dataframe thead th {\n",
              "        text-align: right;\n",
              "    }\n",
              "</style>\n",
              "<table border=\"1\" class=\"dataframe\">\n",
              "  <thead>\n",
              "    <tr style=\"text-align: right;\">\n",
              "      <th></th>\n",
              "      <th></th>\n",
              "      <th>bad</th>\n",
              "      <th>first</th>\n",
              "      <th>second</th>\n",
              "    </tr>\n",
              "  </thead>\n",
              "  <tbody>\n",
              "    <tr>\n",
              "      <th>0001</th>\n",
              "      <th>一</th>\n",
              "      <td>one</td>\n",
              "      <td>one</td>\n",
              "      <td>None</td>\n",
              "    </tr>\n",
              "    <tr>\n",
              "      <th>0002</th>\n",
              "      <th>二</th>\n",
              "      <td>two</td>\n",
              "      <td>two</td>\n",
              "      <td>None</td>\n",
              "    </tr>\n",
              "    <tr>\n",
              "      <th>0003</th>\n",
              "      <th>三</th>\n",
              "      <td>three</td>\n",
              "      <td>three</td>\n",
              "      <td>None</td>\n",
              "    </tr>\n",
              "    <tr>\n",
              "      <th>0004</th>\n",
              "      <th>四</th>\n",
              "      <td>four</td>\n",
              "      <td>four</td>\n",
              "      <td>None</td>\n",
              "    </tr>\n",
              "    <tr>\n",
              "      <th>0005</th>\n",
              "      <th>五</th>\n",
              "      <td>five</td>\n",
              "      <td>five</td>\n",
              "      <td>None</td>\n",
              "    </tr>\n",
              "    <tr>\n",
              "      <th>...</th>\n",
              "      <th>...</th>\n",
              "      <td>...</td>\n",
              "      <td>...</td>\n",
              "      <td>...</td>\n",
              "    </tr>\n",
              "    <tr>\n",
              "      <th rowspan=\"5\" valign=\"top\">c</th>\n",
              "      <th>踊</th>\n",
              "      <td>eagerly</td>\n",
              "      <td>eagerly</td>\n",
              "      <td>None</td>\n",
              "    </tr>\n",
              "    <tr>\n",
              "      <th>錶</th>\n",
              "      <td>watch</td>\n",
              "      <td>watch</td>\n",
              "      <td>None</td>\n",
              "    </tr>\n",
              "    <tr>\n",
              "      <th>锺</th>\n",
              "      <td>draw together</td>\n",
              "      <td>draw</td>\n",
              "      <td>together</td>\n",
              "    </tr>\n",
              "    <tr>\n",
              "      <th>闺</th>\n",
              "      <td>small door</td>\n",
              "      <td>small</td>\n",
              "      <td>door</td>\n",
              "    </tr>\n",
              "    <tr>\n",
              "      <th>鹭</th>\n",
              "      <td>heron</td>\n",
              "      <td>heron</td>\n",
              "      <td>None</td>\n",
              "    </tr>\n",
              "  </tbody>\n",
              "</table>\n",
              "<p>3053 rows × 3 columns</p>\n",
              "</div>"
            ],
            "text/plain": [
              "                  bad    first    second\n",
              "0001 一            one      one      None\n",
              "0002 二            two      two      None\n",
              "0003 三          three    three      None\n",
              "0004 四           four     four      None\n",
              "0005 五           five     five      None\n",
              "...               ...      ...       ...\n",
              "c    踊        eagerly  eagerly      None\n",
              "     錶          watch    watch      None\n",
              "     锺  draw together     draw  together\n",
              "     闺     small door    small      door\n",
              "     鹭          heron    heron      None\n",
              "\n",
              "[3053 rows x 3 columns]"
            ]
          },
          "metadata": {},
          "execution_count": 19
        }
      ]
    },
    {
      "cell_type": "code",
      "metadata": {
        "id": "_hAXQJyET7xL"
      },
      "source": [
        ""
      ],
      "execution_count": null,
      "outputs": []
    }
  ]
}