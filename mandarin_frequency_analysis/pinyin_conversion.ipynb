{
  "nbformat": 4,
  "nbformat_minor": 0,
  "metadata": {
    "colab": {
      "name": "pinyin_conversion.ipynb",
      "provenance": [],
      "authorship_tag": "ABX9TyPRBjrZj3v/doQX+UB80Mto",
      "include_colab_link": true
    },
    "kernelspec": {
      "name": "python3",
      "display_name": "Python 3"
    },
    "language_info": {
      "name": "python"
    }
  },
  "cells": [
    {
      "cell_type": "markdown",
      "metadata": {
        "id": "view-in-github",
        "colab_type": "text"
      },
      "source": [
        "<a href=\"https://colab.research.google.com/github/Tclack88/misc-analysis/blob/main/mandarin_frequency_analysis/pinyin_conversion.ipynb\" target=\"_parent\"><img src=\"https://colab.research.google.com/assets/colab-badge.svg\" alt=\"Open In Colab\"/></a>"
      ]
    },
    {
      "cell_type": "markdown",
      "metadata": {
        "id": "j2qtRPgTcp2N"
      },
      "source": [
        "Using this to provide example word for the heisig deck"
      ]
    },
    {
      "cell_type": "code",
      "metadata": {
        "id": "X9F8npVYO1pb"
      },
      "source": [
        "import requests\n",
        "from bs4 import BeautifulSoup\n",
        "import pandas as pd"
      ],
      "execution_count": 1,
      "outputs": []
    },
    {
      "cell_type": "code",
      "metadata": {
        "colab": {
          "base_uri": "https://localhost:8080/"
        },
        "id": "miw-3vOQOtBr",
        "outputId": "967bd258-e6b3-4ec6-bb93-d4c90ce5bd0c"
      },
      "source": [
        "url_start = \"https://learn-chinese-words.com/dictionary.php?input=\"\n",
        "char = \"弟\"\n",
        "char = \"吾\"\n",
        "source = requests.get(url_start+char).text\n",
        "soup = BeautifulSoup(source, 'html.parser')\n",
        "results = soup.find('table', {'class':'results'})\n",
        "results"
      ],
      "execution_count": 2,
      "outputs": [
        {
          "output_type": "execute_result",
          "data": {
            "text/plain": [
              "<table class=\"results\">\n",
              "<tr><td><a href=\"https://learn-chinese-words.com/detail/chinese/吾\">吾</a></td><td>wu2 </td><td>I</td></tr>\n",
              "<tr><td><a href=\"https://learn-chinese-words.com/detail/chinese/支吾\">支吾</a></td><td>zhi1 wu2 </td><td>to elude</td></tr>\n",
              "<tr><td><a href=\"https://learn-chinese-words.com/detail/chinese/吾人\">吾人</a></td><td>wu2 ren2 </td><td></td></tr>\n",
              "<tr><td><a href=\"https://learn-chinese-words.com/detail/chinese/维吾尔\">维吾尔</a></td><td>wei2 wu2 er3 </td><td>Uighur ethnic group of Xinjiang</td></tr>\n",
              "<tr><td><a href=\"https://learn-chinese-words.com/detail/chinese/维吾尔族\">维吾尔族</a></td><td>wei2 wu2 er3 zu2 </td><td>Uighur (Uyghur) ethnic group of Xinjiang</td></tr>\n",
              "<tr><td><a href=\"https://learn-chinese-words.com/detail/chinese/伊吾\">伊吾</a></td><td>yi1 wu2 </td><td>Yiwu county in Kumul prefecture 哈密地區哈密地区[Ha1 mi4 di4 qu1], Xinjiang</td></tr>\n",
              "<tr><td><a href=\"https://learn-chinese-words.com/detail/chinese/支吾其辞\">支吾其辞</a></td><td>zhi1 wu2 qi2 ci2 </td><td>prevaricate</td></tr>\n",
              "<tr><td><a href=\"https://learn-chinese-words.com/detail/chinese/维吾尔人\">维吾尔人</a></td><td>wei2 wu2 er3 ren2 </td><td>Uighur person or people </td></tr>\n",
              "<tr><td><a href=\"https://learn-chinese-words.com/detail/chinese/老吾老\">老吾老</a></td><td>lao3 wu2 lao3 </td><td></td></tr>\n",
              "<tr><td><a href=\"https://learn-chinese-words.com/detail/chinese/张吾乐\">张吾乐</a></td><td>zhang1 wu2 le4 </td><td>Zhang Wule</td></tr>\n",
              "<tr><td><a href=\"https://learn-chinese-words.com/detail/chinese/新疆维吾尔自治区\">新疆维吾尔自治区</a></td><td>xin1 jiang1 wei2 wu2 er3 zi4 zhi4 qu1 </td><td>Xinjiang Uighur Autonomous Region</td></tr>\n",
              "<tr><td><a href=\"https://learn-chinese-words.com/detail/chinese/支支吾吾\">支支吾吾</a></td><td>zhi1 zhi1 wu2 wu2 </td><td>to stall</td></tr>\n",
              "<tr><td><a href=\"https://learn-chinese-words.com/detail/chinese/吾尔开希\">吾尔开希</a></td><td>wu2 er3 kai1 xi1 </td><td>rkesh Dlet (1968-), one of the main leaders of the Beijing student democracy movement of 1989</td></tr>\n",
              "</table>"
            ]
          },
          "metadata": {},
          "execution_count": 2
        }
      ]
    },
    {
      "cell_type": "code",
      "metadata": {
        "colab": {
          "base_uri": "https://localhost:8080/",
          "height": 457
        },
        "id": "-RyJk15fOxn1",
        "outputId": "18d59b39-264c-4aac-bc92-16b679fee322"
      },
      "source": [
        "df = pd.read_html(str(results))[0]\n",
        "df = df.fillna('')\n",
        "df"
      ],
      "execution_count": 3,
      "outputs": [
        {
          "output_type": "execute_result",
          "data": {
            "text/html": [
              "<div>\n",
              "<style scoped>\n",
              "    .dataframe tbody tr th:only-of-type {\n",
              "        vertical-align: middle;\n",
              "    }\n",
              "\n",
              "    .dataframe tbody tr th {\n",
              "        vertical-align: top;\n",
              "    }\n",
              "\n",
              "    .dataframe thead th {\n",
              "        text-align: right;\n",
              "    }\n",
              "</style>\n",
              "<table border=\"1\" class=\"dataframe\">\n",
              "  <thead>\n",
              "    <tr style=\"text-align: right;\">\n",
              "      <th></th>\n",
              "      <th>0</th>\n",
              "      <th>1</th>\n",
              "      <th>2</th>\n",
              "    </tr>\n",
              "  </thead>\n",
              "  <tbody>\n",
              "    <tr>\n",
              "      <th>0</th>\n",
              "      <td>吾</td>\n",
              "      <td>wu2</td>\n",
              "      <td>I</td>\n",
              "    </tr>\n",
              "    <tr>\n",
              "      <th>1</th>\n",
              "      <td>支吾</td>\n",
              "      <td>zhi1 wu2</td>\n",
              "      <td>to elude</td>\n",
              "    </tr>\n",
              "    <tr>\n",
              "      <th>2</th>\n",
              "      <td>吾人</td>\n",
              "      <td>wu2 ren2</td>\n",
              "      <td></td>\n",
              "    </tr>\n",
              "    <tr>\n",
              "      <th>3</th>\n",
              "      <td>维吾尔</td>\n",
              "      <td>wei2 wu2 er3</td>\n",
              "      <td>Uighur ethnic group of Xinjiang</td>\n",
              "    </tr>\n",
              "    <tr>\n",
              "      <th>4</th>\n",
              "      <td>维吾尔族</td>\n",
              "      <td>wei2 wu2 er3 zu2</td>\n",
              "      <td>Uighur (Uyghur) ethnic group of Xinjiang</td>\n",
              "    </tr>\n",
              "    <tr>\n",
              "      <th>5</th>\n",
              "      <td>伊吾</td>\n",
              "      <td>yi1 wu2</td>\n",
              "      <td>Yiwu county in Kumul prefecture 哈密地區哈密地区[Ha1 m...</td>\n",
              "    </tr>\n",
              "    <tr>\n",
              "      <th>6</th>\n",
              "      <td>支吾其辞</td>\n",
              "      <td>zhi1 wu2 qi2 ci2</td>\n",
              "      <td>prevaricate</td>\n",
              "    </tr>\n",
              "    <tr>\n",
              "      <th>7</th>\n",
              "      <td>维吾尔人</td>\n",
              "      <td>wei2 wu2 er3 ren2</td>\n",
              "      <td>Uighur person or people</td>\n",
              "    </tr>\n",
              "    <tr>\n",
              "      <th>8</th>\n",
              "      <td>老吾老</td>\n",
              "      <td>lao3 wu2 lao3</td>\n",
              "      <td></td>\n",
              "    </tr>\n",
              "    <tr>\n",
              "      <th>9</th>\n",
              "      <td>张吾乐</td>\n",
              "      <td>zhang1 wu2 le4</td>\n",
              "      <td>Zhang Wule</td>\n",
              "    </tr>\n",
              "    <tr>\n",
              "      <th>10</th>\n",
              "      <td>新疆维吾尔自治区</td>\n",
              "      <td>xin1 jiang1 wei2 wu2 er3 zi4 zhi4 qu1</td>\n",
              "      <td>Xinjiang Uighur Autonomous Region</td>\n",
              "    </tr>\n",
              "    <tr>\n",
              "      <th>11</th>\n",
              "      <td>支支吾吾</td>\n",
              "      <td>zhi1 zhi1 wu2 wu2</td>\n",
              "      <td>to stall</td>\n",
              "    </tr>\n",
              "    <tr>\n",
              "      <th>12</th>\n",
              "      <td>吾尔开希</td>\n",
              "      <td>wu2 er3 kai1 xi1</td>\n",
              "      <td>rkesh Dlet (1968-), one of the main leaders of...</td>\n",
              "    </tr>\n",
              "  </tbody>\n",
              "</table>\n",
              "</div>"
            ],
            "text/plain": [
              "           0  ...                                                  2\n",
              "0          吾  ...                                                  I\n",
              "1         支吾  ...                                           to elude\n",
              "2         吾人  ...                                                   \n",
              "3        维吾尔  ...                    Uighur ethnic group of Xinjiang\n",
              "4       维吾尔族  ...           Uighur (Uyghur) ethnic group of Xinjiang\n",
              "5         伊吾  ...  Yiwu county in Kumul prefecture 哈密地區哈密地区[Ha1 m...\n",
              "6       支吾其辞  ...                                        prevaricate\n",
              "7       维吾尔人  ...                            Uighur person or people\n",
              "8        老吾老  ...                                                   \n",
              "9        张吾乐  ...                                         Zhang Wule\n",
              "10  新疆维吾尔自治区  ...                  Xinjiang Uighur Autonomous Region\n",
              "11      支支吾吾  ...                                           to stall\n",
              "12      吾尔开希  ...  rkesh Dlet (1968-), one of the main leaders of...\n",
              "\n",
              "[13 rows x 3 columns]"
            ]
          },
          "metadata": {},
          "execution_count": 3
        }
      ]
    },
    {
      "cell_type": "code",
      "metadata": {
        "colab": {
          "base_uri": "https://localhost:8080/"
        },
        "id": "CYeLGq0xUIig",
        "outputId": "a3f7884a-81a0-4232-dfc8-2296c5ea8b0b"
      },
      "source": [
        "# lifted from here https://stackoverflow.com/questions/8200349/convert-numbered-pinyin-to-pinyin-with-tone-marks\n",
        "import re\n",
        "\n",
        "pinyinToneMarks = {\n",
        "    'a': 'āáǎà', 'e': 'ēéěè', 'i': 'īíǐì',\n",
        "    'o': 'ōóǒò', 'u': 'ūúǔù', 'ü': 'ǖǘǚǜ',\n",
        "    'A': 'ĀÁǍÀ', 'E': 'ĒÉĚÈ', 'I': 'ĪÍǏÌ',\n",
        "    'O': 'ŌÓǑÒ', 'U': 'ŪÚǓÙ', 'Ü': 'ǕǗǙǛ'\n",
        "}\n",
        "\n",
        "def convertPinyinCallback(m):\n",
        "    tone=int(m.group(3))%5\n",
        "    r=m.group(1).replace('v', 'ü').replace('V', 'Ü')\n",
        "    # for multple vowels, use first one if it is a/e/o, otherwise use second one\n",
        "    pos=0\n",
        "    if len(r)>1 and not r[0] in 'aeoAEO':\n",
        "        pos=1\n",
        "    if tone != 0:\n",
        "        r=r[0:pos]+pinyinToneMarks[r[pos]][tone-1]+r[pos+1:]\n",
        "    return r+m.group(2)\n",
        "\n",
        "def convertPinyin(s):\n",
        "    return re.sub(r'([aeiouüvÜ]{1,3})(n?g?r?)([012345])', convertPinyinCallback, s, flags=re.IGNORECASE)\n",
        "\n",
        "print(convertPinyin('Ni3 hao3 ma0?'))"
      ],
      "execution_count": 4,
      "outputs": [
        {
          "output_type": "stream",
          "name": "stdout",
          "text": [
            "Nǐ hǎo ma?\n"
          ]
        }
      ]
    },
    {
      "cell_type": "code",
      "metadata": {
        "colab": {
          "base_uri": "https://localhost:8080/",
          "height": 457
        },
        "id": "RUGigLNVUoFH",
        "outputId": "6af231b7-45e1-4306-fb7e-df32c49d4e91"
      },
      "source": [
        "df[1] = df[1].apply(convertPinyin)\n",
        "df[2] = df[2].apply(convertPinyin)\n",
        "df"
      ],
      "execution_count": 5,
      "outputs": [
        {
          "output_type": "execute_result",
          "data": {
            "text/html": [
              "<div>\n",
              "<style scoped>\n",
              "    .dataframe tbody tr th:only-of-type {\n",
              "        vertical-align: middle;\n",
              "    }\n",
              "\n",
              "    .dataframe tbody tr th {\n",
              "        vertical-align: top;\n",
              "    }\n",
              "\n",
              "    .dataframe thead th {\n",
              "        text-align: right;\n",
              "    }\n",
              "</style>\n",
              "<table border=\"1\" class=\"dataframe\">\n",
              "  <thead>\n",
              "    <tr style=\"text-align: right;\">\n",
              "      <th></th>\n",
              "      <th>0</th>\n",
              "      <th>1</th>\n",
              "      <th>2</th>\n",
              "    </tr>\n",
              "  </thead>\n",
              "  <tbody>\n",
              "    <tr>\n",
              "      <th>0</th>\n",
              "      <td>吾</td>\n",
              "      <td>wú</td>\n",
              "      <td>I</td>\n",
              "    </tr>\n",
              "    <tr>\n",
              "      <th>1</th>\n",
              "      <td>支吾</td>\n",
              "      <td>zhī wú</td>\n",
              "      <td>to elude</td>\n",
              "    </tr>\n",
              "    <tr>\n",
              "      <th>2</th>\n",
              "      <td>吾人</td>\n",
              "      <td>wú rén</td>\n",
              "      <td></td>\n",
              "    </tr>\n",
              "    <tr>\n",
              "      <th>3</th>\n",
              "      <td>维吾尔</td>\n",
              "      <td>wéi wú ěr</td>\n",
              "      <td>Uighur ethnic group of Xinjiang</td>\n",
              "    </tr>\n",
              "    <tr>\n",
              "      <th>4</th>\n",
              "      <td>维吾尔族</td>\n",
              "      <td>wéi wú ěr zú</td>\n",
              "      <td>Uighur (Uyghur) ethnic group of Xinjiang</td>\n",
              "    </tr>\n",
              "    <tr>\n",
              "      <th>5</th>\n",
              "      <td>伊吾</td>\n",
              "      <td>yī wú</td>\n",
              "      <td>Yiwu county in Kumul prefecture 哈密地區哈密地区[Hā mì...</td>\n",
              "    </tr>\n",
              "    <tr>\n",
              "      <th>6</th>\n",
              "      <td>支吾其辞</td>\n",
              "      <td>zhī wú qí cí</td>\n",
              "      <td>prevaricate</td>\n",
              "    </tr>\n",
              "    <tr>\n",
              "      <th>7</th>\n",
              "      <td>维吾尔人</td>\n",
              "      <td>wéi wú ěr rén</td>\n",
              "      <td>Uighur person or people</td>\n",
              "    </tr>\n",
              "    <tr>\n",
              "      <th>8</th>\n",
              "      <td>老吾老</td>\n",
              "      <td>lǎo wú lǎo</td>\n",
              "      <td></td>\n",
              "    </tr>\n",
              "    <tr>\n",
              "      <th>9</th>\n",
              "      <td>张吾乐</td>\n",
              "      <td>zhāng wú lè</td>\n",
              "      <td>Zhang Wule</td>\n",
              "    </tr>\n",
              "    <tr>\n",
              "      <th>10</th>\n",
              "      <td>新疆维吾尔自治区</td>\n",
              "      <td>xīn jiāng wéi wú ěr zì zhì qū</td>\n",
              "      <td>Xinjiang Uighur Autonomous Region</td>\n",
              "    </tr>\n",
              "    <tr>\n",
              "      <th>11</th>\n",
              "      <td>支支吾吾</td>\n",
              "      <td>zhī zhī wú wú</td>\n",
              "      <td>to stall</td>\n",
              "    </tr>\n",
              "    <tr>\n",
              "      <th>12</th>\n",
              "      <td>吾尔开希</td>\n",
              "      <td>wú ěr kāi xī</td>\n",
              "      <td>rkesh Dlet (1968-), one of the main leaders of...</td>\n",
              "    </tr>\n",
              "  </tbody>\n",
              "</table>\n",
              "</div>"
            ],
            "text/plain": [
              "           0  ...                                                  2\n",
              "0          吾  ...                                                  I\n",
              "1         支吾  ...                                           to elude\n",
              "2         吾人  ...                                                   \n",
              "3        维吾尔  ...                    Uighur ethnic group of Xinjiang\n",
              "4       维吾尔族  ...           Uighur (Uyghur) ethnic group of Xinjiang\n",
              "5         伊吾  ...  Yiwu county in Kumul prefecture 哈密地區哈密地区[Hā mì...\n",
              "6       支吾其辞  ...                                        prevaricate\n",
              "7       维吾尔人  ...                            Uighur person or people\n",
              "8        老吾老  ...                                                   \n",
              "9        张吾乐  ...                                         Zhang Wule\n",
              "10  新疆维吾尔自治区  ...                  Xinjiang Uighur Autonomous Region\n",
              "11      支支吾吾  ...                                           to stall\n",
              "12      吾尔开希  ...  rkesh Dlet (1968-), one of the main leaders of...\n",
              "\n",
              "[13 rows x 3 columns]"
            ]
          },
          "metadata": {},
          "execution_count": 5
        }
      ]
    },
    {
      "cell_type": "code",
      "metadata": {
        "colab": {
          "base_uri": "https://localhost:8080/",
          "height": 70
        },
        "id": "QOtyN3LqVp6s",
        "outputId": "f3aebace-95e1-411c-db46-607c5c804486"
      },
      "source": [
        "ch = list(df[0])\n",
        "py = list(df[1])\n",
        "en = list(df[2])\n",
        "\n",
        "samples = '\\n'.join(['-'.join(sample) for sample in list(zip(ch,py,en))])\n",
        "samples"
      ],
      "execution_count": 6,
      "outputs": [
        {
          "output_type": "execute_result",
          "data": {
            "application/vnd.google.colaboratory.intrinsic+json": {
              "type": "string"
            },
            "text/plain": [
              "'吾-wú-I\\n支吾-zhī wú-to elude\\n吾人-wú rén-\\n维吾尔-wéi wú ěr-Uighur ethnic group of Xinjiang\\n维吾尔族-wéi wú ěr zú-Uighur (Uyghur) ethnic group of Xinjiang\\n伊吾-yī wú-Yiwu county in Kumul prefecture 哈密地區哈密地区[Hā mì dì qū], Xinjiang\\n支吾其辞-zhī wú qí cí-prevaricate\\n维吾尔人-wéi wú ěr rén-Uighur person or people\\n老吾老-lǎo wú lǎo-\\n张吾乐-zhāng wú lè-Zhang Wule\\n新疆维吾尔自治区-xīn jiāng wéi wú ěr zì zhì qū-Xinjiang Uighur Autonomous Region\\n支支吾吾-zhī zhī wú wú-to stall\\n吾尔开希-wú ěr kāi xī-rkesh Dlet (1968-), one of the main leaders of the Beijing student democracy movement of 1989'"
            ]
          },
          "metadata": {},
          "execution_count": 6
        }
      ]
    },
    {
      "cell_type": "code",
      "metadata": {
        "colab": {
          "base_uri": "https://localhost:8080/"
        },
        "id": "NPiJYDxHVzYr",
        "outputId": "5ee0f5bc-981e-407a-e8f8-eee48b43abcb"
      },
      "source": [
        "print(samples)"
      ],
      "execution_count": 8,
      "outputs": [
        {
          "output_type": "stream",
          "name": "stdout",
          "text": [
            "吾-wú-I\n",
            "支吾-zhī wú-to elude\n",
            "吾人-wú rén-\n",
            "维吾尔-wéi wú ěr-Uighur ethnic group of Xinjiang\n",
            "维吾尔族-wéi wú ěr zú-Uighur (Uyghur) ethnic group of Xinjiang\n",
            "伊吾-yī wú-Yiwu county in Kumul prefecture 哈密地區哈密地区[Hā mì dì qū], Xinjiang\n",
            "支吾其辞-zhī wú qí cí-prevaricate\n",
            "维吾尔人-wéi wú ěr rén-Uighur person or people\n",
            "老吾老-lǎo wú lǎo-\n",
            "张吾乐-zhāng wú lè-Zhang Wule\n",
            "新疆维吾尔自治区-xīn jiāng wéi wú ěr zì zhì qū-Xinjiang Uighur Autonomous Region\n",
            "支支吾吾-zhī zhī wú wú-to stall\n",
            "吾尔开希-wú ěr kāi xī-rkesh Dlet (1968-), one of the main leaders of the Beijing student democracy movement of 1989\n"
          ]
        }
      ]
    },
    {
      "cell_type": "code",
      "metadata": {
        "colab": {
          "base_uri": "https://localhost:8080/",
          "height": 206
        },
        "id": "tuKJV7KJV0xp",
        "outputId": "b9a2fe12-8052-422e-fa0a-3678b565e365"
      },
      "source": [
        "file_to_edit = \"https://raw.githubusercontent.com/Tclack88/misc-analysis/main/mandarin_frequency_analysis/Heisig1_to_edit.csv\"\n",
        "headers =  [\"Hanzi\", \"Meaning\", \"Notes\", \"Words\"]\n",
        "old = pd.read_csv(file_to_edit, index_col=False, names=headers)\n",
        "old.head()"
      ],
      "execution_count": 9,
      "outputs": [
        {
          "output_type": "execute_result",
          "data": {
            "text/html": [
              "<div>\n",
              "<style scoped>\n",
              "    .dataframe tbody tr th:only-of-type {\n",
              "        vertical-align: middle;\n",
              "    }\n",
              "\n",
              "    .dataframe tbody tr th {\n",
              "        vertical-align: top;\n",
              "    }\n",
              "\n",
              "    .dataframe thead th {\n",
              "        text-align: right;\n",
              "    }\n",
              "</style>\n",
              "<table border=\"1\" class=\"dataframe\">\n",
              "  <thead>\n",
              "    <tr style=\"text-align: right;\">\n",
              "      <th></th>\n",
              "      <th>Hanzi</th>\n",
              "      <th>Meaning</th>\n",
              "      <th>Notes</th>\n",
              "      <th>Words</th>\n",
              "    </tr>\n",
              "  </thead>\n",
              "  <tbody>\n",
              "    <tr>\n",
              "      <th>0</th>\n",
              "      <td>一</td>\n",
              "      <td>one</td>\n",
              "      <td>yī</td>\n",
              "      <td>NaN</td>\n",
              "    </tr>\n",
              "    <tr>\n",
              "      <th>1</th>\n",
              "      <td>二</td>\n",
              "      <td>two</td>\n",
              "      <td>èr</td>\n",
              "      <td>NaN</td>\n",
              "    </tr>\n",
              "    <tr>\n",
              "      <th>2</th>\n",
              "      <td>三</td>\n",
              "      <td>three</td>\n",
              "      <td>sān</td>\n",
              "      <td>NaN</td>\n",
              "    </tr>\n",
              "    <tr>\n",
              "      <th>3</th>\n",
              "      <td>四</td>\n",
              "      <td>four</td>\n",
              "      <td>sì</td>\n",
              "      <td>NaN</td>\n",
              "    </tr>\n",
              "    <tr>\n",
              "      <th>4</th>\n",
              "      <td>五</td>\n",
              "      <td>five</td>\n",
              "      <td>wǔ</td>\n",
              "      <td>NaN</td>\n",
              "    </tr>\n",
              "  </tbody>\n",
              "</table>\n",
              "</div>"
            ],
            "text/plain": [
              "  Hanzi Meaning Notes  Words\n",
              "0     一     one    yī    NaN\n",
              "1     二     two    èr    NaN\n",
              "2     三   three   sān    NaN\n",
              "3     四    four    sì    NaN\n",
              "4     五    five    wǔ    NaN"
            ]
          },
          "metadata": {},
          "execution_count": 9
        }
      ]
    },
    {
      "cell_type": "code",
      "metadata": {
        "colab": {
          "base_uri": "https://localhost:8080/",
          "height": 206
        },
        "id": "Km0Lnrohizsu",
        "outputId": "6de37f38-2465-466c-800f-6479717430cc"
      },
      "source": [
        "test_slice = old[10:15]\n",
        "test_slice"
      ],
      "execution_count": 10,
      "outputs": [
        {
          "output_type": "execute_result",
          "data": {
            "text/html": [
              "<div>\n",
              "<style scoped>\n",
              "    .dataframe tbody tr th:only-of-type {\n",
              "        vertical-align: middle;\n",
              "    }\n",
              "\n",
              "    .dataframe tbody tr th {\n",
              "        vertical-align: top;\n",
              "    }\n",
              "\n",
              "    .dataframe thead th {\n",
              "        text-align: right;\n",
              "    }\n",
              "</style>\n",
              "<table border=\"1\" class=\"dataframe\">\n",
              "  <thead>\n",
              "    <tr style=\"text-align: right;\">\n",
              "      <th></th>\n",
              "      <th>Hanzi</th>\n",
              "      <th>Meaning</th>\n",
              "      <th>Notes</th>\n",
              "      <th>Words</th>\n",
              "    </tr>\n",
              "  </thead>\n",
              "  <tbody>\n",
              "    <tr>\n",
              "      <th>10</th>\n",
              "      <td>口</td>\n",
              "      <td>mouth</td>\n",
              "      <td>kǒu</td>\n",
              "      <td>NaN</td>\n",
              "    </tr>\n",
              "    <tr>\n",
              "      <th>11</th>\n",
              "      <td>目</td>\n",
              "      <td>eye</td>\n",
              "      <td>mù</td>\n",
              "      <td>NaN</td>\n",
              "    </tr>\n",
              "    <tr>\n",
              "      <th>12</th>\n",
              "      <td>古</td>\n",
              "      <td>ancient</td>\n",
              "      <td>gǔ&lt;br&gt;&lt;br&gt;pictograph of gravestone. Someone an...</td>\n",
              "      <td>NaN</td>\n",
              "    </tr>\n",
              "    <tr>\n",
              "      <th>13</th>\n",
              "      <td>胡</td>\n",
              "      <td>recklessly</td>\n",
              "      <td>\"hú&lt;br&gt;&lt;br&gt;people &lt;b&gt;wrecklessly&lt;/b&gt;&amp;nbsp;play...</td>\n",
              "      <td>NaN</td>\n",
              "    </tr>\n",
              "    <tr>\n",
              "      <th>14</th>\n",
              "      <td>吾</td>\n",
              "      <td>I (literary)</td>\n",
              "      <td>wú&lt;br&gt;&lt;br&gt;I am nothing more than 5 major body ...</td>\n",
              "      <td>NaN</td>\n",
              "    </tr>\n",
              "  </tbody>\n",
              "</table>\n",
              "</div>"
            ],
            "text/plain": [
              "   Hanzi  ... Words\n",
              "10     口  ...   NaN\n",
              "11     目  ...   NaN\n",
              "12     古  ...   NaN\n",
              "13     胡  ...   NaN\n",
              "14     吾  ...   NaN\n",
              "\n",
              "[5 rows x 4 columns]"
            ]
          },
          "metadata": {},
          "execution_count": 10
        }
      ]
    },
    {
      "cell_type": "code",
      "metadata": {
        "colab": {
          "base_uri": "https://localhost:8080/"
        },
        "id": "7LtfyCPGjo4J",
        "outputId": "6c9d57bf-534b-4d92-b4e5-a2803206b0ce"
      },
      "source": [
        "def get_example_words(char):\n",
        "  try:\n",
        "    url_start = \"https://learn-chinese-words.com/dictionary.php?input=\"\n",
        "    source = requests.get(url_start+char).text\n",
        "    soup = BeautifulSoup(source, 'html.parser')\n",
        "    results = soup.find('table', {'class':'results'})\n",
        "    df = pd.read_html(str(results))[0].fillna('') #str for convertPinyin, NaN=>''\n",
        "    df[1] = df[1].apply(convertPinyin)\n",
        "    df[2] = df[2].apply(convertPinyin)\n",
        "    ch = list(df[0])\n",
        "    py = list(df[1])\n",
        "    en = list(df[2])\n",
        "    samples = '<br>'.join(['-'.join(sample) for sample in list(zip(ch,py,en))])\n",
        "    return samples\n",
        "  except Exception as e:\n",
        "    print(f'problem withi {char}:\\n{e}')\n",
        "    return ''\n",
        "\n",
        "\n",
        "# test_slice['Words'] = test_slice['Hanzi'].apply(get_example_words)"
      ],
      "execution_count": 12,
      "outputs": [
        {
          "output_type": "stream",
          "name": "stdout",
          "text": [
            "time: 13.2 ms (started: 2021-12-01 04:31:54 +00:00)\n"
          ]
        }
      ]
    },
    {
      "cell_type": "code",
      "metadata": {
        "colab": {
          "base_uri": "https://localhost:8080/",
          "height": 224
        },
        "id": "diEgicQqj3UW",
        "outputId": "5364c733-91b9-4f2d-8c07-f868a2d388e9"
      },
      "source": [
        "test_slice"
      ],
      "execution_count": 13,
      "outputs": [
        {
          "output_type": "execute_result",
          "data": {
            "text/html": [
              "<div>\n",
              "<style scoped>\n",
              "    .dataframe tbody tr th:only-of-type {\n",
              "        vertical-align: middle;\n",
              "    }\n",
              "\n",
              "    .dataframe tbody tr th {\n",
              "        vertical-align: top;\n",
              "    }\n",
              "\n",
              "    .dataframe thead th {\n",
              "        text-align: right;\n",
              "    }\n",
              "</style>\n",
              "<table border=\"1\" class=\"dataframe\">\n",
              "  <thead>\n",
              "    <tr style=\"text-align: right;\">\n",
              "      <th></th>\n",
              "      <th>Hanzi</th>\n",
              "      <th>Meaning</th>\n",
              "      <th>Notes</th>\n",
              "      <th>Words</th>\n",
              "    </tr>\n",
              "  </thead>\n",
              "  <tbody>\n",
              "    <tr>\n",
              "      <th>10</th>\n",
              "      <td>口</td>\n",
              "      <td>mouth</td>\n",
              "      <td>kǒu</td>\n",
              "      <td>NaN</td>\n",
              "    </tr>\n",
              "    <tr>\n",
              "      <th>11</th>\n",
              "      <td>目</td>\n",
              "      <td>eye</td>\n",
              "      <td>mù</td>\n",
              "      <td>NaN</td>\n",
              "    </tr>\n",
              "    <tr>\n",
              "      <th>12</th>\n",
              "      <td>古</td>\n",
              "      <td>ancient</td>\n",
              "      <td>gǔ&lt;br&gt;&lt;br&gt;pictograph of gravestone. Someone an...</td>\n",
              "      <td>NaN</td>\n",
              "    </tr>\n",
              "    <tr>\n",
              "      <th>13</th>\n",
              "      <td>胡</td>\n",
              "      <td>recklessly</td>\n",
              "      <td>\"hú&lt;br&gt;&lt;br&gt;people &lt;b&gt;wrecklessly&lt;/b&gt;&amp;nbsp;play...</td>\n",
              "      <td>NaN</td>\n",
              "    </tr>\n",
              "    <tr>\n",
              "      <th>14</th>\n",
              "      <td>吾</td>\n",
              "      <td>I (literary)</td>\n",
              "      <td>wú&lt;br&gt;&lt;br&gt;I am nothing more than 5 major body ...</td>\n",
              "      <td>NaN</td>\n",
              "    </tr>\n",
              "  </tbody>\n",
              "</table>\n",
              "</div>"
            ],
            "text/plain": [
              "   Hanzi  ... Words\n",
              "10     口  ...   NaN\n",
              "11     目  ...   NaN\n",
              "12     古  ...   NaN\n",
              "13     胡  ...   NaN\n",
              "14     吾  ...   NaN\n",
              "\n",
              "[5 rows x 4 columns]"
            ]
          },
          "metadata": {},
          "execution_count": 13
        },
        {
          "output_type": "stream",
          "name": "stdout",
          "text": [
            "time: 24.9 ms (started: 2021-12-01 04:31:57 +00:00)\n"
          ]
        }
      ]
    },
    {
      "cell_type": "markdown",
      "metadata": {
        "id": "RFhujKkfqCip"
      },
      "source": [
        "Test done. Time for actual conversion"
      ]
    },
    {
      "cell_type": "code",
      "metadata": {
        "id": "ugHxL4ptrVGN",
        "outputId": "155d4600-84b9-4b0a-9c07-9be3b9ff8f11",
        "colab": {
          "base_uri": "https://localhost:8080/"
        }
      },
      "source": [
        "!pip install ipython-autotime\n",
        "\n",
        "%load_ext autotime"
      ],
      "execution_count": 11,
      "outputs": [
        {
          "output_type": "stream",
          "name": "stdout",
          "text": [
            "Collecting ipython-autotime\n",
            "  Downloading ipython_autotime-0.3.1-py2.py3-none-any.whl (6.8 kB)\n",
            "Requirement already satisfied: ipython in /usr/local/lib/python3.7/dist-packages (from ipython-autotime) (5.5.0)\n",
            "Requirement already satisfied: setuptools>=18.5 in /usr/local/lib/python3.7/dist-packages (from ipython->ipython-autotime) (57.4.0)\n",
            "Requirement already satisfied: pygments in /usr/local/lib/python3.7/dist-packages (from ipython->ipython-autotime) (2.6.1)\n",
            "Requirement already satisfied: traitlets>=4.2 in /usr/local/lib/python3.7/dist-packages (from ipython->ipython-autotime) (5.1.1)\n",
            "Requirement already satisfied: pickleshare in /usr/local/lib/python3.7/dist-packages (from ipython->ipython-autotime) (0.7.5)\n",
            "Requirement already satisfied: simplegeneric>0.8 in /usr/local/lib/python3.7/dist-packages (from ipython->ipython-autotime) (0.8.1)\n",
            "Requirement already satisfied: pexpect in /usr/local/lib/python3.7/dist-packages (from ipython->ipython-autotime) (4.8.0)\n",
            "Requirement already satisfied: prompt-toolkit<2.0.0,>=1.0.4 in /usr/local/lib/python3.7/dist-packages (from ipython->ipython-autotime) (1.0.18)\n",
            "Requirement already satisfied: decorator in /usr/local/lib/python3.7/dist-packages (from ipython->ipython-autotime) (4.4.2)\n",
            "Requirement already satisfied: wcwidth in /usr/local/lib/python3.7/dist-packages (from prompt-toolkit<2.0.0,>=1.0.4->ipython->ipython-autotime) (0.2.5)\n",
            "Requirement already satisfied: six>=1.9.0 in /usr/local/lib/python3.7/dist-packages (from prompt-toolkit<2.0.0,>=1.0.4->ipython->ipython-autotime) (1.15.0)\n",
            "Requirement already satisfied: ptyprocess>=0.5 in /usr/local/lib/python3.7/dist-packages (from pexpect->ipython->ipython-autotime) (0.7.0)\n",
            "Installing collected packages: ipython-autotime\n",
            "Successfully installed ipython-autotime-0.3.1\n",
            "time: 157 µs (started: 2021-12-01 04:31:36 +00:00)\n"
          ]
        }
      ]
    },
    {
      "cell_type": "code",
      "metadata": {
        "colab": {
          "base_uri": "https://localhost:8080/",
          "height": 224
        },
        "id": "gnALU9IWreum",
        "outputId": "be2bb177-bc1d-4106-af25-770f8541d2af"
      },
      "source": [
        "old.head(5)"
      ],
      "execution_count": 14,
      "outputs": [
        {
          "output_type": "execute_result",
          "data": {
            "text/html": [
              "<div>\n",
              "<style scoped>\n",
              "    .dataframe tbody tr th:only-of-type {\n",
              "        vertical-align: middle;\n",
              "    }\n",
              "\n",
              "    .dataframe tbody tr th {\n",
              "        vertical-align: top;\n",
              "    }\n",
              "\n",
              "    .dataframe thead th {\n",
              "        text-align: right;\n",
              "    }\n",
              "</style>\n",
              "<table border=\"1\" class=\"dataframe\">\n",
              "  <thead>\n",
              "    <tr style=\"text-align: right;\">\n",
              "      <th></th>\n",
              "      <th>Hanzi</th>\n",
              "      <th>Meaning</th>\n",
              "      <th>Notes</th>\n",
              "      <th>Words</th>\n",
              "    </tr>\n",
              "  </thead>\n",
              "  <tbody>\n",
              "    <tr>\n",
              "      <th>0</th>\n",
              "      <td>一</td>\n",
              "      <td>one</td>\n",
              "      <td>yī</td>\n",
              "      <td>NaN</td>\n",
              "    </tr>\n",
              "    <tr>\n",
              "      <th>1</th>\n",
              "      <td>二</td>\n",
              "      <td>two</td>\n",
              "      <td>èr</td>\n",
              "      <td>NaN</td>\n",
              "    </tr>\n",
              "    <tr>\n",
              "      <th>2</th>\n",
              "      <td>三</td>\n",
              "      <td>three</td>\n",
              "      <td>sān</td>\n",
              "      <td>NaN</td>\n",
              "    </tr>\n",
              "    <tr>\n",
              "      <th>3</th>\n",
              "      <td>四</td>\n",
              "      <td>four</td>\n",
              "      <td>sì</td>\n",
              "      <td>NaN</td>\n",
              "    </tr>\n",
              "    <tr>\n",
              "      <th>4</th>\n",
              "      <td>五</td>\n",
              "      <td>five</td>\n",
              "      <td>wǔ</td>\n",
              "      <td>NaN</td>\n",
              "    </tr>\n",
              "  </tbody>\n",
              "</table>\n",
              "</div>"
            ],
            "text/plain": [
              "  Hanzi Meaning Notes  Words\n",
              "0     一     one    yī    NaN\n",
              "1     二     two    èr    NaN\n",
              "2     三   three   sān    NaN\n",
              "3     四    four    sì    NaN\n",
              "4     五    five    wǔ    NaN"
            ]
          },
          "metadata": {},
          "execution_count": 14
        },
        {
          "output_type": "stream",
          "name": "stdout",
          "text": [
            "time: 16.9 ms (started: 2021-12-01 04:32:19 +00:00)\n"
          ]
        }
      ]
    },
    {
      "cell_type": "code",
      "metadata": {
        "id": "ERTmiKe8mTeD"
      },
      "source": [
        "old['Words'] = old['Hanzi'].apply(get_example_words)"
      ],
      "execution_count": null,
      "outputs": []
    },
    {
      "cell_type": "markdown",
      "metadata": {
        "id": "euWbzH02XteM"
      },
      "source": [
        "Improved hunt with more common words"
      ]
    },
    {
      "cell_type": "code",
      "metadata": {
        "colab": {
          "base_uri": "https://localhost:8080/"
        },
        "id": "3ydWCeRyqibu",
        "outputId": "394917f7-3d5a-4d5b-dc28-f30ceb220e0b"
      },
      "source": [
        "for ch in test_slice.Hanzi:\n",
        "  print(ch)\n",
        "  #I noticed the search bar populates with the hex code of the character\n",
        "  #ex. 四 -> ox56db -> /5/56DB (the first number is repeated)\n",
        "  tail = str(hex(ord(ch))).upper()[2:] \n",
        "  url = f'http://chinese-characters.org/contained/{tail[0]}/{tail}.html'\n",
        "  print(url)"
      ],
      "execution_count": 22,
      "outputs": [
        {
          "output_type": "stream",
          "name": "stdout",
          "text": [
            "口\n",
            "http://chinese-characters.org/contained/5/53E3.html\n",
            "目\n",
            "http://chinese-characters.org/contained/7/76EE.html\n",
            "古\n",
            "http://chinese-characters.org/contained/5/53E4.html\n",
            "胡\n",
            "http://chinese-characters.org/contained/8/80E1.html\n",
            "吾\n",
            "http://chinese-characters.org/contained/5/543E.html\n",
            "time: 8.57 ms (started: 2021-12-01 05:00:13 +00:00)\n"
          ]
        }
      ]
    },
    {
      "cell_type": "code",
      "metadata": {
        "id": "mT99LPGAt486"
      },
      "source": [
        ""
      ],
      "execution_count": null,
      "outputs": []
    }
  ]
}