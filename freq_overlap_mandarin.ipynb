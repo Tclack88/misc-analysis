{
  "nbformat": 4,
  "nbformat_minor": 0,
  "metadata": {
    "colab": {
      "name": "freq_overlap_mandarin.ipynb",
      "provenance": [],
      "authorship_tag": "ABX9TyNedZutEMRUyeIIuxaGxNpr",
      "include_colab_link": true
    },
    "kernelspec": {
      "name": "python3",
      "display_name": "Python 3"
    },
    "language_info": {
      "name": "python"
    }
  },
  "cells": [
    {
      "cell_type": "markdown",
      "metadata": {
        "id": "view-in-github",
        "colab_type": "text"
      },
      "source": [
        "<a href=\"https://colab.research.google.com/github/Tclack88/misc-analysis/blob/main/freq_overlap_mandarin.ipynb\" target=\"_parent\"><img src=\"https://colab.research.google.com/assets/colab-badge.svg\" alt=\"Open In Colab\"/></a>"
      ]
    },
    {
      "cell_type": "code",
      "metadata": {
        "id": "QqkPyqCOAcjG"
      },
      "source": [
        "# sources:  refold: https://drive.google.com/drive/folders/1HyLEQlqm3IJ3tREVAw3n97kMtDCQCb_D?usp=sharing\n",
        "#           heisig: https://docs.google.com/spreadsheets/d/1azf6QcVXt_UMXJJPo06TXNLDli4BL7hbUfPO83cF7HA/htmlview\n",
        "#           frequency: https://lingua.mtsu.edu/chinese-computing/statistics/  # not used. Wiki is used instead\n",
        "refold_data = \"https://raw.githubusercontent.com/Tclack88/misc-analysis/main/mandarin_frequency_analysis/refold_1k.txt\"\n",
        "heisig_data = \"https://raw.githubusercontent.com/Tclack88/misc-analysis/main/mandarin_frequency_analysis/heisig1.csv\"\n",
        "frequency_data = \"https://raw.githubusercontent.com/Tclack88/misc-analysis/main/mandarin_frequency_analysis/charfreq_modern.csv\""
      ],
      "execution_count": 1,
      "outputs": []
    },
    {
      "cell_type": "code",
      "metadata": {
        "id": "EWG9YygPAyIM"
      },
      "source": [
        "import pandas as pd"
      ],
      "execution_count": 2,
      "outputs": []
    },
    {
      "cell_type": "code",
      "metadata": {
        "colab": {
          "base_uri": "https://localhost:8080/"
        },
        "id": "53fCmMYFAz-_",
        "outputId": "83547cf1-0c18-4c3b-c259-0f489fc00eb5"
      },
      "source": [
        "refold_words = pd.read_csv(refold_data, delimiter='\\t', header=None)[1]\n",
        "refold_words.head()"
      ],
      "execution_count": 3,
      "outputs": [
        {
          "output_type": "execute_result",
          "data": {
            "text/plain": [
              "0    的\n",
              "1    我\n",
              "2    你\n",
              "3    是\n",
              "4    了\n",
              "Name: 1, dtype: object"
            ]
          },
          "metadata": {},
          "execution_count": 3
        }
      ]
    },
    {
      "cell_type": "code",
      "metadata": {
        "colab": {
          "base_uri": "https://localhost:8080/"
        },
        "id": "TMp4ODjFA3Jl",
        "outputId": "4e96b08b-2013-4fce-c01f-abc947472a8c"
      },
      "source": [
        "heisig_words = pd.read_csv(heisig_data, delimiter='\\t')['Hanzi']\n",
        "heisig_words.head()"
      ],
      "execution_count": 4,
      "outputs": [
        {
          "output_type": "execute_result",
          "data": {
            "text/plain": [
              "0    一\n",
              "1    二\n",
              "2    三\n",
              "3    四\n",
              "4    五\n",
              "Name: Hanzi, dtype: object"
            ]
          },
          "metadata": {},
          "execution_count": 4
        }
      ]
    },
    {
      "cell_type": "code",
      "metadata": {
        "colab": {
          "base_uri": "https://localhost:8080/"
        },
        "id": "_Zo9l1M1D2Af",
        "outputId": "373b628a-a4eb-4fa1-e6c4-7a8abd92145b"
      },
      "source": [
        "computing_freq = pd.read_csv(frequency_data, delimiter='\\t', header=5)['汉字']\n",
        "computing_freq.head()\n"
      ],
      "execution_count": 12,
      "outputs": [
        {
          "output_type": "execute_result",
          "data": {
            "text/plain": [
              "0    的\n",
              "1    一\n",
              "2    是\n",
              "3    不\n",
              "4    了\n",
              "Name: 汉字, dtype: object"
            ]
          },
          "metadata": {},
          "execution_count": 12
        }
      ]
    },
    {
      "cell_type": "code",
      "metadata": {
        "colab": {
          "base_uri": "https://localhost:8080/"
        },
        "id": "Zlh4hXstFNZS",
        "outputId": "4fed2e25-9036-4488-daea-ec7ea7ad90dc"
      },
      "source": [
        "wiki_freq1_dat = \"https://en.wiktionary.org/wiki/Appendix:Mandarin_Frequency_lists/1-1000\"\n",
        "wiki_freq1 = pd.read_html(wiki_freq1_dat)[0].iloc[:,:2].dropna()['Simplified']#[['Traditional','Simiplified','Pinyin']]\n",
        "wiki_freq1.head()"
      ],
      "execution_count": 6,
      "outputs": [
        {
          "output_type": "execute_result",
          "data": {
            "text/plain": [
              "0    一\n",
              "2    在\n",
              "4    有\n",
              "5    个\n",
              "7    我\n",
              "Name: Simplified, dtype: object"
            ]
          },
          "metadata": {},
          "execution_count": 6
        }
      ]
    },
    {
      "cell_type": "code",
      "metadata": {
        "colab": {
          "base_uri": "https://localhost:8080/"
        },
        "id": "6biF8jxmHiPT",
        "outputId": "5d1b6a3d-09e3-48bf-c1fb-25de5b1d0d35"
      },
      "source": [
        "wiki_freq2_dat = \"https://en.wiktionary.org/wiki/Appendix:Mandarin_Frequency_lists/1001-2000\"\n",
        "wiki_freq2 = pd.read_html(wiki_freq2_dat)[0].iloc[:,:2].dropna()['Simplified']#[['Traditional','Simiplified','Pinyin']]\n",
        "wiki_freq2.head()"
      ],
      "execution_count": 7,
      "outputs": [
        {
          "output_type": "execute_result",
          "data": {
            "text/plain": [
              "0    回家\n",
              "1    独立\n",
              "2    英国\n",
              "3    投资\n",
              "4    理论\n",
              "Name: Simplified, dtype: object"
            ]
          },
          "metadata": {},
          "execution_count": 7
        }
      ]
    },
    {
      "cell_type": "code",
      "metadata": {
        "colab": {
          "base_uri": "https://localhost:8080/"
        },
        "id": "bfd-1lKBLxwl",
        "outputId": "d6cad68b-0d71-4f4e-eb1c-2279f95254a2"
      },
      "source": [
        "word_frequency = pd.concat([wiki_freq1,wiki_freq2]).reset_index()['Simplified']\n",
        "word_frequency.head()"
      ],
      "execution_count": 8,
      "outputs": [
        {
          "output_type": "execute_result",
          "data": {
            "text/plain": [
              "0    一\n",
              "1    在\n",
              "2    有\n",
              "3    个\n",
              "4    我\n",
              "Name: Simplified, dtype: object"
            ]
          },
          "metadata": {},
          "execution_count": 8
        }
      ]
    },
    {
      "cell_type": "code",
      "metadata": {
        "colab": {
          "base_uri": "https://localhost:8080/"
        },
        "id": "Mz6Wms7dMaaM",
        "outputId": "4f436b67-9349-4315-f073-37ab2a372db0"
      },
      "source": [
        "def basic_percent(source_list, master_list):\n",
        "  total = 0\n",
        "  occurence = 0\n",
        "  for i,source in enumerate(source_list):\n",
        "    # if i % 100 == 0:\n",
        "    #   print(source)\n",
        "    total += 1\n",
        "    if source in master_list:\n",
        "      occurence +=1\n",
        "  print('percent similar:', occurence/total * 100)\n",
        "  print(total)\n",
        "  print(occurence)\n",
        "\n",
        "basic_percent(list(refold_words)[:1000], list(word_frequency)[:1000])"
      ],
      "execution_count": 9,
      "outputs": [
        {
          "output_type": "stream",
          "name": "stdout",
          "text": [
            "percent similar: 45.5\n",
            "1000\n",
            "455\n"
          ]
        }
      ]
    },
    {
      "cell_type": "code",
      "metadata": {
        "id": "iywtezOIQs58",
        "outputId": "679b3512-d4c9-4726-aac5-10658cc4fa0c",
        "colab": {
          "base_uri": "https://localhost:8080/"
        }
      },
      "source": [
        "basic_percent((refold_words)[:1000], list(computing_freq)[:1000])"
      ],
      "execution_count": 16,
      "outputs": [
        {
          "output_type": "stream",
          "name": "stdout",
          "text": [
            "percent similar: 27.200000000000003\n",
            "1000\n",
            "272\n"
          ]
        }
      ]
    },
    {
      "cell_type": "code",
      "metadata": {
        "id": "n10K4Dw0Ca3F"
      },
      "source": [
        ""
      ],
      "execution_count": null,
      "outputs": []
    }
  ]
}