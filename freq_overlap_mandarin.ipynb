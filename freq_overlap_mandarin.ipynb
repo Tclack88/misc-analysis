{
  "nbformat": 4,
  "nbformat_minor": 0,
  "metadata": {
    "colab": {
      "name": "freq_overlap_mandarin.ipynb",
      "provenance": [],
      "authorship_tag": "ABX9TyMZorojr3693jN/p77MDkRO",
      "include_colab_link": true
    },
    "kernelspec": {
      "name": "python3",
      "display_name": "Python 3"
    },
    "language_info": {
      "name": "python"
    }
  },
  "cells": [
    {
      "cell_type": "markdown",
      "metadata": {
        "id": "view-in-github",
        "colab_type": "text"
      },
      "source": [
        "<a href=\"https://colab.research.google.com/github/Tclack88/misc-analysis/blob/main/freq_overlap_mandarin.ipynb\" target=\"_parent\"><img src=\"https://colab.research.google.com/assets/colab-badge.svg\" alt=\"Open In Colab\"/></a>"
      ]
    },
    {
      "cell_type": "code",
      "metadata": {
        "id": "QqkPyqCOAcjG"
      },
      "source": [
        "refold_data = \"https://raw.githubusercontent.com/Tclack88/misc-analysis/main/mandarin_frequency_analysis/refold_1k.txt\"\n",
        "heisig_data = \"https://raw.githubusercontent.com/Tclack88/misc-analysis/main/mandarin_frequency_analysis/heisig1.csv\"\n",
        "frequency_data = \"https://raw.githubusercontent.com/Tclack88/misc-analysis/main/mandarin_frequency_analysis/charfreq_modern.csv\""
      ],
      "execution_count": 13,
      "outputs": []
    },
    {
      "cell_type": "code",
      "metadata": {
        "id": "EWG9YygPAyIM"
      },
      "source": [
        "import pandas as pd"
      ],
      "execution_count": 2,
      "outputs": []
    },
    {
      "cell_type": "code",
      "metadata": {
        "colab": {
          "base_uri": "https://localhost:8080/"
        },
        "id": "53fCmMYFAz-_",
        "outputId": "a812c918-4a5c-48e4-e3f5-6c595592cab7"
      },
      "source": [
        "refold_words = pd.read_csv(refold_data, delimiter='\\t', header=None)[1]\n",
        "refold_words"
      ],
      "execution_count": 26,
      "outputs": [
        {
          "output_type": "execute_result",
          "data": {
            "text/plain": [
              "0       的\n",
              "1       我\n",
              "2       你\n",
              "3       是\n",
              "4       了\n",
              "       ..\n",
              "995    辛苦\n",
              "996    然而\n",
              "997    耐心\n",
              "998    将来\n",
              "999    沙发\n",
              "Name: 1, Length: 1000, dtype: object"
            ]
          },
          "metadata": {},
          "execution_count": 26
        }
      ]
    },
    {
      "cell_type": "code",
      "metadata": {
        "colab": {
          "base_uri": "https://localhost:8080/"
        },
        "id": "TMp4ODjFA3Jl",
        "outputId": "6c5c9eb2-c6eb-4966-aa61-bf667d9c3ba2"
      },
      "source": [
        "heisig_words = pd.read_csv(heisig_data, delimiter='\\t')['Hanzi']\n",
        "heisig_words"
      ],
      "execution_count": 27,
      "outputs": [
        {
          "output_type": "execute_result",
          "data": {
            "text/plain": [
              "0       一\n",
              "1       二\n",
              "2       三\n",
              "3       四\n",
              "4       五\n",
              "       ..\n",
              "1495    亦\n",
              "1496    极\n",
              "1497    杂\n",
              "1498    曰\n",
              "1499    乱\n",
              "Name: Hanzi, Length: 1500, dtype: object"
            ]
          },
          "metadata": {},
          "execution_count": 27
        }
      ]
    },
    {
      "cell_type": "code",
      "metadata": {
        "colab": {
          "base_uri": "https://localhost:8080/"
        },
        "id": "_Zo9l1M1D2Af",
        "outputId": "181b5ec1-87c6-437e-b206-13b2f1744e70"
      },
      "source": [
        "pd.read_csv(frequency_data, delimiter='\\t', header=5)['汉字']\n"
      ],
      "execution_count": 28,
      "outputs": [
        {
          "output_type": "execute_result",
          "data": {
            "text/plain": [
              "0       的\n",
              "1       一\n",
              "2       是\n",
              "3       不\n",
              "4       了\n",
              "       ..\n",
              "9928    鱀\n",
              "9929    鱄\n",
              "9930    鱓\n",
              "9931    鲖\n",
              "9932    鴒\n",
              "Name: 汉字, Length: 9933, dtype: object"
            ]
          },
          "metadata": {},
          "execution_count": 28
        }
      ]
    },
    {
      "cell_type": "code",
      "metadata": {
        "colab": {
          "base_uri": "https://localhost:8080/"
        },
        "id": "Zlh4hXstFNZS",
        "outputId": "6af7ab1d-d67b-47c7-ec9a-95235f5d2496"
      },
      "source": [
        "wiki_freq1_dat = \"https://en.wiktionary.org/wiki/Appendix:Mandarin_Frequency_lists/1-1000\"\n",
        "wiki_freq1 = pd.read_html(wiki_freq1_dat)[0].iloc[:,:2].dropna()['Simplified']#[['Traditional','Simiplified','Pinyin']]\n",
        "wiki_freq1"
      ],
      "execution_count": 58,
      "outputs": [
        {
          "output_type": "execute_result",
          "data": {
            "text/plain": [
              "0         一\n",
              "2         在\n",
              "4         有\n",
              "5         个\n",
              "7         我\n",
              "       ... \n",
              "1133     感情\n",
              "1134     儿子\n",
              "1135    这样子\n",
              "1136      起\n",
              "1138     全部\n",
              "Name: Simplified, Length: 908, dtype: object"
            ]
          },
          "metadata": {},
          "execution_count": 58
        }
      ]
    },
    {
      "cell_type": "code",
      "metadata": {
        "colab": {
          "base_uri": "https://localhost:8080/"
        },
        "id": "6biF8jxmHiPT",
        "outputId": "6417e317-fea0-4430-a698-ffec2bd39516"
      },
      "source": [
        "wiki_freq2_dat = \"https://en.wiktionary.org/wiki/Appendix:Mandarin_Frequency_lists/1001-2000\"\n",
        "wiki_freq2 = pd.read_html(wiki_freq2_dat)[0].iloc[:,:2].dropna()['Simplified']#[['Traditional','Simiplified','Pinyin']]\n",
        "wiki_freq2"
      ],
      "execution_count": 63,
      "outputs": [
        {
          "output_type": "execute_result",
          "data": {
            "text/plain": [
              "0       回家\n",
              "1       独立\n",
              "2       英国\n",
              "3       投资\n",
              "4       理论\n",
              "      ... \n",
              "944     体制\n",
              "945    经济部\n",
              "946     感受\n",
              "947    负责人\n",
              "948     阳光\n",
              "Name: Simplified, Length: 949, dtype: object"
            ]
          },
          "metadata": {},
          "execution_count": 63
        }
      ]
    },
    {
      "cell_type": "code",
      "metadata": {
        "colab": {
          "base_uri": "https://localhost:8080/"
        },
        "id": "bfd-1lKBLxwl",
        "outputId": "3bff6d30-6926-492f-941a-12ad2f048211"
      },
      "source": [
        "#wiki_freq = \n",
        "word_frequency = pd.concat([wiki_freq1,wiki_freq2]).reset_index()['Simplified']\n",
        "word_frequency"
      ],
      "execution_count": 69,
      "outputs": [
        {
          "output_type": "execute_result",
          "data": {
            "text/plain": [
              "0         一\n",
              "1         在\n",
              "2         有\n",
              "3         个\n",
              "4         我\n",
              "       ... \n",
              "1852     体制\n",
              "1853    经济部\n",
              "1854     感受\n",
              "1855    负责人\n",
              "1856     阳光\n",
              "Name: Simplified, Length: 1857, dtype: object"
            ]
          },
          "metadata": {},
          "execution_count": 69
        }
      ]
    },
    {
      "cell_type": "code",
      "metadata": {
        "colab": {
          "base_uri": "https://localhost:8080/"
        },
        "id": "Mz6Wms7dMaaM",
        "outputId": "c7692154-af21-41c4-909b-9843fd1f49fc"
      },
      "source": [
        "def basic_percent(source_list, master_list):\n",
        "  total = 0\n",
        "  occurence = 0\n",
        "  for i,source in enumerate(source_list):\n",
        "    # if i % 100 == 0:\n",
        "    #   print(source)\n",
        "    total += 1\n",
        "    if source in master_list:\n",
        "      occurence +=1\n",
        "  print('percent similar:', occurence/total * 100)\n",
        "  print(total)\n",
        "  print(occurence)\n",
        "\n",
        "basic_percent(list(refold_words)[:1000], list(word_frequency)[:1000])"
      ],
      "execution_count": 93,
      "outputs": [
        {
          "output_type": "stream",
          "name": "stdout",
          "text": [
            "percent similar: 45.5\n",
            "1000\n",
            "455\n"
          ]
        }
      ]
    },
    {
      "cell_type": "code",
      "metadata": {
        "colab": {
          "base_uri": "https://localhost:8080/"
        },
        "id": "7_cZqxM7QCSb",
        "outputId": "73db987d-0e0c-4c3c-eeb1-6a55245c6998"
      },
      "source": [
        "list(word_frequency)[:10]"
      ],
      "execution_count": 77,
      "outputs": [
        {
          "output_type": "execute_result",
          "data": {
            "text/plain": [
              "['一', '在', '有', '个', '我', '不', '这', '了', '他', '也']"
            ]
          },
          "metadata": {},
          "execution_count": 77
        }
      ]
    },
    {
      "cell_type": "code",
      "metadata": {
        "colab": {
          "base_uri": "https://localhost:8080/"
        },
        "id": "YDsZT9QrQmbG",
        "outputId": "b11120c7-ce97-44fa-e615-d15bdf169022"
      },
      "source": [
        "list(heisig_words)[:10]"
      ],
      "execution_count": 78,
      "outputs": [
        {
          "output_type": "execute_result",
          "data": {
            "text/plain": [
              "['一', '二', '三', '四', '五', '六', '七', '八', '九', '十']"
            ]
          },
          "metadata": {},
          "execution_count": 78
        }
      ]
    },
    {
      "cell_type": "code",
      "metadata": {
        "id": "iywtezOIQs58"
      },
      "source": [
        ""
      ],
      "execution_count": null,
      "outputs": []
    }
  ]
}